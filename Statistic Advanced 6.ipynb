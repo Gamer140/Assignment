{
 "cells": [
  {
   "cell_type": "code",
   "execution_count": 4,
   "id": "0a308187",
   "metadata": {},
   "outputs": [
    {
     "name": "stdout",
     "output_type": "stream",
     "text": [
      "(38.792986361975274, 61.20701363802473)\n"
     ]
    }
   ],
   "source": [
    "#Answer 1:\n",
    "import scipy.stats as stats\n",
    "\n",
    "sample_mean = 50\n",
    "sample_deviation = 5\n",
    "confidence = 0.95\n",
    "\n",
    "confidence_interval = stats.norm.interval((1+confidence)/2,loc=sample_mean,scale=sample_deviation)\n",
    "print(confidence_interval)"
   ]
  },
  {
   "cell_type": "code",
   "execution_count": 5,
   "id": "6d3b26da",
   "metadata": {},
   "outputs": [
    {
     "name": "stdout",
     "output_type": "stream",
     "text": [
      "Observed Value [18 23 19  9  8 23]\n",
      "Expected Value [20 20 20 10 10 20]\n",
      "Significance value 0.05\n",
      "Chi square value 1.6500000000000001\n",
      "Critical value 1.1454762260617692\n",
      "reject null hypothesis\n"
     ]
    }
   ],
   "source": [
    "#Answer 2: We have here taken a random sample data for observed value\n",
    "import numpy as np\n",
    "import scipy.stats as stats\n",
    "\n",
    "expected = np.array([20,20,20,10,10,20])\n",
    "observed = np.array([18,23,19,9,8,23])\n",
    "dof = len(expected) - 1\n",
    "significance_value = 0.05\n",
    "\n",
    "test_value,p_value = stats.chisquare(f_exp=expected,f_obs=observed,ddof=dof)\n",
    "critical_value = stats.chi2.ppf(significance_value,dof)\n",
    "\n",
    "print(\"Observed Value\",observed)\n",
    "print(\"Expected Value\",expected)\n",
    "print(\"Significance value\",significance_value)\n",
    "print(\"Chi square value\",test_value)\n",
    "print(\"Critical value\",critical_value)\n",
    "\n",
    "if test_value > critical_value:\n",
    "    print(\"reject null hypothesis\")\n",
    "else:\n",
    "    print(\"accept null hypothesis\")"
   ]
  },
  {
   "cell_type": "code",
   "execution_count": 6,
   "id": "3a5a8fcc",
   "metadata": {},
   "outputs": [
    {
     "name": "stdout",
     "output_type": "stream",
     "text": [
      "Chi2 Statistic: 2.3759\n",
      "P-value: 0.3048\n"
     ]
    }
   ],
   "source": [
    "#Answer 3:\n",
    "import numpy as np\n",
    "from scipy.stats import chi2_contingency\n",
    "\n",
    "data = np.array([[20, 25], [10, 25], [15, 20]]) # Group A, Group B\n",
    "chi2, p, dof, expected = chi2_contingency(data)\n",
    "\n",
    "print(f\"Chi2 Statistic: {chi2:.4f}\")\n",
    "print(f\"P-value: {p:.4f}\")\n"
   ]
  },
  {
   "cell_type": "code",
   "execution_count": 8,
   "id": "a7ecbd70",
   "metadata": {},
   "outputs": [
    {
     "name": "stdout",
     "output_type": "stream",
     "text": [
      "0.09151638887130706 0.14848361112869293\n"
     ]
    }
   ],
   "source": [
    "#Answer 4:\n",
    "from statsmodels.stats.proportion import proportion_confint\n",
    "\n",
    "n = 500\n",
    "x = 60\n",
    "significance_value = 0.05\n",
    "\n",
    "lower,upper = proportion_confint(x,n,alpha = significance_value, method='normal')\n",
    "print(lower,upper)"
   ]
  },
  {
   "cell_type": "code",
   "execution_count": 3,
   "id": "82de450e",
   "metadata": {},
   "outputs": [
    {
     "name": "stdout",
     "output_type": "stream",
     "text": [
      "51.48043218551935 98.51956781448065\n"
     ]
    }
   ],
   "source": [
    "#Answer 5:\n",
    "import numpy as np\n",
    "import scipy.stats as stats\n",
    "\n",
    "mean = 75\n",
    "standard_deviation = 12\n",
    "confidence = 0.95\n",
    "\n",
    "data = np.random.normal(75,12,100)\n",
    "lower,upper = stats.norm.interval(confidence = 0.95,loc=mean,scale=standard_deviation)\n",
    "\n",
    "print(lower,upper)"
   ]
  },
  {
   "cell_type": "code",
   "execution_count": 11,
   "id": "2fc404a6",
   "metadata": {},
   "outputs": [
    {
     "data": {
      "image/png": "[encoded data removed]",
      "text/plain": [
       "<Figure size 640x480 with 1 Axes>"
      ]
     },
     "metadata": {},
     "output_type": "display_data"
    }
   ],
   "source": [
    "#Answer 6:\n",
    "import numpy as np\n",
    "from scipy.stats import chi2\n",
    "import matplotlib.pyplot as plt\n",
    "\n",
    "x = np.linspace(0, 30, 1000)\n",
    "df = 10\n",
    "\n",
    "plt.plot(x, chi2.pdf(x, df), label=f'df={df}')\n",
    "plt.xlabel('x')\n",
    "plt.ylabel('Density')\n",
    "chi2_stat = 15\n",
    "\n",
    "plt.fill_between(x, chi2.pdf(x, df), where=(x >= chi2_stat), color='red', alpha=0.5)\n",
    "plt.axvline(chi2_stat, color='red', linestyle='--', label=f'x={chi2_stat}')\n",
    "plt.legend()\n",
    "plt.show()\n",
    "\n"
   ]
  },
  {
   "cell_type": "code",
   "execution_count": 9,
   "id": "3d7bc235",
   "metadata": {},
   "outputs": [
    {
     "name": "stdout",
     "output_type": "stream",
     "text": [
      "0.4793051576779699 0.5606948423220302\n"
     ]
    }
   ],
   "source": [
    "#Answer 7:\n",
    "from statsmodels.stats.proportion import proportion_confint\n",
    "\n",
    "n = 1000\n",
    "x = 520\n",
    "significance_value = 0.01\n",
    "\n",
    "lower,upper = proportion_confint(x,n,alpha = significance_value, method='normal')\n",
    "print(lower,upper)"
   ]
  },
  {
   "cell_type": "code",
   "execution_count": 11,
   "id": "b340e68c",
   "metadata": {},
   "outputs": [
    {
     "name": "stdout",
     "output_type": "stream",
     "text": [
      "nan 1.0\n",
      "accept the null hypothesis\n"
     ]
    }
   ],
   "source": [
    "#Answer 8:\n",
    "import scipy.stats as stats\n",
    "\n",
    "observed = [45,55]\n",
    "expected = [50,50]\n",
    "dof = len(observed) - 1\n",
    "significance = 0.05\n",
    "\n",
    "chi_square,p_value = stats.chisquare(f_exp=expected,f_obs=observed,ddof=dof)\n",
    "critical_value = stats.chi2.ppf(significance,dof)\n",
    "\n",
    "print(p_value,chi_square)\n",
    "if chi_square < critical_value:\n",
    "    print(\"Reject the null Hypothesis\")\n",
    "else:\n",
    "    print(\"accept the null hypothesis\")"
   ]
  },
  {
   "cell_type": "code",
   "execution_count": 23,
   "id": "05c4e44b",
   "metadata": {},
   "outputs": [
    {
     "name": "stdout",
     "output_type": "stream",
     "text": [
      "Chi-square statistic: 12.06\n",
      "p-value: 0.0005\n",
      "Degrees of freedom: 1\n",
      "Expected frequencies: [[ 45. 155.]\n",
      " [ 45. 155.]]\n",
      "There is a significant association between smoking status and lung cancer diagnosis.\n"
     ]
    }
   ],
   "source": [
    "#Answer 9:\n",
    "import scipy.stats as stats\n",
    "from scipy.stats import chi2_contingency\n",
    "\n",
    "observed = [[60, 140], [30, 170]]\n",
    "\n",
    "chi2_stat, p_value, dof, expected = chi2_contingency(observed,)\n",
    "\n",
    "print(f'Chi-square statistic: {chi2_stat:.2f}')\n",
    "print(f'p-value: {p_value:.4f}')\n",
    "print(f'Degrees of freedom: {dof}')\n",
    "print(f'Expected frequencies: {expected}')\n",
    "\n",
    "alpha = 0.05\n",
    "\n",
    "alpha = 0.05\n",
    "\n",
    "if p_value < alpha:\n",
    "    print(\"There is a significant association between smoking status and lung cancer diagnosis.\")\n",
    "else:\n",
    "    print(\"There is no significant association between smoking status and lung cancer diagnosis.\")"
   ]
  },
  {
   "cell_type": "code",
   "execution_count": 21,
   "id": "a50a680f",
   "metadata": {},
   "outputs": [
    {
     "name": "stdout",
     "output_type": "stream",
     "text": [
      "Chi-square statistic: 13.39\n",
      "p-value: 0.0012\n",
      "Degrees of freedom: 2\n",
      "Expected frequencies: [[212.5 162.5 125. ]\n",
      " [212.5 162.5 125. ]]\n",
      "There is a significant association between chocolate preference.\n"
     ]
    }
   ],
   "source": [
    "#Answer 10:\n",
    "import scipy.stats as stats\n",
    "\n",
    "observed = [[200,150,150],[225,175,100]]\n",
    "\n",
    "chi2_stat,p_value,dof,expected = stats.chi2_contingency(observed)\n",
    "\n",
    "print(f'Chi-square statistic: {chi2_stat:.2f}')\n",
    "print(f'p-value: {p_value:.4f}')\n",
    "print(f'Degrees of freedom: {dof}')\n",
    "print(f'Expected frequencies: {expected}')\n",
    "\n",
    "alpha = 0.01\n",
    "\n",
    "if p_value < alpha:\n",
    "    print(\"There is a significant association between chocolate preference.\")\n",
    "else:\n",
    "    print(\"There is no association between chocolate preference.\")"
   ]
  },
  {
   "cell_type": "code",
   "execution_count": 30,
   "id": "075ed9ff",
   "metadata": {},
   "outputs": [
    {
     "name": "stdout",
     "output_type": "stream",
     "text": [
      "T-statistic: 1.0954451150103321\n",
      "Critical t-value: 2.045229642132703\n",
      "Fail to reject the null hypothesis. There is no significant evidence of a difference.\n"
     ]
    }
   ],
   "source": [
    "#Answer 11: \n",
    "import scipy.stats as stats\n",
    "\n",
    "sample_size = 30\n",
    "sample_mean = 72\n",
    "sample_stddev = 10\n",
    "population_mean = 70\n",
    "significance_level = 0.05\n",
    "\n",
    "standard_error = sample_stddev / (sample_size ** 0.5)\n",
    "t_statistic = (sample_mean - population_mean) / standard_error\n",
    "\n",
    "degrees_of_freedom = sample_size - 1\n",
    "\n",
    "critical_t_value = stats.t.ppf(1 - significance_level / 2, degrees_of_freedom)\n",
    "\n",
    "print(f\"T-statistic: {t_statistic}\")\n",
    "print(f\"Critical t-value: {critical_t_value}\")\n",
    "\n",
    "if abs(t_statistic) > critical_t_value:\n",
    "    print(\"Reject the null hypothesis. The population mean is significantly different from 70.\")\n",
    "else:\n",
    "    print(\"Fail to reject the null hypothesis. There is no significant evidence of a difference.\")\n"
   ]
  },
  {
   "cell_type": "code",
   "execution_count": null,
   "id": "bada06a4",
   "metadata": {},
   "outputs": [],
   "source": []
  }
 ],
 "metadata": {
  "kernelspec": {
   "display_name": "Python 3 (ipykernel)",
   "language": "python",
   "name": "python3"
  },
  "language_info": {
   "codemirror_mode": {
    "name": "ipython",
    "version": 3
   },
   "file_extension": ".py",
   "mimetype": "text/x-python",
   "name": "python",
   "nbconvert_exporter": "python",
   "pygments_lexer": "ipython3",
   "version": "3.11.3"
  }
 },
 "nbformat": 4,
 "nbformat_minor": 5
}
