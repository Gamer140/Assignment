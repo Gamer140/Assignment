{
 "cells": [
  {
   "cell_type": "code",
   "execution_count": 7,
   "id": "498b4471",
   "metadata": {},
   "outputs": [
    {
     "name": "stdout",
     "output_type": "stream",
     "text": [
      "F-value: 0.8192\n",
      "p-value: 0.8387\n"
     ]
    }
   ],
   "source": [
    "#Answer 1:\n",
    "import numpy as np\n",
    "from scipy import stats\n",
    "\n",
    "def f_test(x, y):\n",
    "    x = np.array(x)\n",
    "    y = np.array(y)\n",
    "    f = np.var(x, ddof=1) / np.var(y, ddof=1)\n",
    "    dfn = x.size - 1\n",
    "    dfd = y.size - 1\n",
    "    p_value = 1 - stats.f.cdf(f, dfn, dfd)\n",
    "    return f, p_value\n",
    "\n",
    "np.random.seed(0)\n",
    "x = np.random.gamma(shape=2, scale=1, size=100)\n",
    "y = np.random.gamma(shape=3, scale=1, size=100)\n",
    "\n",
    "f_value, p_value = f_test(x, y)\n",
    "print(f'F-value: {f_value:.4f}')\n",
    "print(f'p-value: {p_value:.4f}')\n"
   ]
  },
  {
   "cell_type": "code",
   "execution_count": null,
   "id": "5c0dbfdf",
   "metadata": {},
   "outputs": [],
   "source": [
    "#Answer 2\n",
    "from scipy import stats\n",
    "\n",
    "def f_critical_value(alpha, dfn, dfd):\n",
    "    f_critical = stats.f.ppf(1 - alpha/2, dfn, dfd)\n",
    "    return f_critical"
   ]
  },
  {
   "cell_type": "code",
   "execution_count": 12,
   "id": "859f4f31",
   "metadata": {},
   "outputs": [
    {
     "name": "stdout",
     "output_type": "stream",
     "text": [
      "Degree of freedom 49\n",
      "F value 1.319638852543007\n",
      "P value 0.16745272632354058\n"
     ]
    }
   ],
   "source": [
    "# Answer 3\n",
    "from scipy import stats\n",
    "import numpy as np\n",
    "\n",
    "x = np.random.normal(loc=3,scale=1,size=50)\n",
    "y = np.random.normal(loc=5,scale=1,size=50)\n",
    "\n",
    "f_value = np.var(x,ddof=1)/np.var(y,ddof=1)\n",
    "x_dof = x.size -1\n",
    "y_dof = y.size -1\n",
    "p_value = 1 - stats.f.cdf(f_value,x_dof,y_dof)\n",
    "\n",
    "print(\"Degree of freedom\",x_dof)\n",
    "print(\"F value\",f_value)\n",
    "print(\"P value\",p_value)"
   ]
  },
  {
   "cell_type": "code",
   "execution_count": 15,
   "id": "0a09d3ea",
   "metadata": {},
   "outputs": [
    {
     "name": "stdout",
     "output_type": "stream",
     "text": [
      "Fail to reject the null hypothesis\n"
     ]
    }
   ],
   "source": [
    "#Answer 4:\n",
    "import numpy as np\n",
    "import scipy.stats as stats\n",
    "\n",
    "x_var = 10\n",
    "y_var = 15\n",
    "\n",
    "alpha = 0.05\n",
    "f_value = 10/15\n",
    "critical_value = stats.f.ppf(q=1-alpha,dfn=12,dfd=12)\n",
    "\n",
    "if f_value > critical_value:\n",
    "    print(\"Reject the null hypothesis that the 2 variances are equal\")\n",
    "else:\n",
    "    print(\"Fail to reject the null hypothesis\")"
   ]
  },
  {
   "cell_type": "code",
   "execution_count": 16,
   "id": "c445b900",
   "metadata": {},
   "outputs": [
    {
     "name": "stdout",
     "output_type": "stream",
     "text": [
      "Reject the null hypothesis\n"
     ]
    }
   ],
   "source": [
    "#Answer 5:\n",
    "import numpy as np\n",
    "from scipy import stats\n",
    "\n",
    "df = 25\n",
    "x_var = 0.005\n",
    "y_var = 0.006\n",
    "alpha = 0.01\n",
    "\n",
    "f_value = x_var/y_var\n",
    "dof = df - 1\n",
    "p_value = stats.f.cdf(alpha,dof,dof)\n",
    "\n",
    "if p_value < alpha:\n",
    "    print(\"Reject the null hypothesis\")\n",
    "else:\n",
    "    print(\"Fail to reject the null hypothesis\")"
   ]
  },
  {
   "cell_type": "code",
   "execution_count": 10,
   "id": "f2d7c0df",
   "metadata": {},
   "outputs": [
    {
     "data": {
      "text/plain": [
       "(1.2857142857142858, 1.586938775510204)"
      ]
     },
     "execution_count": 10,
     "metadata": {},
     "output_type": "execute_result"
    }
   ],
   "source": [
    "#Answer 6\n",
    "import numpy as np\n",
    "from scipy import stats\n",
    "\n",
    "def mean_variance(dof1,dof2):\n",
    "    if dof2 > 2:\n",
    "        mean = dof2/(dof2-2)\n",
    "    else: \n",
    "        float('nan')\n",
    "    if dof2 > 4:\n",
    "        variance = (2 * dof2**2 * (dof1 + dof2 - 2)) / (dof1 * (dof2 - 2)**2 * (dof2 - 4))\n",
    "    else :\n",
    "        float('nan')\n",
    "    return (mean,variance)\n",
    "\n",
    "mean_variance(5,9)"
   ]
  },
  {
   "cell_type": "code",
   "execution_count": 14,
   "id": "e4e9e015",
   "metadata": {},
   "outputs": [
    {
     "name": "stdout",
     "output_type": "stream",
     "text": [
      "Fail to reject the null hypothesis\n"
     ]
    }
   ],
   "source": [
    "#Answer 7:\n",
    "from scipy import stats\n",
    "\n",
    "n1 = 10\n",
    "n2 = 15\n",
    "var_1 = 25\n",
    "var_2 = 20\n",
    "significance = 0.1\n",
    "\n",
    "f_value = var_1/var_2\n",
    "\n",
    "critical_value = stats.f.ppf(q=1-significance,dfn=n1,dfd=n2)\n",
    "\n",
    "if f_value > critical_value:\n",
    "    print(\"Reject the null hypothesis\")\n",
    "else:\n",
    "    print(\"Fail to reject the null hypothesis\")"
   ]
  },
  {
   "cell_type": "code",
   "execution_count": 16,
   "id": "a7586f7f",
   "metadata": {},
   "outputs": [
    {
     "name": "stdout",
     "output_type": "stream",
     "text": [
      "Fail to reject the null hypothesis\n"
     ]
    }
   ],
   "source": [
    "#Answer 8:\n",
    "from scipy import stats\n",
    "import numpy as np\n",
    "\n",
    "x = np.array([24,25,28,23,22,20,27])\n",
    "y = np.array([31,33,35,30,32,36])\n",
    "significance = 0.05\n",
    "\n",
    "f = np.var(x,ddof=1)/np.var(y,ddof=1)\n",
    "\n",
    "dfn = x.size-1\n",
    "dfd = y.size-1\n",
    "\n",
    "critical_value = stats.f.ppf(q = 1 - significance/2,dfn=dfn,dfd=dfd)\n",
    "\n",
    "if f_value > critical_value:\n",
    "    print(\"Reject the null hypothesis\")\n",
    "else:\n",
    "    print(\"Fail to reject the null hypothesis\")"
   ]
  },
  {
   "cell_type": "code",
   "execution_count": 18,
   "id": "2fce9fcd",
   "metadata": {},
   "outputs": [
    {
     "name": "stdout",
     "output_type": "stream",
     "text": [
      "Fail to reject the null hypothesis\n"
     ]
    }
   ],
   "source": [
    "#Answer 9:\n",
    "from scipy import stats\n",
    "import numpy as np\n",
    "\n",
    "x = np.array([80, 85, 90, 92, 87, 83])\n",
    "y = np.array([75, 78, 82, 79, 81, 84])\n",
    "significance = 0.01\n",
    "\n",
    "f = np.var(x,ddof=1)/np.var(y,ddof=1)\n",
    "\n",
    "dfn = x.size-1\n",
    "dfd = y.size-1\n",
    "\n",
    "critical_value = stats.f.ppf(1-significance,dfn,dfd)\n",
    "\n",
    "if f_value > critical_value:\n",
    "    print(\"Reject the null hypothesis\")\n",
    "else:\n",
    "    print(\"Fail to reject the null hypothesis\")"
   ]
  },
  {
   "cell_type": "code",
   "execution_count": null,
   "id": "dc03d0dc",
   "metadata": {},
   "outputs": [],
   "source": []
  }
 ],
 "metadata": {
  "kernelspec": {
   "display_name": "Python 3 (ipykernel)",
   "language": "python",
   "name": "python3"
  },
  "language_info": {
   "codemirror_mode": {
    "name": "ipython",
    "version": 3
   },
   "file_extension": ".py",
   "mimetype": "text/x-python",
   "name": "python",
   "nbconvert_exporter": "python",
   "pygments_lexer": "ipython3",
   "version": "3.11.3"
  }
 },
 "nbformat": 4,
 "nbformat_minor": 5
}
