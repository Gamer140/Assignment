{
 "cells": [
  {
   "cell_type": "code",
   "execution_count": 3,
   "id": "82d09f66-08c9-4efc-b971-398cf6a83674",
   "metadata": {},
   "outputs": [
    {
     "name": "stdin",
     "output_type": "stream",
     "text": [
      "Type inthe percentage 59\n"
     ]
    },
    {
     "name": "stdout",
     "output_type": "stream",
     "text": [
      "D\n"
     ]
    }
   ],
   "source": [
    "a = int(input(\"Type inthe percentage\"))\n",
    "if a>90:\n",
    "    print(\"A\")\n",
    "elif a>80 and a<=90:\n",
    "    print(\"B\")\n",
    "elif a>=60 and a<=80:\n",
    "    print(\"C\")\n",
    "elif a<60:\n",
    "    print(\"D\")"
   ]
  },
  {
   "cell_type": "code",
   "execution_count": 7,
   "id": "f7ae04a2-02fc-4f98-8ac6-6f2778933042",
   "metadata": {},
   "outputs": [
    {
     "name": "stdin",
     "output_type": "stream",
     "text": [
      "Type in the percentage 50001\n"
     ]
    },
    {
     "name": "stdout",
     "output_type": "stream",
     "text": [
      "10% TAX\n"
     ]
    }
   ],
   "source": [
    "b = int(input(\"Type in the percentage\"))\n",
    "if b>100000:\n",
    "    print(\"15% TAX\")\n",
    "elif b>50000 and b<=100000:\n",
    "    print(\"10% TAX\")\n",
    "elif b<=50000:\n",
    "    print(\"5% TAX\")"
   ]
  },
  {
   "cell_type": "code",
   "execution_count": 9,
   "id": "af116730-1a99-4d30-98bb-c61da2a77a17",
   "metadata": {},
   "outputs": [
    {
     "name": "stdin",
     "output_type": "stream",
     "text": [
      "Enter the city Delhi\n"
     ]
    },
    {
     "name": "stdout",
     "output_type": "stream",
     "text": [
      "RedFort\n"
     ]
    }
   ],
   "source": [
    "c = input(\"Enter the city\")\n",
    "if c == \"Delhi\":\n",
    "    print(\"RedFort\")\n",
    "elif c == \"Agra\":\n",
    "    print(\"Tajmahal\")\n",
    "elif c == \"Jaipur\":\n",
    "    print(\"Jai Mahal\")"
   ]
  },
  {
   "cell_type": "code",
   "execution_count": 10,
   "id": "bea02b73-680c-41f3-902a-0bbbc7f5f1bf",
   "metadata": {},
   "outputs": [
    {
     "name": "stdin",
     "output_type": "stream",
     "text": [
      "Enter any number 300\n"
     ]
    },
    {
     "name": "stdout",
     "output_type": "stream",
     "text": [
      "4\n"
     ]
    }
   ],
   "source": [
    "d = float(input(\"Enter any number\"))\n",
    "a=0\n",
    "while d>10:\n",
    "    d=d/3\n",
    "    a+=1\n",
    "print(a)"
   ]
  },
  {
   "cell_type": "code",
   "execution_count": 12,
   "id": "8c6aaaca-5445-4f03-90f5-e7f936da0fa5",
   "metadata": {},
   "outputs": [
    {
     "name": "stdout",
     "output_type": "stream",
     "text": [
      "10\n",
      "9\n",
      "8\n",
      "7\n",
      "6\n",
      "5\n",
      "4\n",
      "3\n",
      "2\n",
      "1\n"
     ]
    }
   ],
   "source": [
    "#Answer 5\n",
    "#A while loop is a type of loop in Python that is used to execute a block of code repeatedly as long as a certain condition is true.\n",
    "#The syntax of a while loop is as follows:\n",
    "'''\n",
    "Syntax: while condition:\n",
    "    # block of code to be executed\n",
    "'''\n",
    "'''\n",
    "A while loop can be used when you need to perform an action repeatedly until a specific condition is met.\n",
    "For example, you can use a while loop to keep subtracting a value from a variable until it reaches zero.\n",
    "'''\n",
    "x = 10\n",
    "while x > 0:\n",
    "    print(x)\n",
    "    x -= 1"
   ]
  },
  {
   "cell_type": "code",
   "execution_count": 14,
   "id": "1e5946b5-4199-485d-89af-33cee495af90",
   "metadata": {},
   "outputs": [
    {
     "name": "stdout",
     "output_type": "stream",
     "text": [
      "1 \n",
      "1 2 \n",
      "1 2 3 \n",
      "1 2 3 4 \n",
      "1 2 3 4 5 \n",
      "\n",
      "\n",
      "*****\n",
      "****\n",
      "***\n",
      "**\n",
      "*\n",
      "1\n",
      "01\n",
      "101\n",
      "0101\n",
      "10101\n"
     ]
    },
    {
     "data": {
      "text/plain": [
       "'\\n1\\n01\\n101\\n0101\\n10101\\n'"
      ]
     },
     "execution_count": 14,
     "metadata": {},
     "output_type": "execute_result"
    }
   ],
   "source": [
    "#Answer 6\n",
    "n=1\n",
    "while n<6:\n",
    "    a=''\n",
    "    m=1\n",
    "    while m<=n :\n",
    "        a=a+str(m)+' '\n",
    "        m+=1\n",
    "    print(a)\n",
    "    n+=1\n",
    "'''\n",
    "1\n",
    "1 2\n",
    "1 2 3\n",
    "1 2 3 4\n",
    "1 2 3 4 5\n",
    "'''\n",
    "print(\"\\n\")\n",
    "\n",
    "z = 5\n",
    "while z>=1:\n",
    "    print('*'*z)\n",
    "    z-=1\n",
    "\n",
    "'''\n",
    "*****\n",
    "****\n",
    "***\n",
    "**\n",
    "*\n",
    "'''\n",
    "\n",
    "t = 1\n",
    "u = 0\n",
    "v = 0\n",
    "while t<=5:\n",
    "    \n",
    "    if t%2 == 1:\n",
    "        print('1'+'01'*(u))\n",
    "        u+=1\n",
    "    elif t%2 == 0:\n",
    "        print('01'+ '01'*(v))\n",
    "        v+=1\n",
    "    t+=1\n",
    "'''\n",
    "1\n",
    "01\n",
    "101\n",
    "0101\n",
    "10101\n",
    "'''"
   ]
  },
  {
   "cell_type": "code",
   "execution_count": 16,
   "id": "fb05336c-78b3-4e08-8c05-bdad0a0ab0e1",
   "metadata": {},
   "outputs": [
    {
     "name": "stdout",
     "output_type": "stream",
     "text": [
      "10\n",
      "9\n",
      "8\n",
      "7\n",
      "6\n",
      "5\n",
      "4\n",
      "3\n",
      "2\n",
      "1\n"
     ]
    }
   ],
   "source": [
    "#Answer for 7 and 8\n",
    "n=10\n",
    "while n>=1:\n",
    "    print(n)\n",
    "    n-=1"
   ]
  },
  {
   "cell_type": "code",
   "execution_count": 19,
   "id": "6538f0ad-01b6-44e9-bf2f-46c50adbdabe",
   "metadata": {},
   "outputs": [
    {
     "data": {
      "text/plain": [
       "[4, 5, 45]"
      ]
     },
     "execution_count": 19,
     "metadata": {},
     "output_type": "execute_result"
    }
   ],
   "source": [
    "q"
   ]
  },
  {
   "cell_type": "code",
   "execution_count": null,
   "id": "04d66e46-fce4-4e91-9bc8-10db2ee1d3ab",
   "metadata": {},
   "outputs": [],
   "source": []
  }
 ],
 "metadata": {
  "kernelspec": {
   "display_name": "Python 3 (ipykernel)",
   "language": "python",
   "name": "python3"
  },
  "language_info": {
   "codemirror_mode": {
    "name": "ipython",
    "version": 3
   },
   "file_extension": ".py",
   "mimetype": "text/x-python",
   "name": "python",
   "nbconvert_exporter": "python",
   "pygments_lexer": "ipython3",
   "version": "3.10.8"
  }
 },
 "nbformat": 4,
 "nbformat_minor": 5
}
