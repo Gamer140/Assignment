{
 "cells": [
  {
   "cell_type": "code",
   "execution_count": 8,
   "id": "d81a7caa-d900-4bab-a7b6-fa40c1398747",
   "metadata": {},
   "outputs": [
    {
     "data": {
      "text/plain": [
       "\"this man's name is sudh\""
      ]
     },
     "execution_count": 8,
     "metadata": {},
     "output_type": "execute_result"
    }
   ],
   "source": [
    "#Answer 1: Abstraction is used to hide the internal functionality of the function from the users.\n",
    "#The users only interact with the basic implementation of the function, but inner working is hidden.\n",
    "#User is familiar with that \"what function does\" but they don't know \"how it does.\"\n",
    "import abc\n",
    "\n",
    "class worker:\n",
    "    \n",
    "    @abc.abstractmethod\n",
    "    def man(self):\n",
    "        pass\n",
    "\n",
    "class worker1(worker):\n",
    "    \n",
    "    def man(self,a):\n",
    "        return f\"this man's name is {a}\"\n",
    "\n",
    "rohan = worker1()\n",
    "rohan.man(\"sudh\")\n",
    "# So here the 'worker' is the skeleton of class which meethods will be hidden from users and worker1 is the\n",
    "# implementation of the absstract method"
   ]
  },
  {
   "cell_type": "code",
   "execution_count": 6,
   "id": "ec06d543-45b3-41c8-b433-abbdb6e8bbae",
   "metadata": {},
   "outputs": [],
   "source": [
    "'''\n",
    "Encapsulation hides variables or some implementation that may be changed so often in a class to prevent outsiders access it directly. They must access it via getter and setter methods.\n",
    "Abstraction is used to hide something too, but in a higher degree (class, interface). Clients who use an abstract class (or interface) do not care about what it was, they just need to know what it can do.\n",
    "'''"
   ]
  },
  {
   "cell_type": "code",
   "execution_count": 7,
   "id": "d3113ba4-5166-457e-9ca2-ec88c0e72873",
   "metadata": {},
   "outputs": [
    {
     "data": {
      "text/plain": [
       "\"this man's name is sudh\""
      ]
     },
     "execution_count": 7,
     "metadata": {},
     "output_type": "execute_result"
    }
   ],
   "source": [
    "#Here is an example of encapsulation in Python:\n",
    "\n",
    "class BankAccount:\n",
    "    def __init__(self, account_number, balance):\n",
    "        self.__account_number = account_number\n",
    "        self.__balance = balance\n",
    "\n",
    "    def deposit(self, amount):\n",
    "        self.__balance += amount\n",
    "\n",
    "    def withdraw(self, amount):\n",
    "        if amount <= self.__balance:\n",
    "            self.__balance -= amount\n",
    "        else:\n",
    "            print(\"Insufficient balance\")\n",
    "\n",
    "    def get_balance(self):\n",
    "        return self.__balance\n",
    "\n",
    "#Here is an example of abstraction in Python:\n",
    "\n",
    "from abc import ABC, abstractmethod\n",
    "\n",
    "class Shape(ABC):\n",
    "    @abstractmethod\n",
    "    def area(self):\n",
    "        pass\n",
    "\n",
    "    @abstractmethod\n",
    "    def perimeter(self):\n",
    "        pass\n",
    "\n",
    "class Circle(Shape):\n",
    "    def __init__(self, radius):\n",
    "        self.__radius = radius\n",
    "\n",
    "    def area(self):\n",
    "        return 3.14 * self.__radius ** 2\n",
    "\n",
    "    def perimeter(self):\n",
    "        return 2 * 3.14 * self.__radius\n",
    "\n",
    "class Rectangle(Shape):\n",
    "    def __init__(self, length, width):\n",
    "        self.__length = length\n",
    "        self.__width = width\n",
    "\n",
    "    def area(self):\n",
    "        return self.__length * self.__width\n",
    "\n",
    "    def perimeter(self):\n",
    "        return 2\n",
    "'''\n",
    "Encapsulation is the practice of hiding the internal details of an object from the outside world and providing a well-defined interface or set of methods for interacting with the object.\n",
    "Encapsulation is achieved in Python by using private attributes and methods, which are denoted by a double underscore prefix, e.g., __attribute or __method().\n",
    "Private attributes and methods can only be accessed within the class that defines them and are not visible or modifiable from the outside.\n",
    "'''\n",
    "'''\n",
    "In this example, the BankAccount class encapsulates the internal details of a bank account, such as the account number and balance, by using private attributes (__account_number and __balance).\n",
    "The class provides a well-defined interface for interacting with the account, which includes methods for depositing, withdrawing, and getting the balance.\n",
    "These methods can only be called from outside the class and provide a layer of abstraction that hides the details of how the account operations are performed.\n",
    "'''"
   ]
  },
  {
   "cell_type": "code",
   "execution_count": 1,
   "id": "dfe17799-3b77-4e79-b139-8f168f0e5bf0",
   "metadata": {},
   "outputs": [],
   "source": [
    "#Answer 3\n",
    "#This module provides the infrastructure for defining abstract base classes (ABCs) in Python\n",
    "#ABCs provide a formal way to define interfaces in Python, while staying true to the spirit of duck-typing.\n",
    "#Besides, this works in a way that honours the Open-Closed Principle."
   ]
  },
  {
   "cell_type": "code",
   "execution_count": 2,
   "id": "461fd7ae-49d7-4670-a3ad-1c86fcac0129",
   "metadata": {},
   "outputs": [],
   "source": [
    "#ANswer 4\n",
    "#In Python, abstraction can be achieved by having/using abstract classes and methods in our programs.\n",
    "#Understanding Abstract Methods and Classes: An abstract method is a method that is declared, but does not contain implementation.\n",
    "#for example:\n",
    "import abc\n",
    "\n",
    "class relation:\n",
    "\n",
    "    def __love__(self):\n",
    "        pass"
   ]
  },
  {
   "cell_type": "code",
   "execution_count": 3,
   "id": "7101a626-a1bf-4b0a-b094-3d1d95969aaf",
   "metadata": {},
   "outputs": [
    {
     "ename": "TypeError",
     "evalue": "Can't instantiate abstract class AbstractClass with abstract method abstract_method",
     "output_type": "error",
     "traceback": [
      "\u001b[0;31m---------------------------------------------------------------------------\u001b[0m",
      "\u001b[0;31mTypeError\u001b[0m                                 Traceback (most recent call last)",
      "Cell \u001b[0;32mIn[3], line 13\u001b[0m\n\u001b[1;32m     10\u001b[0m         \u001b[38;5;28mprint\u001b[39m(\u001b[38;5;124m\"\u001b[39m\u001b[38;5;124mImplementation of abstract_method\u001b[39m\u001b[38;5;124m\"\u001b[39m)\n\u001b[1;32m     12\u001b[0m \u001b[38;5;66;03m# This will raise a TypeError because AbstractClass is an abstract class\u001b[39;00m\n\u001b[0;32m---> 13\u001b[0m obj \u001b[38;5;241m=\u001b[39m \u001b[43mAbstractClass\u001b[49m\u001b[43m(\u001b[49m\u001b[43m)\u001b[49m\n\u001b[1;32m     15\u001b[0m \u001b[38;5;66;03m#If you try to create an instance of the AbstractClass directly, as shown in the last line of the example, a TypeError will be raised.\u001b[39;00m\n\u001b[1;32m     16\u001b[0m \u001b[38;5;66;03m#This restriction is in place to enforce the concept that abstract classes should not be instantiated directly.\u001b[39;00m\n\u001b[1;32m     17\u001b[0m \u001b[38;5;66;03m#Instead, you should create instances of concrete subclasses that provide implementations for all the abstract methods defined in the abstract class.\u001b[39;00m\n",
      "\u001b[0;31mTypeError\u001b[0m: Can't instantiate abstract class AbstractClass with abstract method abstract_method"
     ]
    }
   ],
   "source": [
    "from abc import ABC, abstractmethod\n",
    "\n",
    "class AbstractClass(ABC):\n",
    "    @abstractmethod\n",
    "    def abstract_method(self):\n",
    "        pass\n",
    "\n",
    "class SubClass(AbstractClass):\n",
    "    def abstract_method(self):\n",
    "        print(\"Implementation of abstract_method\")\n",
    "\n",
    "# This will raise a TypeError because AbstractClass is an abstract class\n",
    "obj = AbstractClass()\n",
    "\n",
    "#If you try to create an instance of the AbstractClass directly, as shown in the last line of the example, a TypeError will be raised.\n",
    "#This restriction is in place to enforce the concept that abstract classes should not be instantiated directly.\n",
    "#Instead, you should create instances of concrete subclasses that provide implementations for all the abstract methods defined in the abstract class."
   ]
  },
  {
   "cell_type": "code",
   "execution_count": null,
   "id": "74c5d1c2-eea3-4478-9406-8122d71990e7",
   "metadata": {},
   "outputs": [],
   "source": []
  }
 ],
 "metadata": {
  "kernelspec": {
   "display_name": "Python 3 (ipykernel)",
   "language": "python",
   "name": "python3"
  },
  "language_info": {
   "codemirror_mode": {
    "name": "ipython",
    "version": 3
   },
   "file_extension": ".py",
   "mimetype": "text/x-python",
   "name": "python",
   "nbconvert_exporter": "python",
   "pygments_lexer": "ipython3",
   "version": "3.10.8"
  }
 },
 "nbformat": 4,
 "nbformat_minor": 5
}
