{
 "cells": [
  {
   "cell_type": "code",
   "execution_count": 7,
   "id": "7ef92506-54e9-4374-b827-1546f698389e",
   "metadata": {},
   "outputs": [],
   "source": [
    "#Answer 1: Errors detected during execution are called exceptions\n",
    "# the main difference is the syntax error is when the code is typed incorrectly and\n",
    "# exception is thrown when the code execution has some kind of failure in executing"
   ]
  },
  {
   "cell_type": "code",
   "execution_count": 11,
   "id": "cd01a09c-79c9-4750-bebb-458b809da256",
   "metadata": {},
   "outputs": [
    {
     "name": "stdout",
     "output_type": "stream",
     "text": [
      "I tried\n"
     ]
    },
    {
     "ename": "ZeroDivisionError",
     "evalue": "division by zero",
     "output_type": "error",
     "traceback": [
      "\u001b[0;31m---------------------------------------------------------------------------\u001b[0m",
      "\u001b[0;31mZeroDivisionError\u001b[0m                         Traceback (most recent call last)",
      "Cell \u001b[0;32mIn[11], line 4\u001b[0m\n\u001b[1;32m      1\u001b[0m \u001b[38;5;66;03m#Answer 2 :If the exception is not handled by an except clause, the exception is re-raised after the finally clause has been executed.\u001b[39;00m\n\u001b[1;32m      2\u001b[0m \u001b[38;5;66;03m# Example\u001b[39;00m\n\u001b[1;32m      3\u001b[0m \u001b[38;5;28;01mtry\u001b[39;00m :\n\u001b[0;32m----> 4\u001b[0m     \u001b[38;5;28mprint\u001b[39m(\u001b[38;5;241;43m1\u001b[39;49m\u001b[38;5;241;43m/\u001b[39;49m\u001b[38;5;241;43m0\u001b[39;49m)\n\u001b[1;32m      5\u001b[0m \u001b[38;5;28;01mfinally\u001b[39;00m:\n\u001b[1;32m      6\u001b[0m     \u001b[38;5;28mprint\u001b[39m(\u001b[38;5;124m\"\u001b[39m\u001b[38;5;124mI tried\u001b[39m\u001b[38;5;124m\"\u001b[39m)\n",
      "\u001b[0;31mZeroDivisionError\u001b[0m: division by zero"
     ]
    }
   ],
   "source": [
    "#Answer 2 :If the exception is not handled by an except clause, the exception is re-raised after the finally clause has been executed.\n",
    "# Example\n",
    "try :\n",
    "    print(1/0)\n",
    "finally:\n",
    "    print(\"I tried\")"
   ]
  },
  {
   "cell_type": "code",
   "execution_count": 2,
   "id": "ed62f891-ce70-4be9-83f3-32118f3fc8a8",
   "metadata": {},
   "outputs": [
    {
     "name": "stdout",
     "output_type": "stream",
     "text": [
      "The file is not available\n"
     ]
    }
   ],
   "source": [
    "#Answer 3: The try and except block in Python is used to catch and handle exceptions.\n",
    "#Python executes code following the try statement as a “normal” part of the program.\n",
    "try:\n",
    "    f = open(\"test.txt\", \"r\")\n",
    "except:\n",
    "    print(\"The file is not available\")\n",
    "\n",
    "# Here the code executes if the 2nd lind code does'nt return error then it will be executed otherwise\n",
    "# it will go inside the except block so basically if the file 'test.txt' is not found in the directory it will go\n",
    "# n the except block and execute the custom message in console"
   ]
  },
  {
   "cell_type": "code",
   "execution_count": 3,
   "id": "f1915bdc-a532-4701-a9d0-a20c2edee883",
   "metadata": {},
   "outputs": [],
   "source": [
    "# Answer 4:\n",
    "# a) The try statement just does is if the code runs perfectly in the try block\n",
    "# continue the run of code and if the else block is available then after the execution of try block\n",
    "# it will execute the else block if the try block gives error then it will execute except block\n",
    "# and not the else block\n",
    "# b) finally will always be executes even if the code crashes on last except block even if\n",
    "# it does'nt crashes on try block finally block will still be executes after the try except or else\n",
    "# c) The raise keyword is used to raise an exception."
   ]
  },
  {
   "cell_type": "code",
   "execution_count": 9,
   "id": "a01146d8-0efd-4a2a-9680-80b02d1db453",
   "metadata": {},
   "outputs": [
    {
     "name": "stdin",
     "output_type": "stream",
     "text": [
      "Enter the number of countries in india  56\n"
     ]
    },
    {
     "name": "stdout",
     "output_type": "stream",
     "text": [
      "Error occured Invalid answer\n"
     ]
    }
   ],
   "source": [
    "# Answer 5 : The custom exceptions are user defined exception that are bieng derived\n",
    "# from the Exceptions class and uses the raise keyword to throw that exception\n",
    "# the need of exception depends on the need if there is need of try and except block usage\n",
    "# then we can create a custom exception wighich will be thrown at specific condition and execute the except block\n",
    "# Example\n",
    "class normal(Exception):\n",
    "    \n",
    "    def __init__(self,nor):\n",
    "        self.nor = nor\n",
    "\n",
    "try :\n",
    "    g = int(input(\"Enter the number of countries in india \"))\n",
    "    if g != 28:\n",
    "        raise normal(\"Invalid answer\")\n",
    "except normal as e:\n",
    "    print(\"Error occured\" ,e)\n",
    "    \n",
    "# Here normal class is deriving the exception classes properties and then that class is used to \n",
    "# throw an exception using raise keyword and on a specific condition that is raised"
   ]
  },
  {
   "cell_type": "code",
   "execution_count": 8,
   "id": "e2f70253-e6d4-4d15-95a7-8706966426ed",
   "metadata": {},
   "outputs": [
    {
     "name": "stdin",
     "output_type": "stream",
     "text": [
      "Enter the number of countries in india  28\n"
     ]
    }
   ],
   "source": [
    "class normal(Exception):\n",
    "    \n",
    "    def __init__(self,nor):\n",
    "        self.nor = nor\n",
    "\n",
    "try :\n",
    "    g = int(input(\"Enter the number of countries in india \"))\n",
    "    if g != 28:\n",
    "        raise normal(\"Invalid answer\")\n",
    "except normal as e:\n",
    "    print(\"Error occured\" ,e)"
   ]
  },
  {
   "cell_type": "code",
   "execution_count": 2,
   "id": "83fedd14-b2bb-4e44-a013-046319311bf8",
   "metadata": {},
   "outputs": [
    {
     "data": {
      "text/plain": [
       "10"
      ]
     },
     "execution_count": 2,
     "metadata": {},
     "output_type": "execute_result"
    }
   ],
   "source": []
  },
  {
   "cell_type": "code",
   "execution_count": null,
   "id": "262a36a6-e15d-49ce-ac35-fecdf5e695bb",
   "metadata": {},
   "outputs": [],
   "source": []
  }
 ],
 "metadata": {
  "kernelspec": {
   "display_name": "Python 3 (ipykernel)",
   "language": "python",
   "name": "python3"
  },
  "language_info": {
   "codemirror_mode": {
    "name": "ipython",
    "version": 3
   },
   "file_extension": ".py",
   "mimetype": "text/x-python",
   "name": "python",
   "nbconvert_exporter": "python",
   "pygments_lexer": "ipython3",
   "version": "3.10.8"
  }
 },
 "nbformat": 4,
 "nbformat_minor": 5
}
