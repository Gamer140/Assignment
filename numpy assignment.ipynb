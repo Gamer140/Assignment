{
 "cells": [
  {
   "cell_type": "code",
   "execution_count": 1,
   "id": "a0fb76e0-fe6c-49c8-90d1-6da9cbb6c37c",
   "metadata": {},
   "outputs": [],
   "source": [
    "import numpy as np\n",
    "list_ = [ '1' , '2' , '3' , '4' , '5' ]\n",
    "array_list = np.array(object = list_)"
   ]
  },
  {
   "cell_type": "code",
   "execution_count": 2,
   "id": "13f8f44f-0f08-42f3-9689-dbf84e2395b0",
   "metadata": {},
   "outputs": [
    {
     "name": "stdout",
     "output_type": "stream",
     "text": [
      "<class 'list'>\n",
      "<class 'numpy.ndarray'>\n"
     ]
    }
   ],
   "source": [
    "#Answer 1: Yes there is a difference\n",
    "print(type(list_))\n",
    "print(type(array_list))"
   ]
  },
  {
   "cell_type": "code",
   "execution_count": 4,
   "id": "f423479c-2bf1-4a4c-8b10-4de27ff8c2ce",
   "metadata": {},
   "outputs": [
    {
     "name": "stdout",
     "output_type": "stream",
     "text": [
      "numpy <class 'numpy.ndarray'>\n",
      "numpy <class 'numpy.ndarray'>\n",
      "numpy <class 'numpy.ndarray'>\n",
      "numpy <class 'numpy.ndarray'>\n",
      "numpy <class 'numpy.ndarray'>\n",
      "normal array <class 'str'>\n",
      "normal array <class 'str'>\n",
      "normal array <class 'str'>\n",
      "normal array <class 'str'>\n",
      "normal array <class 'str'>\n"
     ]
    }
   ],
   "source": [
    "#Answer 2:\n",
    "for x in np.nditer(array_list):\n",
    "    print(\"numpy\",type(x))\n",
    "for x in list_:\n",
    "    print(\"normal array\",type(x))"
   ]
  },
  {
   "cell_type": "code",
   "execution_count": 5,
   "id": "eeb5d93a-f436-4c5f-9505-e5e34ef23fb6",
   "metadata": {},
   "outputs": [
    {
     "name": "stdout",
     "output_type": "stream",
     "text": [
      "numpy <class 'numpy.ndarray'>\n",
      "numpy <class 'numpy.ndarray'>\n",
      "numpy <class 'numpy.ndarray'>\n",
      "numpy <class 'numpy.ndarray'>\n",
      "numpy <class 'numpy.ndarray'>\n",
      "normal array <class 'str'>\n",
      "normal array <class 'str'>\n",
      "normal array <class 'str'>\n",
      "normal array <class 'str'>\n",
      "normal array <class 'str'>\n"
     ]
    }
   ],
   "source": [
    "#Answer 3: Yes there is difference\n",
    "for x in np.nditer(array_list):\n",
    "    print(\"numpy\",type(x))\n",
    "for x in list_:\n",
    "    print(\"normal array\",type(x))"
   ]
  },
  {
   "cell_type": "code",
   "execution_count": 7,
   "id": "c94784c1-7e35-4468-98d0-4805e779c63a",
   "metadata": {},
   "outputs": [],
   "source": [
    "import numpy as np\n",
    "num_list = [ [ 1 , 2 , 3 ] , [ 4 , 5 , 6 ] ]\n",
    "num_array = np.array(object = num_list)"
   ]
  },
  {
   "cell_type": "code",
   "execution_count": 8,
   "id": "c7088ce3-c1be-4b95-9918-ba0e5f99f7ff",
   "metadata": {},
   "outputs": [
    {
     "name": "stdout",
     "output_type": "stream",
     "text": [
      "(2, 3)\n",
      "6\n"
     ]
    }
   ],
   "source": [
    "#Answer 4:\n",
    "print(num_array.shape)\n",
    "print(num_array.size)"
   ]
  },
  {
   "cell_type": "code",
   "execution_count": 9,
   "id": "eba9e729-5b8b-4d39-a3a5-9e7576f6aedf",
   "metadata": {},
   "outputs": [
    {
     "name": "stdout",
     "output_type": "stream",
     "text": [
      "[[0. 0. 0.]\n",
      " [0. 0. 0.]\n",
      " [0. 0. 0.]]\n"
     ]
    }
   ],
   "source": [
    "#Answer 5:\n",
    "a = np.zeros((3,3))\n",
    "print(a)"
   ]
  },
  {
   "cell_type": "code",
   "execution_count": 11,
   "id": "aae9287f-f984-4eb3-a754-7c5b899aeebe",
   "metadata": {},
   "outputs": [
    {
     "name": "stdout",
     "output_type": "stream",
     "text": [
      "[[1 0 0 0 0]\n",
      " [0 1 0 0 0]\n",
      " [0 0 1 0 0]\n",
      " [0 0 0 1 0]\n",
      " [0 0 0 0 1]]\n"
     ]
    }
   ],
   "source": [
    "#Answer 6\n",
    "a = np.diag([1,1,1,1,1])\n",
    "print(a)"
   ]
  },
  {
   "cell_type": "code",
   "execution_count": null,
   "id": "8a411673-2b64-4003-ab49-a26bdc1e1664",
   "metadata": {},
   "outputs": [],
   "source": []
  }
 ],
 "metadata": {
  "kernelspec": {
   "display_name": "Python 3 (ipykernel)",
   "language": "python",
   "name": "python3"
  },
  "language_info": {
   "codemirror_mode": {
    "name": "ipython",
    "version": 3
   },
   "file_extension": ".py",
   "mimetype": "text/x-python",
   "name": "python",
   "nbconvert_exporter": "python",
   "pygments_lexer": "ipython3",
   "version": "3.10.8"
  }
 },
 "nbformat": 4,
 "nbformat_minor": 5
}
