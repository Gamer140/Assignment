{
 "cells": [
  {
   "cell_type": "code",
   "execution_count": 2,
   "id": "1b41a313-1e27-449b-948d-a9c35db20eee",
   "metadata": {},
   "outputs": [
    {
     "name": "stdout",
     "output_type": "stream",
     "text": [
      "[1, 3, 5, 7, 9, 11, 13, 15, 17, 19, 21, 23, 25]\n"
     ]
    }
   ],
   "source": [
    "def odd_numbers():\n",
    "    l = []\n",
    "    for i in range(1,26):\n",
    "        if i%2 != 0:\n",
    "            l.append(i)\n",
    "    return l\n",
    "print(odd_numbers())"
   ]
  },
  {
   "cell_type": "code",
   "execution_count": 17,
   "id": "1bc16328-5616-4a42-adaa-e57c03761fea",
   "metadata": {},
   "outputs": [
    {
     "name": "stdout",
     "output_type": "stream",
     "text": [
      "(1, 52, 5, 35, 45, 56, 6, 5, 6)\n",
      "{'a': 2, 'b': 2, 'g': 6, 'p': 4}\n"
     ]
    }
   ],
   "source": [
    "#Answer 2: *args:single asterik is used to determine that there are no determined number of arguments to the function\n",
    "# and they are not key-value pair\n",
    "\n",
    "def test1(*a):\n",
    "    return a\n",
    "print(test1(1,52,5,35,45,56,6,5,6))\n",
    "# Ad these are individual arguments not in tuple\n",
    "\n",
    "#Answer 3: **kwargs are used for the same purpose for but are paired with variable given with and keyword\n",
    "# will be there variable value\n",
    "\n",
    "def test2(**b):\n",
    "    return b\n",
    "print(test2(a=2,b=2,g=6,p=4))"
   ]
  },
  {
   "cell_type": "code",
   "execution_count": 3,
   "id": "f04b5602-e5b9-4868-83c5-df262e7013ad",
   "metadata": {},
   "outputs": [
    {
     "name": "stdout",
     "output_type": "stream",
     "text": [
      "2\n",
      "4\n",
      "6\n",
      "8\n",
      "10\n"
     ]
    }
   ],
   "source": [
    "#Answer 3:an iterator is an object that allows you to iterate over collections of data, such as lists, tuples, \n",
    "# dictionaries and sets. __iter__ method is used to initialize an iterator and __next__ is used to iterate through\n",
    "#the element\n",
    "a = [2,4,6,8,10,12,14,16,18,20]\n",
    "a = iter(a)\n",
    "for i in range(0,5):\n",
    "    print(next(a))"
   ]
  },
  {
   "cell_type": "code",
   "execution_count": 70,
   "id": "88dadd81-df9b-40df-b025-ea82867ee2d3",
   "metadata": {},
   "outputs": [],
   "source": [
    "# Answer4 Generator function is a function which obtains a new value on every iteration \n",
    "# of the object\n",
    "# yield keyword is used to produce a value from the generator and pause the generator\n",
    "# function's execution until the next value is requested\n",
    "\n",
    "def my_fabi(p):\n",
    "    a,b = 0,1\n",
    "    for i in range(p):\n",
    "        yield a\n",
    "        a,b =b,a+b "
   ]
  },
  {
   "cell_type": "code",
   "execution_count": 71,
   "id": "56c2a26d-189c-4cdb-a144-8aae25f1cefe",
   "metadata": {},
   "outputs": [],
   "source": [
    "m = my_fabi(9)"
   ]
  },
  {
   "cell_type": "code",
   "execution_count": 72,
   "id": "b77f709b-2b9d-4ca1-9ea3-5d5ecd6021e2",
   "metadata": {},
   "outputs": [
    {
     "name": "stdout",
     "output_type": "stream",
     "text": [
      "0\n",
      "1\n",
      "1\n",
      "2\n",
      "3\n",
      "5\n",
      "8\n",
      "13\n",
      "21\n"
     ]
    }
   ],
   "source": [
    "for i in m:\n",
    "    print(i)"
   ]
  },
  {
   "cell_type": "code",
   "execution_count": 3,
   "id": "7fcd2b7f-3a39-4118-8502-79d0b4383fd9",
   "metadata": {},
   "outputs": [
    {
     "name": "stdout",
     "output_type": "stream",
     "text": [
      "2\n",
      "3\n",
      "5\n",
      "7\n",
      "11\n",
      "13\n",
      "17\n",
      "19\n",
      "23\n",
      "29\n",
      "31\n",
      "37\n",
      "41\n",
      "43\n",
      "47\n",
      "53\n",
      "59\n",
      "61\n",
      "67\n",
      "71\n"
     ]
    }
   ],
   "source": [
    "def prime_num():\n",
    "    \n",
    "    for i in range(2,1001):\n",
    "        c = 0\n",
    "        b = 1\n",
    "        a = i/2\n",
    "        while a>=b:\n",
    "            if i%b == 0:\n",
    "                c+=1\n",
    "            b+=1\n",
    "            \n",
    "        if c<2:\n",
    "            yield i\n",
    "        \n",
    "d = prime_num()\n",
    "for i in range(20):\n",
    "    print(next(d))"
   ]
  },
  {
   "cell_type": "code",
   "execution_count": 5,
   "id": "4c0f267d-b6b6-4dba-97de-a1dab07ee78c",
   "metadata": {},
   "outputs": [
    {
     "name": "stdout",
     "output_type": "stream",
     "text": [
      "0\n",
      "1\n",
      "1\n",
      "2\n",
      "3\n",
      "5\n",
      "8\n",
      "13\n",
      "21\n",
      "34\n"
     ]
    }
   ],
   "source": [
    "a = 1\n",
    "b = 0\n",
    "c = 1\n",
    "while c<=10:\n",
    "    print(b)\n",
    "    a,b = b,a+b\n",
    "    c+=1"
   ]
  },
  {
   "cell_type": "code",
   "execution_count": 2,
   "id": "d49720bd-053b-44ad-9e67-66a7915008d5",
   "metadata": {},
   "outputs": [
    {
     "data": {
      "text/plain": [
       "['p', 'w', 's', 'k', 'i', 'l', 'l', 's']"
      ]
     },
     "execution_count": 2,
     "metadata": {},
     "output_type": "execute_result"
    }
   ],
   "source": [
    "[p for p in 'pwskills']"
   ]
  },
  {
   "cell_type": "code",
   "execution_count": 10,
   "id": "aaf188ff-dd84-4377-a952-6a3cf29a9f6f",
   "metadata": {},
   "outputs": [
    {
     "name": "stdin",
     "output_type": "stream",
     "text": [
      "Enter the palindrome word radar\n"
     ]
    },
    {
     "name": "stdout",
     "output_type": "stream",
     "text": [
      "word is palindrome\n"
     ]
    }
   ],
   "source": [
    "a = input('Enter the palindrome word')\n",
    "b = 1\n",
    "c = ''\n",
    "while b<=len(a):\n",
    "    c+=a[b*-1]\n",
    "    b+=1\n",
    "if a==c:\n",
    "    print('word is palindrome')"
   ]
  },
  {
   "cell_type": "code",
   "execution_count": 13,
   "id": "9f480225-d7cb-4071-a0bd-a3d96927446e",
   "metadata": {},
   "outputs": [
    {
     "data": {
      "text/plain": [
       "[1,\n",
       " 3,\n",
       " 5,\n",
       " 7,\n",
       " 9,\n",
       " 11,\n",
       " 13,\n",
       " 15,\n",
       " 17,\n",
       " 19,\n",
       " 21,\n",
       " 23,\n",
       " 25,\n",
       " 27,\n",
       " 29,\n",
       " 31,\n",
       " 33,\n",
       " 35,\n",
       " 37,\n",
       " 39,\n",
       " 41,\n",
       " 43,\n",
       " 45,\n",
       " 47,\n",
       " 49,\n",
       " 51,\n",
       " 53,\n",
       " 55,\n",
       " 57,\n",
       " 59,\n",
       " 61,\n",
       " 63,\n",
       " 65,\n",
       " 67,\n",
       " 69,\n",
       " 71,\n",
       " 73,\n",
       " 75,\n",
       " 77,\n",
       " 79,\n",
       " 81,\n",
       " 83,\n",
       " 85,\n",
       " 87,\n",
       " 89,\n",
       " 91,\n",
       " 93,\n",
       " 95,\n",
       " 97,\n",
       " 99]"
      ]
     },
     "execution_count": 13,
     "metadata": {},
     "output_type": "execute_result"
    }
   ],
   "source": [
    "l = [p for p in range(1,101)]\n",
    "[r for r in l if r%2 != 0]"
   ]
  },
  {
   "cell_type": "code",
   "execution_count": null,
   "id": "f6034528-fbc7-46f7-a04a-408cda7a7f51",
   "metadata": {},
   "outputs": [],
   "source": []
  }
 ],
 "metadata": {
  "kernelspec": {
   "display_name": "Python 3 (ipykernel)",
   "language": "python",
   "name": "python3"
  },
  "language_info": {
   "codemirror_mode": {
    "name": "ipython",
    "version": 3
   },
   "file_extension": ".py",
   "mimetype": "text/x-python",
   "name": "python",
   "nbconvert_exporter": "python",
   "pygments_lexer": "ipython3",
   "version": "3.10.8"
  }
 },
 "nbformat": 4,
 "nbformat_minor": 5
}
