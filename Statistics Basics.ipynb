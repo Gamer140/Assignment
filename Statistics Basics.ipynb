{
 "cells": [
  {
   "cell_type": "code",
   "execution_count": null,
   "id": "29252459-1c80-4ccd-a94e-07ecad297195",
   "metadata": {},
   "outputs": [],
   "source": [
    "#Answer 1: Statistics is the science of collecting,organizing and analyzing data"
   ]
  },
  {
   "cell_type": "code",
   "execution_count": null,
   "id": "24e86a68-36e5-4d5c-be3d-6063aba61cf1",
   "metadata": {},
   "outputs": [],
   "source": [
    "#Answer 2:Descriptive Statistics\n",
    "'''\n",
    "Descriptive statistics mostly focus on the central tendency, variability, and distribution of sample data.\n",
    "Central tendency means the estimate of the characteristics, a typical element of a sample or population.\n",
    "It includes descriptive statistics such as mean, median, and mode.\n",
    "'''\n",
    "# Example such as mean median mode\n",
    "\n",
    "#Inferential Statistics\n",
    "'''\n",
    "Inferential statistics are tools that statisticians use to draw conclusions about the characteristics of a\n",
    "population, drawn from the characteristics of a sample, and to determine how certain they can be of the reliability\n",
    "of those conclusions.\n",
    "'''\n",
    "#Example Inferential statistics are used to make generalizations about large groups, such as estimating average\n",
    "# demand for a product by surveying a sample of consumers' buying habits or attempting to predict future events."
   ]
  },
  {
   "cell_type": "code",
   "execution_count": null,
   "id": "812ae84e-6cd5-4032-9fb2-94b3aa86c105",
   "metadata": {},
   "outputs": [],
   "source": [
    "#Answer 3: So there are 4 Types of Data: Nominal, Ordinal, Discrete, and Continuous.\n",
    "#Nominal and ordinal are generally text and discrete and continous are numerical data\n",
    "'''\n",
    "Examples of Nominal Data :\n",
    "\n",
    "Colour of hair (Blonde, red, Brown, Black, etc.)\n",
    "Marital status (Single, Widowed, Married)\n",
    "Nationality (Indian, German, American)\n",
    "Gender (Male, Female, Others)\n",
    "Eye Color (Black, Brown, etc.)\n",
    "'''\n",
    "'''\n",
    "Examples of Ordinal Data :\n",
    "When companies ask for feedback, experience, or satisfaction on a scale of 1 to 10\n",
    "Letter grades in the exam (A, B, C, D, etc.)\n",
    "Ranking of people in a competition (First, Second, Third, etc.)\n",
    "Economic Status (High, Medium, and Low)\n",
    "Education Level (Higher, Secondary, Primary)\n",
    "'''\n",
    "# Example of discrete data Examples: Total students in a class, number of days in a week, size of a shoe, etc\n",
    "# Continous data examples Temperature of room, the weight of a person, length of an object, etc\n",
    "# Discrete data is a whole number and continous data can be any number\n",
    "# Ordinal data has a rank for values and nominal data does'nt have any ranks"
   ]
  },
  {
   "cell_type": "code",
   "execution_count": null,
   "id": "34e4d52f-c6f7-4d45-98b1-d80a8a0c5e38",
   "metadata": {},
   "outputs": [],
   "source": [
    "#Answer 4: \n",
    "# 1. Qualitative\n",
    "# 2. Quantitative\n",
    "# 3. Qualitative\n",
    "# 4. Quantitative"
   ]
  },
  {
   "cell_type": "code",
   "execution_count": null,
   "id": "b2cfb578-e21c-4c26-9e73-5ce8b5a23f75",
   "metadata": {},
   "outputs": [],
   "source": [
    "#Answer 5:\n",
    "'''\n",
    "There are 4 levels of measurement:\n",
    "\n",
    "Nominal: the data can only be categorized\n",
    "Ordinal: the data can be categorized and ranked\n",
    "Interval: the data can be categorized, ranked, and evenly spaced\n",
    "Ratio: the data can be categorized, ranked, evenly spaced, and has a natural zero.\n",
    "'''"
   ]
  },
  {
   "cell_type": "code",
   "execution_count": null,
   "id": "d576335c-e716-402f-a08e-59aae5f76051",
   "metadata": {},
   "outputs": [],
   "source": [
    "#Answer 6: it determines the appropriate statistical methods and techniques that can be applied to the data\n",
    "'''\n",
    "Example to illustrate :\n",
    "Let's consider a dataset that contains information about different brands of smartphones and their respective user \n",
    "ratings. The user ratings are collected using a Likert scale, where users can rate the smartphones as \"Very \n",
    "Satisfied,\" \"Satisfied,\" \"Neutral,\" \"Dissatisfied,\" or \"Very Dissatisfied.\"\n",
    "'''"
   ]
  },
  {
   "cell_type": "code",
   "execution_count": null,
   "id": "4efca211-aa8e-4879-b322-3b2ea73a34a2",
   "metadata": {},
   "outputs": [],
   "source": [
    "#Answer 7: Ordinal data has a rank for values and nominal data does'nt have any ranks"
   ]
  },
  {
   "cell_type": "code",
   "execution_count": null,
   "id": "e80554e5-072d-4dff-bddb-b302b810dd02",
   "metadata": {},
   "outputs": [],
   "source": [
    "#Answer 8: Histogram"
   ]
  },
  {
   "cell_type": "code",
   "execution_count": null,
   "id": "178857d9-f497-40f9-a663-bf99b4fc95d3",
   "metadata": {},
   "outputs": [],
   "source": [
    "#Answer 9: Explained in Answer 2"
   ]
  },
  {
   "cell_type": "code",
   "execution_count": null,
   "id": "29e26809-ecf5-4a6a-9d4b-cf40a019178d",
   "metadata": {},
   "outputs": [],
   "source": [
    "#Answer 10 :\n",
    "'''\n",
    "The four measures of central tendency are mean, median, mode and the midrange. Here, mid-range or mid-extreme of a \n",
    "set of statistical data values is the arithmetic mean of the maximum and minimum values in a data set.\n",
    "'''"
   ]
  },
  {
   "cell_type": "code",
   "execution_count": null,
   "id": "bbfc8433-cff7-49dc-a911-eada9c86cebb",
   "metadata": {},
   "outputs": [],
   "source": []
  }
 ],
 "metadata": {
  "kernelspec": {
   "display_name": "Python 3 (ipykernel)",
   "language": "python",
   "name": "python3"
  },
  "language_info": {
   "codemirror_mode": {
    "name": "ipython",
    "version": 3
   },
   "file_extension": ".py",
   "mimetype": "text/x-python",
   "name": "python",
   "nbconvert_exporter": "python",
   "pygments_lexer": "ipython3",
   "version": "3.10.8"
  }
 },
 "nbformat": 4,
 "nbformat_minor": 5
}
