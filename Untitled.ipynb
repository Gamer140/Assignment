{
 "cells": [
  {
   "cell_type": "code",
   "execution_count": 1,
   "id": "856b48a2-41a3-4425-81f6-10e4a5126960",
   "metadata": {},
   "outputs": [],
   "source": [
    "#Answer 1: Guido van Rossum developed python programming language"
   ]
  },
  {
   "cell_type": "code",
   "execution_count": 2,
   "id": "3890db78-1d44-4d94-891e-82d90de47559",
   "metadata": {},
   "outputs": [],
   "source": [
    "#Answer 2: Object oriented programmming and structured programming"
   ]
  },
  {
   "cell_type": "code",
   "execution_count": 4,
   "id": "f1940fd8-4bd4-42e4-b2bc-3107f573c38b",
   "metadata": {},
   "outputs": [],
   "source": [
    "#Answer 3: Python is a case sensetive language and upper case or lower will make a difference in identifiers and strings as well "
   ]
  },
  {
   "cell_type": "code",
   "execution_count": 5,
   "id": "f95da0c7-c728-4e56-8366-d24c682e9b01",
   "metadata": {},
   "outputs": [],
   "source": [
    "#Answer 4: .py"
   ]
  },
  {
   "cell_type": "code",
   "execution_count": 1,
   "id": "c56eaf6e-0ec7-4854-8dbc-b78f4c235c4c",
   "metadata": {},
   "outputs": [],
   "source": [
    "#Answer 5: Python is an interpreted language, which means the source code of a Python program is converted into bytecode that is then executed by the Python virtual machine"
   ]
  },
  {
   "cell_type": "code",
   "execution_count": 1,
   "id": "fc54a88f-cb72-47fe-a028-0a4eaa366559",
   "metadata": {},
   "outputs": [],
   "source": [
    "#Answer 6: we can use while loops , if else blocks, for loops are some blocks used to define codes in python"
   ]
  },
  {
   "cell_type": "code",
   "execution_count": 2,
   "id": "c1b9a0af-9ab2-43c2-b48d-e4f91de34696",
   "metadata": {},
   "outputs": [],
   "source": [
    "#Answer 7: # is used to single line comments in python "
   ]
  },
  {
   "cell_type": "code",
   "execution_count": 3,
   "id": "fa22ed56-5510-4cb1-8eb1-7365cdcf965a",
   "metadata": {},
   "outputs": [],
   "source": [
    "#Answer 8: python --version can be used in cmd after installing and adding python to path"
   ]
  },
  {
   "cell_type": "code",
   "execution_count": 4,
   "id": "d12f4f67-df6f-4bfc-b6c2-97e604d89a0a",
   "metadata": {},
   "outputs": [],
   "source": [
    "#Answer 9: def"
   ]
  },
  {
   "cell_type": "code",
   "execution_count": 5,
   "id": "ef1ae9f3-91f8-4d9c-ada5-42289c614f06",
   "metadata": {},
   "outputs": [],
   "source": [
    "#Answer 10: Preferred Installer Program refers to pip"
   ]
  },
  {
   "cell_type": "code",
   "execution_count": 6,
   "id": "32eea9a1-c706-4b36-ab1b-5ce526351755",
   "metadata": {},
   "outputs": [],
   "source": [
    "#Answer 11: int(), stre(), len() and range() are some of pthon inbuilt functions"
   ]
  },
  {
   "cell_type": "code",
   "execution_count": 7,
   "id": "0420e763-46d5-4f2f-b5e4-f7acf817b158",
   "metadata": {},
   "outputs": [],
   "source": [
    "#Answer 12: 79 characters is the limit"
   ]
  },
  {
   "cell_type": "code",
   "execution_count": 8,
   "id": "d4f7d91d-1200-481b-aaae-e45720f9adb3",
   "metadata": {},
   "outputs": [],
   "source": [
    "#Answer 13: Presence of third-party modules Extensive support libraries(NumPy for numerical calculations, Pandas for data analytics, etc.),Open source and large active community base \n",
    "#Versatile, Easy to read, learn and write User-friendly data structures High-level language Dynamically typed language(No need to mention data type based on the value assigned, it takes data type) \n",
    "#Object-Oriented and Procedural, Programming language Portable and Interactive Ideal for prototypes – provide more functionality with less coding."
   ]
  },
  {
   "cell_type": "code",
   "execution_count": 9,
   "id": "cba53d4a-583e-4a9b-8329-174dfce76103",
   "metadata": {},
   "outputs": [],
   "source": [
    "#Answer 14: Python uses the dynamic memory allocation"
   ]
  },
  {
   "cell_type": "code",
   "execution_count": 12,
   "id": "ff7299a9-1902-44c0-bde2-152f250a2768",
   "metadata": {},
   "outputs": [
    {
     "data": {
      "text/plain": [
       "' To set system path variable\\n1. Right click on My Computer and click on properties.\\n\\n2. Click on Advanced System settings\\n3. Click on Environment Variable tab.\\n4. Click on new tab of user variables.\\n5. Write path in variable name\\n6. Copy the path of folder\\n7. Paste path of which ou need in variable value.\\n8. Click on Ok button:\\n\\n'"
      ]
     },
     "execution_count": 12,
     "metadata": {},
     "output_type": "execute_result"
    }
   ],
   "source": [
    "#Answer 15: go to python.org and go to downloads and download the latest version of python and click on the downloaded exe\n",
    "# click on add python.exe to PATH and click on install now \n",
    "''' To set system path variable\n",
    "1. Right click on My Computer and click on properties.\n",
    "\n",
    "2. Click on Advanced System settings\n",
    "3. Click on Environment Variable tab.\n",
    "4. Click on new tab of user variables.\n",
    "5. Write path in variable name\n",
    "6. Copy the path of folder\n",
    "7. Paste path of which ou need in variable value.\n",
    "8. Click on Ok button:\n",
    "\n",
    "'''"
   ]
  },
  {
   "cell_type": "code",
   "execution_count": 13,
   "id": "edda8abd-1a89-4bf7-ae02-4d271067b674",
   "metadata": {},
   "outputs": [],
   "source": [
    "# Answer 16: Yes intendations defines the block of the code in python"
   ]
  },
  {
   "cell_type": "code",
   "execution_count": null,
   "id": "8eca8d3a-cf90-43fb-accc-7c0a9c4813c7",
   "metadata": {},
   "outputs": [],
   "source": []
  }
 ],
 "metadata": {
  "kernelspec": {
   "display_name": "Python 3 (ipykernel)",
   "language": "python",
   "name": "python3"
  },
  "language_info": {
   "codemirror_mode": {
    "name": "ipython",
    "version": 3
   },
   "file_extension": ".py",
   "mimetype": "text/x-python",
   "name": "python",
   "nbconvert_exporter": "python",
   "pygments_lexer": "ipython3",
   "version": "3.10.8"
  }
 },
 "nbformat": 4,
 "nbformat_minor": 5
}
