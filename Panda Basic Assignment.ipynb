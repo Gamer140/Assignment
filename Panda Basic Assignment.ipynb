{
 "cells": [
  {
   "cell_type": "code",
   "execution_count": 1,
   "id": "95c27d24-180c-4a11-ab03-5d6e572ab06e",
   "metadata": {},
   "outputs": [
    {
     "name": "stdout",
     "output_type": "stream",
     "text": [
      "Requirement already satisfied: pandas in /opt/conda/lib/python3.10/site-packages (1.5.2)\n",
      "Requirement already satisfied: python-dateutil>=2.8.1 in /opt/conda/lib/python3.10/site-packages (from pandas) (2.8.2)\n",
      "Requirement already satisfied: pytz>=2020.1 in /opt/conda/lib/python3.10/site-packages (from pandas) (2022.6)\n",
      "Requirement already satisfied: numpy>=1.21.0 in /opt/conda/lib/python3.10/site-packages (from pandas) (1.23.5)\n",
      "Requirement already satisfied: six>=1.5 in /opt/conda/lib/python3.10/site-packages (from python-dateutil>=2.8.1->pandas) (1.16.0)\n",
      "Note: you may need to restart the kernel to use updated packages.\n"
     ]
    }
   ],
   "source": [
    "pip install pandas"
   ]
  },
  {
   "cell_type": "code",
   "execution_count": 3,
   "id": "46f88198-6ee6-4be3-83cf-bc1a9ffd5fc3",
   "metadata": {},
   "outputs": [
    {
     "name": "stdout",
     "output_type": "stream",
     "text": [
      "0     4\n",
      "1     8\n",
      "2    16\n",
      "3    23\n",
      "4    42\n",
      "dtype: int64\n"
     ]
    }
   ],
   "source": [
    "#Answer 1:\n",
    "import pandas as pd\n",
    "\n",
    "a = pd.Series([4,8,16,23,42])\n",
    "print(a)"
   ]
  },
  {
   "cell_type": "code",
   "execution_count": 7,
   "id": "2826ca30-91a0-44bb-8301-f0e64f22a808",
   "metadata": {},
   "outputs": [
    {
     "name": "stdout",
     "output_type": "stream",
     "text": [
      "0      1\n",
      "1    435\n",
      "2     45\n",
      "3      5\n",
      "4      4\n",
      "5     56\n",
      "6      5\n",
      "7    yes\n",
      "dtype: object\n"
     ]
    }
   ],
   "source": [
    "#ANswer 2:\n",
    "l = [1,435,45,5,4,56,5,\"yes\"]\n",
    "a =pd.Series(l)\n",
    "print(a)"
   ]
  },
  {
   "cell_type": "code",
   "execution_count": 11,
   "id": "66921508-68b9-449d-81a9-d468c479fadd",
   "metadata": {},
   "outputs": [
    {
     "name": "stdout",
     "output_type": "stream",
     "text": [
      "     Name  Age  Gender\n",
      "0   Alice   25  Female\n",
      "1     Bob   30    Male\n",
      "2  Claire   27  Female\n"
     ]
    }
   ],
   "source": [
    "#Answer 3:\n",
    "l = {'Name':['Alice','Bob','Claire'],'Age':[25,30,27],'Gender':[\"Female\",\"Male\",\"Female\"]}\n",
    "a = pd.DataFrame(l)\n",
    "print(a)"
   ]
  },
  {
   "cell_type": "code",
   "execution_count": 12,
   "id": "c707dcb6-bf1b-4b78-b291-314dc47516ab",
   "metadata": {},
   "outputs": [],
   "source": [
    "#Answer 4\n",
    "#The dimensions of the data are where a Pandas Series and a single-column DataFrame most obviously diverge.\n",
    "#A Series only has one data column, whereas a single-column DataFrame contains both a data column and an index.\n",
    "#The labels for the data are contained in the index, which is a second column.\n",
    "#There are certain distinctions in the extra features that a Series and a single-column DataFrame offer,\n",
    "#despite the fact that they share many common functionalities.\n",
    "#Additional features like filtering, merging, and joining is accessible in a single-column DataFrame but not in a Series.\n",
    "\n",
    "# Answer 2 is a example of series\n",
    "# Answer 3 is a eexample of DataFrame"
   ]
  },
  {
   "cell_type": "code",
   "execution_count": 1,
   "id": "a4337184-e467-47ed-9422-70374180ea26",
   "metadata": {},
   "outputs": [],
   "source": [
    "#Answer 5: Dropping the missing values in DataFrame, it can be done using the dropna() method, it removes all the NaN values in the dataframe.\n",
    "#Sorting the DataFrame using sort_values() method."
   ]
  },
  {
   "cell_type": "code",
   "execution_count": 2,
   "id": "693ec81f-aaf6-442d-8008-8f1fe22183a5",
   "metadata": {},
   "outputs": [],
   "source": [
    "#Answer 6: Series is a one dimensional array like structure with homogeneous data.\n",
    "#The values of the series are mutable means we can change any value in series, but the size of the series is immutable so we can not change the size of the series.\n",
    "\n",
    "#DataFrame is a two-dimensional array with heterogeneous data.\n",
    "#A DataFrame size is mutable and data is also mutable so we can change the data and size of DataFrame at any time.\n",
    "\n",
    "#The panel is a three-dimensional data structure with heterogeneous data. It is very hard to represent the Panel in a graphical representation.\n",
    "#But a Panel can be illustrated as a container of a DataFrame."
   ]
  },
  {
   "cell_type": "code",
   "execution_count": 5,
   "id": "92af14f9-d5ac-45db-bf8c-12c9d1852777",
   "metadata": {},
   "outputs": [
    {
     "name": "stdout",
     "output_type": "stream",
     "text": [
      "  Author       Courses\n",
      "0   sudh        Python\n",
      "1  sudh1  Data Science\n",
      "2  sudh2       web dev\n",
      "3  sudh3          algo\n"
     ]
    }
   ],
   "source": [
    "#Answer 7\n",
    "import pandas as pd\n",
    "\n",
    "auth_list = pd.Series(['sudh','sudh1','sudh2','sudh3'])\n",
    "course_list = pd.Series([\"Python\",\"Data Science\",\"web dev\",\"algo\"])\n",
    "\n",
    "frame = pd.DataFrame({\"Author\":auth_list,\"Courses\":course_list})\n",
    "print(frame)"
   ]
  },
  {
   "cell_type": "code",
   "execution_count": null,
   "id": "33c5204d-e319-43bb-9b68-ab47650203c7",
   "metadata": {},
   "outputs": [],
   "source": []
  }
 ],
 "metadata": {
  "kernelspec": {
   "display_name": "Python 3 (ipykernel)",
   "language": "python",
   "name": "python3"
  },
  "language_info": {
   "codemirror_mode": {
    "name": "ipython",
    "version": 3
   },
   "file_extension": ".py",
   "mimetype": "text/x-python",
   "name": "python",
   "nbconvert_exporter": "python",
   "pygments_lexer": "ipython3",
   "version": "3.10.8"
  }
 },
 "nbformat": 4,
 "nbformat_minor": 5
}
