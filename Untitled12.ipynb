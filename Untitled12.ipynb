{
 "cells": [
  {
   "cell_type": "code",
   "execution_count": null,
   "id": "acffccc5-d4ef-4462-ac77-2a8e9cfb5697",
   "metadata": {},
   "outputs": [],
   "source": [
    "#Answer 1:A database is an organized collection of structured information, or data, typically stored electronically in a computer system.\n",
    "#SQL databases are relational, and NoSQL databases are non-relational.\n",
    "#SQL databases use structured query language (SQL) and have a predefined schema. NoSQL databases have dynamic schemas for unstructured data.\n",
    "#SQL databases are vertically scalable, while NoSQL databases are horizontally scalable."
   ]
  },
  {
   "cell_type": "code",
   "execution_count": null,
   "id": "e5c20925-e8db-4250-a8ff-a5b55fd414c2",
   "metadata": {},
   "outputs": [],
   "source": [
    "#Answer 2:A data definition language (DDL) is a computer language used to create and modify the structure of database objects in a database.\n",
    "#CREATE: The CREATE statement is used to create a new database object. It can be used to create tables, views, indexes, functions, procedures, and more.\n",
    "#For example, let's say you want to create a table called \"Customers\" with columns for customer ID, name, and email:\n",
    "'''\n",
    "CREATE TABLE Customers (\n",
    "  customer_id INT PRIMARY KEY,\n",
    "  name VARCHAR(100),\n",
    "  email VARCHAR(100)\n",
    ");\n",
    "'''\n",
    "#DROP: The DROP statement is used to remove an existing database object from the database.\n",
    "#It can be used to drop tables, views, indexes, functions, procedures, and more. For example, to drop the previously created \"Customers\" table\n",
    "'''\n",
    "DROP TABLE Customers;\n",
    "'''\n",
    "#ALTER: The ALTER statement is used to modify the structure of an existing database object. It allows you to add, modify, or drop columns in a table, change data types, and more.\n",
    "#For example, let's say you want to add a new column called \"phone\" to the \"Customers\" table:\n",
    "'''\n",
    "ALTER TABLE Customers\n",
    "ADD COLUMN phone VARCHAR(20);\n",
    "'''\n",
    "#TRUNCATE: The TRUNCATE statement is used to remove all the data from a table while keeping the table structure intact. It is a fast way to delete all the records from a table without deleting the table itself.\n",
    "#For example, to remove all the data from the \"Customers\"\n",
    "'''\n",
    "TRUNCATE TABLE Customers;\n",
    "'''"
   ]
  },
  {
   "cell_type": "code",
   "execution_count": null,
   "id": "48eb2ba1-1732-4936-a853-bd4d3bc19d7c",
   "metadata": {},
   "outputs": [],
   "source": [
    "#Answer 3: A data manipulation language (DML) is a family of computer languages including commands permitting users to manipulate data in a database.\n",
    "#INSERT: The INSERT statement is used to insert new records into a table. It allows you to add data into specific columns of a table.\n",
    "'''\n",
    "INSERT INTO Employees (employee_id, name, salary)\n",
    "VALUES (1, 'John Doe', 50000);\n",
    "'''\n",
    "#UPDATE: The UPDATE statement is used to modify existing records in a table.\n",
    "#It allows you to change the values of specific columns in one or more rows.\n",
    "'''\n",
    "UPDATE Employees\n",
    "SET salary = 60000\n",
    "WHERE employee_id = 1;\n",
    "'''\n",
    "#The DELETE statement is used to remove one or more records from a table.\n",
    "#It allows you to delete specific rows based on certain conditions.\n",
    "'''\n",
    "DELETE FROM Employees\n",
    "WHERE employee_id = 1;\n",
    "'''"
   ]
  },
  {
   "cell_type": "code",
   "execution_count": null,
   "id": "ed757e67-c157-4436-9d7a-7ee6dac3b477",
   "metadata": {},
   "outputs": [],
   "source": [
    "#Answer 4: Data Query Language, DQL is a portion of a SQL statement that allows you to get and organise data from a database.\n",
    "#SELECT is a fundamental SQL statement used to retrieve data from a database.\n",
    "#It allows you to query a table or multiple tables to extract specific information based on specified conditions.\n",
    "'''\n",
    "SELECT * FROM Employees;\n",
    "'''"
   ]
  },
  {
   "cell_type": "code",
   "execution_count": null,
   "id": "838fce9e-93b2-456b-a7b8-52dc169e170f",
   "metadata": {},
   "outputs": [],
   "source": [
    "#Answer 5: In a relational database, a primary key is a column or a combination of columns that uniquely identifies each row in a table.\n",
    "# A foreign key is a column or a combination of columns in one table that refers to the primary key of another table."
   ]
  },
  {
   "cell_type": "code",
   "execution_count": null,
   "id": "ae1dd6c7-7def-4c31-bb69-ef911d7ba55e",
   "metadata": {},
   "outputs": [],
   "source": [
    "# Answer 6\n",
    "import mysql.connector\n",
    "\n",
    "# Establishing the connection\n",
    "cnx = mysql.connector.connect(\n",
    "    host=\"localhost\",\n",
    "    user=\"your_username\",\n",
    "    password=\"your_password\",\n",
    "    database=\"your_database\"\n",
    ")\n",
    "\n",
    "# Creating a cursor object to execute SQL queries\n",
    "cursor = cnx.cursor()\n",
    "\n",
    "# Executing a sample SQL query\n",
    "query = \"SELECT * FROM your_table\"\n",
    "cursor.execute(query)\n",
    "\n",
    "# Fetching all the rows returned by the query\n",
    "rows = cursor.fetchall()\n",
    "\n",
    "# Displaying the fetched data\n",
    "for row in rows:\n",
    "    print(row)\n",
    "\n",
    "# Closing the cursor and the connection\n",
    "cursor.close()\n",
    "cnx.close()\n",
    "\n",
    "#The cursor() method is used to create a cursor object that allows you to execute SQL queries and fetch data from the database.\n",
    "#The execute() method is used to execute SQL queries using the cursor object. \n",
    "#It allows you to send a single SQL statement or a parameterized SQL statement to the database for execution."
   ]
  },
  {
   "cell_type": "code",
   "execution_count": 10,
   "id": "33c32f34-f422-4592-b463-480a3e94a3c3",
   "metadata": {},
   "outputs": [],
   "source": [
    "#Answer 7: FROM then WHERE then GROUP BY then HAVING then SELECT then DISTINCT then ORDER BY\n",
    "# then LIMIT/OFFSET"
   ]
  },
  {
   "cell_type": "code",
   "execution_count": null,
   "id": "2cd31292-fb1c-4a07-94d1-99a0c8a36541",
   "metadata": {},
   "outputs": [],
   "source": []
  }
 ],
 "metadata": {
  "kernelspec": {
   "display_name": "Python 3 (ipykernel)",
   "language": "python",
   "name": "python3"
  },
  "language_info": {
   "codemirror_mode": {
    "name": "ipython",
    "version": 3
   },
   "file_extension": ".py",
   "mimetype": "text/x-python",
   "name": "python",
   "nbconvert_exporter": "python",
   "pygments_lexer": "ipython3",
   "version": "3.10.8"
  }
 },
 "nbformat": 4,
 "nbformat_minor": 5
}
