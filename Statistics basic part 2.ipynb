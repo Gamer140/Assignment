{
 "cells": [
  {
   "cell_type": "code",
   "execution_count": 1,
   "id": "8a6511bc-2a52-49aa-a295-7afd4908e8e8",
   "metadata": {},
   "outputs": [],
   "source": [
    "#Answer 1: mean,median,mode"
   ]
  },
  {
   "cell_type": "code",
   "execution_count": null,
   "id": "1e1b33cd-99bc-479c-956b-bdc36fb28f72",
   "metadata": {},
   "outputs": [],
   "source": [
    "#Answer 2: The average taken for a set of numbers is called a mean.\n",
    "# The middle value in the data set is called the Median.\n",
    "# The number that occurs the most in a given list of numbers is called a mode.\n",
    "'''\n",
    "The mean is used when the data is normally distributed and does not have significant outliers that \n",
    "could significantly affect its value. It is widely used for continuous data, such as height, weight, or temperature.\n",
    "\n",
    "The median is used when the data is skewed or has significant outliers that might distort the mean value. \n",
    "\n",
    "The mode is useful when you want to identify the most common value or category in a dataset.\n",
    "It is often used with categorical or discrete data, such as survey responses or types of cars on a road.\n",
    "'''\n"
   ]
  },
  {
   "cell_type": "code",
   "execution_count": 8,
   "id": "95152dae-a1ff-4e95-98ab-afdf5ed37c29",
   "metadata": {},
   "outputs": [
    {
     "name": "stdout",
     "output_type": "stream",
     "text": [
      "a    177.01875\n",
      "dtype: float64\n",
      "a    177.0\n",
      "dtype: float64\n",
      "       a\n",
      "0  177.0\n",
      "1  178.0\n"
     ]
    }
   ],
   "source": [
    "#Answer 3:\n",
    "import pandas as pd\n",
    "a = [178,177,176,177,178.2,178,175,179,180,175,178.9,176.2,177,172.5,178,176.5]\n",
    "s = pd.DataFrame({\"a\":a})\n",
    "print(s.mean())\n",
    "print(s.median())\n",
    "print(s.mode())\n"
   ]
  },
  {
   "cell_type": "code",
   "execution_count": 9,
   "id": "7fc20530-b2c9-4a8a-aa4d-be3eb330426f",
   "metadata": {},
   "outputs": [
    {
     "name": "stdout",
     "output_type": "stream",
     "text": [
      "a    1.847239\n",
      "dtype: float64\n"
     ]
    }
   ],
   "source": [
    "#Answer 4:\n",
    "import pandas as pd\n",
    "a = [178,177,176,177,178.2,178,175,179,180,175,178.9,176.2,177,172.5,178,176.5]\n",
    "s1 = pd.DataFrame({\"a\":a})\n",
    "print(s1.std())"
   ]
  },
  {
   "cell_type": "code",
   "execution_count": null,
   "id": "c330cb76-aaa7-4d56-b408-e01b71618955",
   "metadata": {},
   "outputs": [],
   "source": [
    "#Answer 5: The range is the simplest measure of dispersion and is calculated as the difference between the maximum \n",
    "#and minimum values in the dataset. It gives a rough idea of how spread out the data is, but it doesn't consider \n",
    "#the distribution of values in between the maximum and minimum.\n",
    "'''\n",
    "example [65, 72, 78, 82, 89, 94, 98]\n",
    "here range is 98-65 = 33\n",
    "'''\n",
    "#Variance is a more comprehensive measure of dispersion that takes into account the spread of all values in the \n",
    "#dataset from the mean. It calculates the average of the squared differences between each data point and the mean.\n",
    "'''\n",
    "example [65, 72, 78, 82, 89, 94, 98]\n",
    "Variance = [(65 - 82)^2 + (72 - 82)^2 + (78 - 82)^2 + (82 - 82)^2 + (89 - 82)^2 + (94 - 82)^2 + (98 - 82)^2] / 7\n",
    "≈ 102.57\n",
    "'''\n",
    "#The standard deviation is the square root of the variance and provides a measure of dispersion in the same unit as the \n",
    "#data.\n",
    "'''\n",
    "102.57\n",
    "variance = 102.57^2 = 10.13\n",
    "'''"
   ]
  },
  {
   "cell_type": "code",
   "execution_count": 12,
   "id": "80e8ea9c-7c8b-4967-8807-59ef48c33271",
   "metadata": {},
   "outputs": [],
   "source": [
    "#Answer 6: A Venn diagram is a graphical representation used to show the relationships between different sets. It \n",
    "#uses circles (or other closed curves) to represent the sets, and the overlapping regions or intersections of the \n",
    "#circles indicate the elements that belong to multiple sets."
   ]
  },
  {
   "cell_type": "code",
   "execution_count": 13,
   "id": "d0b90e3d-d595-4eb8-a85e-687b919d2c75",
   "metadata": {},
   "outputs": [],
   "source": [
    "#Answer 7:\n",
    "# 1. [2,6]\n",
    "# 2. [0,2,3,4,5,6,7,8,10]"
   ]
  },
  {
   "cell_type": "code",
   "execution_count": null,
   "id": "1858d9ec-7589-4d7a-8b99-4590fe58e818",
   "metadata": {},
   "outputs": [],
   "source": [
    "#Answer 8:\n",
    "'''Skewness is a statistical measure that describes the asymmetry of the probability distribution of a dataset. In \n",
    "other words, it quantifies the extent to which the data is stretched or skewed to the left or right from its \n",
    "central value (mean, median, or mode).'''\n"
   ]
  },
  {
   "cell_type": "code",
   "execution_count": 15,
   "id": "9bf92454-cb8b-4bdb-a4bf-c5155a7d9527",
   "metadata": {},
   "outputs": [],
   "source": [
    "#Answer 9: the median will be closer to the left side of the distribution, where the majority of data points are \n",
    "#located."
   ]
  },
  {
   "cell_type": "code",
   "execution_count": null,
   "id": "990ec7c1-eff0-49a4-84be-c1673dab1cdd",
   "metadata": {},
   "outputs": [],
   "source": [
    "#Answer 10: The main difference between covariance and corelation is that covariance value can go up to any value\n",
    "# +ve infinite to -ve infinite and correlation goes up to +1 to -1 \n",
    "'''covariance measures the degree and direction of the relationship between two variables, but its interpretation \n",
    "can be challenging due to units. Correlation is a standardized version of covariance, providing a dimensionless \n",
    "measure of the strength and direction of the linear relationship, making it easier to compare relationships between\n",
    "different pairs of variables'''"
   ]
  },
  {
   "cell_type": "code",
   "execution_count": 17,
   "id": "573ff093-1f77-4d2a-9f2a-86c9c9f997c2",
   "metadata": {},
   "outputs": [
    {
     "name": "stdout",
     "output_type": "stream",
     "text": [
      "a    5.0\n",
      "dtype: float64\n"
     ]
    }
   ],
   "source": [
    "#Answer 11: sample mean is the mean of the sample data which has been taken from the population data it's formula is\n",
    "# summation of all the elements in the sample mean divided by the number of elements for example\n",
    "import pandas as pd\n",
    "\n",
    "a1 = pd.DataFrame({\"a\":[0,2,3,4,5,6,7,8,10]})\n",
    "print(a1.mean())"
   ]
  },
  {
   "cell_type": "code",
   "execution_count": 18,
   "id": "c104396c-ba4e-4962-b7ee-16f2c6530fed",
   "metadata": {},
   "outputs": [],
   "source": [
    "#Answer 12: Here Q3-Q2 =~ Q2-Q1 and mean = median = mode because there is no skewness in the data\n",
    "# or we call the distribution of the data is even in the left and right"
   ]
  },
  {
   "cell_type": "code",
   "execution_count": 19,
   "id": "f2f2fa7b-b179-4877-bced-8900f98802f8",
   "metadata": {},
   "outputs": [],
   "source": [
    "#Answer 13: Explained in answer 10"
   ]
  },
  {
   "cell_type": "code",
   "execution_count": null,
   "id": "8bea69e1-c79d-4490-a174-5f6bbe796eac",
   "metadata": {},
   "outputs": [],
   "source": [
    "#Answer 14: Outliers can strongly influence the mean, which is particularly sensitive to extreme values. When a\n",
    "#dataset contains outliers, the mean tends to be pulled towards the direction of the outlier, making it not\n",
    "#representative of the typical value of the majority of the data. On the other hand, the median, which is less\n",
    "#affected by extreme values, provides a more robust measure of central tendency when outliers are present.\n",
    "# For example  [40, 45, 50, 55, 60, 65, 70, 500]\n",
    "# Here the mean without oulier is 55 and with outlier is 126 so its making major impact of the central tendency\n",
    "# And same goes for standard deviattion and variance in terms of dispersion"
   ]
  }
 ],
 "metadata": {
  "kernelspec": {
   "display_name": "Python 3 (ipykernel)",
   "language": "python",
   "name": "python3"
  },
  "language_info": {
   "codemirror_mode": {
    "name": "ipython",
    "version": 3
   },
   "file_extension": ".py",
   "mimetype": "text/x-python",
   "name": "python",
   "nbconvert_exporter": "python",
   "pygments_lexer": "ipython3",
   "version": "3.10.8"
  }
 },
 "nbformat": 4,
 "nbformat_minor": 5
}
