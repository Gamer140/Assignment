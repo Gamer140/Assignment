{
 "cells": [
  {
   "cell_type": "code",
   "execution_count": 1,
   "id": "32af01ff",
   "metadata": {},
   "outputs": [],
   "source": [
    "#Answer 1: Assumptions of anova are:\n",
    "#Normality: The data within each group should be normally distributed.\n",
    "#Homogeneity of variance: The variance of the data within each group should be equal.\n",
    "#Independence: The observations within each group should be independent.\n",
    "\n",
    "#Violation of anova are:\n",
    "#For example, if the normality assumption is violated, it means that the data within one or more groups is not normally \n",
    "#distributed. This can affect the results of the ANOVA, as the test is based on the assumption that the data within each\n",
    "#group is normally distributed\n",
    "#If the homogeneity of variance assumption is violated, it means that the variance of the data within one or more groups is \n",
    "#not equal. This can also affect the results of the ANOVA, as the test is based on the assumption that the variance of the \n",
    "#data within each group is equal\n",
    "#If the independence assumption is violated, it means that the observations within one or more groups are not independent.\n",
    "#This can have a serious impact on the results of the ANOVA, as independence is a crucial assumption for this test"
   ]
  },
  {
   "cell_type": "code",
   "execution_count": 2,
   "id": "385fe50f",
   "metadata": {},
   "outputs": [],
   "source": [
    "#Answer 2: The 3 types are:\n",
    "#One-Way ANOVA\n",
    "#difference in IQ can be assessed by Country, and County can have 2, 20, or more different categories to compare.\n",
    "\n",
    "#Two-Way ANOVA\n",
    "#Expanding the example above, a 2-way ANOVA can examine differences in IQ scores (the dependent variable) by Country \n",
    "#(independent variable 1) and Gender (independent variable 2). Two-way ANOVA can be used to examine the interaction \n",
    "#between the two independent variables with 1 dependent variable\n",
    "\n",
    "#N-way ANova\n",
    "#A researcher can also use more than two independent variables, and this is an n-way ANOVA (with n being the number of \n",
    "#independent variables you have). For example, potential differences in IQ scores can be examined by Country, Gender, Age\n",
    "#group, Ethnicity, etc, simultaneously"
   ]
  },
  {
   "cell_type": "code",
   "execution_count": 3,
   "id": "303497a0",
   "metadata": {},
   "outputs": [],
   "source": [
    "#Answer 3:\n",
    "#The partitioning of variance in ANOVA refers to the process of dividing the total variability in the data into components \n",
    "#that are attributable to different sources of variation1. This is done by calculating the sum of squares for each source of\n",
    "#variation, which measures the amount of variability that is explained by that source\n",
    "\n",
    "#Understanding the partitioning of variance in ANOVA is important because it allows us to determine how much of the total \n",
    "#variability in the data can be explained by our independent variable(s) and how much is due to random error or other factors1.\n",
    "#This information can be used to assess the strength of the relationship between our independent and dependent variables and\n",
    "#to determine whether our results are statistically significant"
   ]
  },
  {
   "cell_type": "code",
   "execution_count": 13,
   "id": "70f2628d",
   "metadata": {},
   "outputs": [
    {
     "name": "stdout",
     "output_type": "stream",
     "text": [
      "1420.1333333333314 1533.7333333333372 2953.8666666666686\n"
     ]
    }
   ],
   "source": [
    "#Answer 4:\n",
    "import numpy as np\n",
    "\n",
    "group1 = [54, 58, 61, 63, 57]\n",
    "group2 = [71, 66, 70, 68, 72]\n",
    "group3 = [79, 84, 82, 87, 80]\n",
    "\n",
    "data = np.concatenate([group1, group2, group3])\n",
    "\n",
    "overall_mean = np.mean(data)\n",
    "\n",
    "sse = (((np.sum(group1))**2 + (np.sum(group2))**2 + (np.sum(group3))**2)/len(group1)) - (np.sum(group1) + np.sum(group2) + np.sum(group3))**2/(len(group1)+len(group2)+len(group3))\n",
    "\n",
    "ssr = np.sum(data**2) - (np.sum(group1) + np.sum(group2) + np.sum(group3))**2/(len(group1)+len(group2)+len(group3))\n",
    "\n",
    "sst = sse + ssr\n",
    "\n",
    "print(sse,ssr,sst)"
   ]
  },
  {
   "cell_type": "code",
   "execution_count": null,
   "id": "66f85e20",
   "metadata": {
    "scrolled": false
   },
   "outputs": [],
   "source": [
    "#Answer 5:\n",
    "#Calculate the group means: For each level of each factor, calculate the mean response.\n",
    "\n",
    "#Calculate the overall mean: Calculate the mean response across all observations.\n",
    "\n",
    "#Calculate the main effects: For each factor, subtract the overall mean from each group mean. This gives you the main effect\n",
    "#of each level of each factor.\n",
    "\n",
    "#Calculate the interaction effects: For each combination of levels of the two factors, calculate the mean response. \n",
    "#Subtract the main effects of the corresponding levels and the overall mean from this value. This gives you the \n",
    "#interaction effect for each combination of levels."
   ]
  },
  {
   "cell_type": "code",
   "execution_count": 1,
   "id": "ca0b36fb",
   "metadata": {},
   "outputs": [],
   "source": [
    "#Answer 6:\n",
    "#ANOVA calculates an F-statistic by comparing between-group variability to within-group variability. If the F-statistic \n",
    "#exceeds a critical value, it indicates significant differences between group means."
   ]
  },
  {
   "cell_type": "code",
   "execution_count": 1,
   "id": "270c96e4",
   "metadata": {},
   "outputs": [],
   "source": [
    "#Answer 7:\n",
    "#Listwise Deletion: This is the simplest approach where you just ignore the missing data and analyze only the observed data.\n",
    "#However, this method assumes that the observed available data are completely representative of the missing data, \n",
    "#which requires that the missingness has no connection whatsoever with the outcomes you are interested in. This is very \n",
    "#rarely the case1.\n",
    "\n",
    "#Multiple Imputation: This is one of the most effective ways of dealing with missing data3. In this method, each missing \n",
    "#value is replaced with a set of plausible values that represent the uncertainty about the right value to impute3.\n",
    "\n",
    "#Mixed Effects Model: This model implicitly imputes the missing values and assumes that missingness can be explained by \n",
    "#randomness, the model covariates, as well as the observed values1.\n",
    "\n",
    "#The potential consequences of using different methods to handle missing data can vary:\n",
    "\n",
    "#If you use listwise deletion, you might end up with biased results if your data is not Missing Completely at Random (MCAR)45.\n",
    "#Multiple imputation and mixed effects models can provide more accurate results when your data is Missing at Random (MAR),\n",
    "#but these methods are more complex to implement1.\n",
    "#If your data is Missing Not at Random (MNAR), then none of these methods would provide valid results."
   ]
  },
  {
   "cell_type": "code",
   "execution_count": 2,
   "id": "e7446c01",
   "metadata": {},
   "outputs": [],
   "source": [
    "#Answer 8:\n",
    "#Tukey’s HSD (Honestly Significant Difference): This test compares all possible pairs of means and is commonly used because it\n",
    "#controls for Type I error rate.\n",
    "\n",
    "#Bonferroni Procedure: This test adjusts the significance level to account for multiple comparisons. It’s more conservative\n",
    "#than Tukey’s HSD and is used when you have a small number of comparisons.\n",
    "\n",
    "#Fisher’s Least Significant Difference (LSD): This test performs pairwise comparisons without adjusting for multiple\n",
    "#comparisons, making it less conservative than the others.\n",
    "\n",
    "#Dunn’s Multiple Comparison Test: This test is used to compare each pair of means while controlling the family-wise error rate.\n",
    "\n",
    "#For example, let’s say you conducted an ANOVA on crop yield using three different types of fertilizers and found \n",
    "#a significant difference between the group means5. However, the ANOVA doesn’t tell you which specific fertilizers are\n",
    "#different from each other. In this case, you would need to conduct a post-hoc test to determine exactly which fertilizers\n",
    "#lead to different crop yields"
   ]
  },
  {
   "cell_type": "code",
   "execution_count": 1,
   "id": "d8ecd7c5",
   "metadata": {},
   "outputs": [],
   "source": [
    "#Answer 9: Dataset is not available for the analysis"
   ]
  },
  {
   "cell_type": "code",
   "execution_count": 4,
   "id": "b1fdb9b7",
   "metadata": {},
   "outputs": [],
   "source": [
    "#Answer 10: Dataset is not available for the analysis"
   ]
  },
  {
   "cell_type": "code",
   "execution_count": 3,
   "id": "ab2b0fce",
   "metadata": {},
   "outputs": [],
   "source": [
    "#Answer 11: Dataset is not available for the analysis"
   ]
  },
  {
   "cell_type": "code",
   "execution_count": 5,
   "id": "88f00172",
   "metadata": {},
   "outputs": [],
   "source": [
    "#Answer 12: Dataset is not available for the analysis"
   ]
  },
  {
   "cell_type": "code",
   "execution_count": null,
   "id": "3192b226",
   "metadata": {},
   "outputs": [],
   "source": []
  }
 ],
 "metadata": {
  "kernelspec": {
   "display_name": "Python 3 (ipykernel)",
   "language": "python",
   "name": "python3"
  },
  "language_info": {
   "codemirror_mode": {
    "name": "ipython",
    "version": 3
   },
   "file_extension": ".py",
   "mimetype": "text/x-python",
   "name": "python",
   "nbconvert_exporter": "python",
   "pygments_lexer": "ipython3",
   "version": "3.11.3"
  }
 },
 "nbformat": 4,
 "nbformat_minor": 5
}
