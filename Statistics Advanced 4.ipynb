{
 "cells": [
  {
   "cell_type": "code",
   "execution_count": 1,
   "id": "766254a4-372c-4bad-805a-6bfc708e5ca2",
   "metadata": {},
   "outputs": [],
   "source": [
    "#Answer 1:Estimation in statistics involves using sample data to make inferences or \n",
    "#predictions about population parameters. Estimation helps us approximate unknown \n",
    "#population parameters based on observed sample statistics.\n",
    "\n",
    "#A point estimate is a single value that is used to approximate an unknown population \n",
    "#parameter. In other words, it provides a \"best guess\" of what the population parameter \n",
    "#might be based on the available sample data. Point estimates are often calculated from \n",
    "#sample statistics, such as the sample mean, sample proportion, or sample standard \n",
    "#deviation.\n",
    "\n",
    "#An interval estimate, also known as a confidence interval, provides a range of values \n",
    "#within which the true population parameter is likely to lie. Unlike a point estimate, \n",
    "#an interval estimate acknowledges the uncertainty associated with estimation by giving\n",
    "#a range of plausible values."
   ]
  },
  {
   "cell_type": "code",
   "execution_count": 11,
   "id": "07241dfa-c1ad-4db3-a094-f96e9f317eab",
   "metadata": {
    "tags": []
   },
   "outputs": [
    {
     "name": "stdout",
     "output_type": "stream",
     "text": [
      "2.99827868852459\n",
      "3.01675\n"
     ]
    }
   ],
   "source": [
    "#Answer 2:\n",
    "\n",
    "import math\n",
    "import seaborn as sns\n",
    "import pandas as pd\n",
    "\n",
    "df = sns.load_dataset('tips')\n",
    "s_mean = df['tip'].iloc[0:40].mean()\n",
    "s_deviation = df['tip'].iloc[0:40].std()\n",
    "s_size = 40\n",
    "\n",
    "def p_mean(s_mean=s_mean):\n",
    "    return s_mean\n",
    "\n",
    "print(df['tip'].mean())\n",
    "print(p_mean(s_mean))\n"
   ]
  },
  {
   "cell_type": "code",
   "execution_count": 12,
   "id": "99272905-b5d7-42c1-b5f5-a42ec6a28ad7",
   "metadata": {},
   "outputs": [],
   "source": [
    "#Answer 3: Hypothesis testing is a fundamental statistical method used to make informed decisions or draw conclusions about population parameters based on sample data. It involves comparing the observed\n",
    "#data to what we would expect if a certain assumption (hypothesis) about the population is true.\n",
    "\n",
    "#Importance are:\n",
    "#Formulating Hypotheses: A null hypothesis (H0) is formulated, representing the assumption to be tested.\n",
    "#Collecting Data: Data is collected through observations or experiments.\n",
    "#Choosing a Significance Level: The significance level (α) is chosen, representing the probability of making a Type I error (incorrectly rejecting a true null hypothesis).\n",
    "#Calculating a Test Statistic: A test statistic is calculated based on the sample data and a chosen statistical test.\n",
    "#Determining the Critical Region: The critical region is defined, which represents the range of values that would lead to the rejection of the null hypothesis.\n",
    "#Comparing the Test Statistic: The calculated test statistic is compared to the critical values or p-values associated with the chosen significance level.\n",
    "#Making a Decision: Based on the comparison, a decision is made to either reject the null hypothesis in favor of the alternative hypothesis or fail to reject the null hypothesis.\n",
    "\n",
    "#It's uses are:\n",
    "#Informed Decision-Making: Hypothesis testing provides a systematic and structured approach to decision-making. It helps researchers and analysts make informed choices based on evidence from sample data.\n",
    "#Scientific Research: Hypothesis testing is crucial in scientific research to validate or refute hypotheses about the relationships between variables. It contributes to the advancement of knowledge and \n",
    "#theory.\n",
    "#Quality Control and Process Improvement: Hypothesis testing is used in industries to ensure product quality and process efficiency. It helps identify problems, make improvements, and optimize processes.\n",
    "#Medical and Pharmaceutical Fields: Hypothesis testing is used to evaluate the effectiveness of new treatments or drugs, assess the impact of interventions, and validate medical research.\n",
    "#Business Decision-Making: In business, hypothesis testing guides decisions related to marketing strategies, product launches, customer behavior analysis, and more."
   ]
  },
  {
   "cell_type": "code",
   "execution_count": 19,
   "id": "ef8fff03-4a21-438c-b912-8938b2f9a9a5",
   "metadata": {
    "tags": []
   },
   "outputs": [],
   "source": [
    "#Answer 4:\n",
    "#Null Hypothesis (H0): The average weight of male college students is equal to or less than the average weight of female college students.\n",
    "#Alternative Hypothesis (Ha): The average weight of male college students is greater than the average weight of female college students.\n",
    "\n",
    "#In symbolic notation:\n",
    "\n",
    "#H0: μ_male ≤ μ_female\n",
    "#Ha: μ_male > μ_female\n",
    "#Explanation:\n",
    "\n",
    "#The null hypothesis (H0) assumes that there is no difference in the average weight between male and female college students, or that male students might weigh the same or less on average compared\n",
    "#to female students.\n",
    "#The alternative hypothesis (Ha) suggests that there is a difference, specifically that male students on average weigh more than female students."
   ]
  },
  {
   "cell_type": "code",
   "execution_count": 20,
   "id": "3469b5d5-a5cf-417c-bb59-ed3cb133172f",
   "metadata": {
    "tags": []
   },
   "outputs": [
    {
     "name": "stdout",
     "output_type": "stream",
     "text": [
      "Sample Male: [75 80 85 78 82]\n",
      "Sample Female: [65 70 72 68 71]\n",
      "t-statistic: 5.125453177063494\n",
      "p-value: 0.0009011166902247321\n",
      "Reject null hypothesis\n"
     ]
    }
   ],
   "source": [
    "#Answer 5:\n",
    "import numpy as np\n",
    "from scipy import stats\n",
    "\n",
    "# Sample data for two populations\n",
    "sample_male = np.array([75, 80, 85, 78, 82])  # Sample from male population\n",
    "sample_female = np.array([65, 70, 72, 68, 71])  # Sample from female population\n",
    "\n",
    "# Define significance level (alpha)\n",
    "alpha = 0.05\n",
    "\n",
    "# Perform independent two-sample t-test\n",
    "t_statistic, p_value = stats.ttest_ind(sample_male, sample_female)\n",
    "\n",
    "# Determine if null hypothesis should be rejected based on p-value and alpha\n",
    "if p_value < alpha:\n",
    "    result = \"Reject null hypothesis\"\n",
    "else:\n",
    "    result = \"Fail to reject null hypothesis\"\n",
    "\n",
    "# Print results\n",
    "print(\"Sample Male:\", sample_male)\n",
    "print(\"Sample Female:\", sample_female)\n",
    "print(\"t-statistic:\", t_statistic)\n",
    "print(\"p-value:\", p_value)\n",
    "print(result)"
   ]
  },
  {
   "cell_type": "code",
   "execution_count": null,
   "id": "1e0f02ea-bda7-4b02-a8db-6af53ae8dbfc",
   "metadata": {
    "tags": []
   },
   "outputs": [],
   "source": [
    "#Answer 6:\n",
    "#A null hypothesis (H0) and an alternative hypothesis (Ha) are fundamental components of hypothesis testing in statistics. They represent competing statements about a population \n",
    "#parameter that you want to test using sample data. The null hypothesis typically represents the status quo or no effect, while the alternative hypothesis represents a specific \n",
    "#effect or difference that you're trying to detect.\n",
    "\n",
    "'''Example 1: Coin Tossing\n",
    "\n",
    "Suppose you're testing whether a coin is fair (i.e., has an equal chance of landing heads or tails). Your null and alternative hypotheses could be:\n",
    "\n",
    "Null Hypothesis (H0): The coin is fair (p = 0.5).\n",
    "Alternative Hypothesis (Ha): The coin is not fair (p ≠ 0.5).\n",
    "Here, \"p\" represents the probability of getting heads.\n",
    "\n",
    "Example 2: Drug Efficacy\n",
    "\n",
    "Imagine you're testing the effectiveness of a new drug. Your hypotheses could be about whether the drug has a significant effect on a medical condition:\n",
    "\n",
    "Null Hypothesis (H0): The new drug has no effect (μ = μ0).\n",
    "Alternative Hypothesis (Ha): The new drug has a significant effect (μ ≠ μ0).\n",
    "Here, \"μ\" represents the population mean of the medical condition, and \"μ0\" is a specific value representing no effect.\n",
    "\n",
    "Example 3: Gender and Income\n",
    "\n",
    "Suppose you're investigating whether there's a significant difference in average income between genders:\n",
    "\n",
    "Null Hypothesis (H0): There is no difference in average income between genders (μ_male = μ_female).\n",
    "Alternative Hypothesis (Ha): There is a difference in average income between genders (μ_male ≠ μ_female).\n",
    "Here, \"μ_male\" represents the average income of males, and \"μ_female\" represents the average income of females.\n",
    "\n",
    "Example 4: A/B Testing for Website Conversion\n",
    "\n",
    "In an A/B testing scenario, you might test whether changing a website's layout improves conversion rates:\n",
    "\n",
    "Null Hypothesis (H0): The new website layout has no effect on conversion rates (p_new = p_old).\n",
    "Alternative Hypothesis (Ha): The new website layout improves conversion rates (p_new > p_old).\n",
    "Here, \"p_new\" represents the conversion rate with the new layout, and \"p_old\" represents the conversion rate with the old layout.'''"
   ]
  },
  {
   "cell_type": "code",
   "execution_count": null,
   "id": "b26d8e03-d96b-4ce5-a011-4df525b49903",
   "metadata": {
    "tags": []
   },
   "outputs": [],
   "source": [
    "#Answer 7:\n",
    "'''Step 1: Formulate Hypotheses:\n",
    "\n",
    "State the null hypothesis (H0), representing the default assumption or no effect.\n",
    "State the alternative hypothesis (Ha), representing the specific effect or difference you're testing for.\n",
    "Step 2: Collect and Prepare Data:\n",
    "\n",
    "Collect relevant data through observations or experiments.\n",
    "Organize and clean the data for analysis.\n",
    "Step 3: Choose a Significance Level (α):\n",
    "\n",
    "Choose a significance level (α), typically 0.05 or 0.01.\n",
    "The significance level represents the probability of making a Type I error (rejecting a true null hypothesis).\n",
    "Step 4: Select a Test Statistic:\n",
    "\n",
    "Choose an appropriate statistical test based on the nature of the data and the hypothesis being tested.\n",
    "Common tests include t-test, z-test, chi-square test, ANOVA, etc.\n",
    "Step 5: Calculate the Test Statistic:\n",
    "\n",
    "Calculate the test statistic using the sample data and the chosen test.\n",
    "The test statistic quantifies how far the sample data deviates from what would be expected under the null hypothesis.\n",
    "Step 6: Determine the Critical Region or p-value:\n",
    "\n",
    "For critical region approach:\n",
    "Determine the critical values corresponding to the chosen significance level and test type (one-tailed or two-tailed).\n",
    "If the test statistic falls in the critical region, reject the null hypothesis.\n",
    "For p-value approach:\n",
    "Calculate the p-value, which represents the probability of observing the data or more extreme data under the null hypothesis.\n",
    "Compare the p-value to the significance level. If p-value < α, reject the null hypothesis.\n",
    "Step 7: Make a Decision:\n",
    "\n",
    "Compare the test statistic (or p-value) to the critical values or significance level.\n",
    "If the test statistic is in the critical region (or p-value < α), reject the null hypothesis. Otherwise, fail to reject the null hypothesis.\n",
    "Step 8: Draw Conclusions:\n",
    "\n",
    "Based on the decision in Step 7, draw conclusions about the null hypothesis and the research question.\n",
    "Interpret the results in the context of the problem and the chosen significance level.\n",
    "Step 9: Report Results:\n",
    "\n",
    "Present the findings, including the calculated test statistic, p-value, and the decision made.\n",
    "Provide context, implications, and limitations of the results.\n",
    "Step 10: Considerations and Further Analysis:\n",
    "\n",
    "Consider the assumptions of the test and whether they were met.\n",
    "If needed, perform additional analyses or sensitivity tests.\n",
    "Reflect on the practical significance of the results and their implications.'''"
   ]
  },
  {
   "cell_type": "code",
   "execution_count": 27,
   "id": "572157c2-2153-4102-a0dc-33a243e2c08f",
   "metadata": {
    "tags": []
   },
   "outputs": [],
   "source": [
    "#Answer 8:The p-value, short for \"probability value,\" is a crucial concept in hypothesis testing. It quantifies the strength of evidence against the null hypothesis by indicating\n",
    "#the probability of observing the sample data, or more extreme data, under the assumption that the null hypothesis is true.\n",
    "\n",
    "#Interpretation of p-value:\n",
    "# low p-value indicates that the observed data is unlikely to have occurred if the null hypothesis is true. It suggests that the data provides strong evidence against the null hypothesis.\n",
    "\n",
    "#Decision Rule:\n",
    "#In hypothesis testing, you compare the p-value to the chosen significance level (α), also known as the \"alpha level\" or \"level of significance.\"\n",
    "#If p-value < α, you have strong evidence against the null hypothesis, and you may choose to reject it in favor of the alternative hypothesis.\n",
    "\n",
    "#Significance Level (α):\n",
    "#The significance level represents the threshold for decision-making. It's the probability of making a Type I error, which is rejecting a true null hypothesis.\n",
    "\n",
    "#Connection to Confidence Intervals:\n",
    "#A smaller p-value corresponds to a narrower confidence interval, and vice versa. Both concepts provide information about the precision of estimation and the likelihood of observing certain values.\n",
    "\n",
    "#Importance in Research:\n",
    "#The p-value allows researchers to quantify the strength of their findings. A small p-value indicates a significant result, while a large p-value indicates a \n",
    "#lack of evidence for the effect being tested.\n",
    "\n",
    "#Cautions and Interpretation:\n",
    "#A small p-value does not necessarily prove that an effect is practically significant or meaningful. Practical significance requires considering the effect size and context."
   ]
  },
  {
   "cell_type": "code",
   "execution_count": 28,
   "id": "018dc2da-d4f4-46f8-8eab-8281cc624148",
   "metadata": {
    "tags": []
   },
   "outputs": [
    {
     "data": {
      "image/png": "[encoded data removed]",
      "text/plain": [
       "<Figure size 800x600 with 1 Axes>"
      ]
     },
     "metadata": {},
     "output_type": "display_data"
    }
   ],
   "source": [
    "#Answer 9:\n",
    "import numpy as np\n",
    "import matplotlib.pyplot as plt\n",
    "from scipy.stats import t\n",
    "\n",
    "# Degrees of freedom\n",
    "df = 10\n",
    "\n",
    "# Generate x values\n",
    "x = np.linspace(-4, 4, 400)\n",
    "\n",
    "# Calculate the corresponding y values using the t-distribution\n",
    "y = t.pdf(x, df)\n",
    "\n",
    "# Create the plot\n",
    "plt.figure(figsize=(8, 6))\n",
    "plt.plot(x, y, label=f\"t-distribution (df={df})\")\n",
    "plt.title(\"Student's t-Distribution\")\n",
    "plt.xlabel(\"x\")\n",
    "plt.ylabel(\"Probability Density\")\n",
    "plt.legend()\n",
    "plt.grid()\n",
    "plt.show()\n"
   ]
  },
  {
   "cell_type": "code",
   "execution_count": 29,
   "id": "1ab09bfe-215f-4c67-aeb9-12d4e6fb9b67",
   "metadata": {
    "tags": []
   },
   "outputs": [
    {
     "name": "stdout",
     "output_type": "stream",
     "text": [
      "Sample 1: [40.64872701 47.66281151 33.40841902 38.18281337 49.75072594 62.01603918\n",
      " 45.33379035 41.58368755 42.33272339 51.47242269 46.97934462 39.55970484\n",
      " 58.53213027 54.2171687  64.98194978 48.47832063 42.35438774 48.83504672\n",
      " 48.34437139 32.6233546  44.02198028 39.16459798 43.98281818 55.12829888\n",
      " 38.03425889 48.86451925 60.40567398 46.02794907 60.33160953 61.92814464\n",
      " 35.61169723 41.01913459 48.72488404 54.55706103 51.67964979 40.10511132\n",
      " 47.41309717 48.59201402 38.25609326 54.03732667 42.90053192 49.12481034\n",
      " 33.8737765  48.99682522 48.16014878 47.769677   59.04811351 48.42540518\n",
      " 58.94078548 34.87569884]\n",
      "Sample 2: [39.82185903 53.44197244 85.51158097 53.49688976 61.94217758 56.05379651\n",
      " 52.02566238 55.1973551  52.93279699 67.2108932  52.83429955 69.03537908\n",
      " 61.82058192 51.89329526 54.30979959 51.24575814 69.42320194 52.21459767\n",
      " 61.96122191 53.92490172 38.33819144 44.86704172 59.75595976 48.90563662\n",
      " 68.51807331 75.31758066 66.04124928 48.86935695 61.00932966 47.60323463\n",
      " 57.41072622 56.68061984 47.13563652 53.45202894 30.02633059 55.78033759\n",
      " 52.49082775 66.88023872 54.54488317 56.78214093 60.7337888  60.39193095\n",
      " 65.4092944  50.8428643  51.23491389 51.22868445 54.64343006 35.19554359\n",
      " 66.17849889 62.40514139]\n",
      "t-statistic: -4.828726571056391\n",
      "p-value: 5.065927332007458e-06\n",
      "Reject the null hypothesis: Population means are not equal.\n"
     ]
    }
   ],
   "source": [
    "#Answer 10:\n",
    "import numpy as np\n",
    "from scipy.stats import ttest_ind\n",
    "\n",
    "# Generate two random samples of equal size\n",
    "sample1 = np.random.normal(50, 10, 50)  \n",
    "sample2 = np.random.normal(55, 10, 50)\n",
    "\n",
    "# Perform the two-sample t-test assuming equal variances\n",
    "t_statistic, p_value = ttest_ind(sample1, sample2, equal_var=True)\n",
    "\n",
    "# Define the significance level\n",
    "alpha = 0.05\n",
    "\n",
    "# Print results\n",
    "print(\"Sample 1:\", sample1)\n",
    "print(\"Sample 2:\", sample2)\n",
    "print(\"t-statistic:\", t_statistic)\n",
    "print(\"p-value:\", p_value)\n",
    "\n",
    "# Compare p-value to significance level to make a decision\n",
    "if p_value < alpha:\n",
    "    print(\"Reject the null hypothesis: Population means are not equal.\")\n",
    "else:\n",
    "    print(\"Fail to reject the null hypothesis: Population means are equal.\")\n"
   ]
  },
  {
   "cell_type": "code",
   "execution_count": 1,
   "id": "d3d1811e-da7f-4f69-8729-0896a4be1aa6",
   "metadata": {},
   "outputs": [],
   "source": [
    "#Answer 11:Student's t-distribution, commonly referred to as the t-distribution, is a probability distribution that is \n",
    "#widely used in statistics for making inferences about population parameters, especially when working with small sample \n",
    "#sizes and unknown population standard deviations.\n",
    "\n",
    "#The t-distribution is used when specific conditions are met:\n",
    "#Small Sample Sizes: The t-distribution is particularly useful when dealing with small sample sizes. When the sample size is\n",
    "#small (usually less than 30), the population standard deviation is often unknown, making the Z-distribution inappropriate.\n",
    "\n",
    "#Unknown Population Standard Deviation: When the population standard deviation is unknown, the t-distribution provides a \n",
    "#better estimation for calculating confidence intervals and conducting hypothesis tests compared to the Z-distribution.\n",
    "\n",
    "#Normal or Approximately Normal Data: The t-distribution assumes that the data follows a normal distribution, or at least \n",
    "#approximately normal. If the data is far from normal, using the t-distribution may not yield accurate results."
   ]
  },
  {
   "cell_type": "code",
   "execution_count": 2,
   "id": "cb5e72d5",
   "metadata": {},
   "outputs": [
    {
     "data": {
      "text/plain": [
       "'\\nx1 and x2 are the sample means of the 2 samples\\n'"
      ]
     },
     "execution_count": 2,
     "metadata": {},
     "output_type": "execute_result"
    }
   ],
   "source": [
    "#Answer 12:The t-statistic (or t-score) is a measure used in hypothesis testing to assess the evidence against the null \n",
    "#hypothesis when comparing sample data to a known or hypothesized population parameter. \n",
    "\n",
    "#t-statistic = (n1-n2)/(Sp*((1/n1)+(1/n2))**1/2)\n",
    "\n",
    "'''\n",
    "x1 and x2 are the sample means of the 2 samples\n",
    "Sp is the pooled standard deviation for the same variance of the sample mean\n",
    "n1 and n2 are the number of sample sizes\n",
    "'''"
   ]
  },
  {
   "cell_type": "code",
   "execution_count": 3,
   "id": "70722c32",
   "metadata": {},
   "outputs": [
    {
     "name": "stdout",
     "output_type": "stream",
     "text": [
      "513.8592929112564 486.1407070887437\n"
     ]
    }
   ],
   "source": [
    "# Answer 13: Formula here will be used pmean = x(bar) +- Z*(sigma/(n**0.5))\n",
    "std = 50\n",
    "sample_mean = 500\n",
    "sample_size = 50\n",
    "confidence_interval = 1.96\n",
    "pmean1 = sample_mean + (confidence_interval*(std/(sample_size**0.5)))\n",
    "pmean2 = sample_mean - (confidence_interval*(std/(sample_size**0.5)))\n",
    "\n",
    "print(pmean1,pmean2)"
   ]
  },
  {
   "cell_type": "code",
   "execution_count": 2,
   "id": "fb61d2ed",
   "metadata": {},
   "outputs": [
    {
     "name": "stdout",
     "output_type": "stream",
     "text": [
      "Sample mean: 8\n",
      "Sample standard deviation: 3\n",
      "Sample size: 100\n",
      "Hypothesized mean: 10\n",
      "Significance level: 0.05\n",
      "Calculated t-statistic: -6.666666666666667\n",
      "Critical t-value: 1.6603911559963895\n",
      "Conclusion: Reject the null hypothesis\n"
     ]
    }
   ],
   "source": [
    "#Answer 14:\n",
    "import scipy.stats as stats\n",
    "\n",
    "# Given values\n",
    "sample_mean = 8\n",
    "sample_std_dev = 3\n",
    "sample_size = 100\n",
    "hypothesized_mean = 10\n",
    "alpha = 0.05\n",
    "\n",
    "# Calculate the t-statistic\n",
    "t_statistic = (sample_mean - hypothesized_mean) / (sample_std_dev / (sample_size ** 0.5))\n",
    "\n",
    "# Calculate degrees of freedom\n",
    "degrees_of_freedom = sample_size - 1\n",
    "\n",
    "# Calculate the critical t-value\n",
    "critical_t_value = stats.t.ppf(1 - alpha, df=degrees_of_freedom)\n",
    "\n",
    "# Perform the hypothesis test\n",
    "if t_statistic < critical_t_value:\n",
    "    conclusion = \"Reject the null hypothesis\"\n",
    "else:\n",
    "    conclusion = \"Fail to reject the null hypothesis\"\n",
    "\n",
    "# Print results\n",
    "print(\"Sample mean:\", sample_mean)\n",
    "print(\"Sample standard deviation:\", sample_std_dev)\n",
    "print(\"Sample size:\", sample_size)\n",
    "print(\"Hypothesized mean:\", hypothesized_mean)\n",
    "print(\"Significance level:\", alpha)\n",
    "print(\"Calculated t-statistic:\", t_statistic)\n",
    "print(\"Critical t-value:\", critical_t_value)\n",
    "print(\"Conclusion:\", conclusion)\n"
   ]
  },
  {
   "cell_type": "code",
   "execution_count": 11,
   "id": "8a3309bc",
   "metadata": {},
   "outputs": [
    {
     "name": "stdout",
     "output_type": "stream",
     "text": [
      "Sample mean: 4.8\n",
      "Population standard deviation: 0.5\n",
      "Sample size: 25\n",
      "Hypothesized mean: 5\n",
      "Significance level: 0.01\n",
      "Calculated z-score: -2.0000000000000018\n",
      "Critical z-value: 2.3263478740408408\n",
      "Conclusion: Reject the null hypothesis\n"
     ]
    }
   ],
   "source": [
    "#Answer 15:\n",
    "import scipy.stats as stats\n",
    "from scipy.stats import norm\n",
    "\n",
    "p_mean = 5\n",
    "sample_size = 25\n",
    "std = 0.5\n",
    "sample_mean = 4.8\n",
    "\n",
    "z_score = (sample_mean - p_mean) / (std / (sample_size ** 0.5))\n",
    "\n",
    "critical_z_score = stats.norm.ppf(0.99)\n",
    "\n",
    "if z_score < critical_z_score:\n",
    "    conclusion = \"Reject the null hypothesis\"\n",
    "else:\n",
    "    conclusion = \"Fail to reject the null hypothesis\"\n",
    "    \n",
    "print(\"Sample mean:\", sample_mean)\n",
    "print(\"Population standard deviation:\", std)\n",
    "print(\"Sample size:\", sample_size)\n",
    "print(\"Hypothesized mean:\", p_mean)\n",
    "print(\"Significance level:\", 0.01)\n",
    "print(\"Calculated z-score:\", z_score)\n",
    "print(\"Critical z-value:\", critical_z_score)\n",
    "print(\"Conclusion:\", conclusion)"
   ]
  },
  {
   "cell_type": "code",
   "execution_count": 12,
   "id": "60cfae82",
   "metadata": {},
   "outputs": [
    {
     "name": "stdout",
     "output_type": "stream",
     "text": [
      "Sample mean for Group 1: 80\n",
      "Sample standard deviation for Group 1: 10\n",
      "Sample size for Group 1: 30\n",
      "Sample mean for Group 2: 75\n",
      "Sample standard deviation for Group 2: 8\n",
      "Sample size for Group 2: 40\n",
      "Significance level: 0.01\n",
      "Pooled standard deviation: 654.3611163480264\n",
      "Calculated t-statistic: 0.031636914637910955\n",
      "Degrees of freedom: 68\n",
      "Critical t-values: -2.6500812928169557 2.6500812928169557\n",
      "Conclusion: Fail to reject the null hypothesis\n"
     ]
    }
   ],
   "source": [
    "#Answer 16:\n",
    "import scipy.stats as stats\n",
    "\n",
    "sample_mean_1 = 80\n",
    "sample_std_dev_1 = 10\n",
    "sample_size_1 = 30\n",
    "\n",
    "sample_mean_2 = 75\n",
    "sample_std_dev_2 = 8\n",
    "sample_size_2 = 40\n",
    "\n",
    "alpha = 0.01\n",
    "\n",
    "pooled_std_dev = ((sample_size_1 - 1) * sample_std_dev_1 ** 2 + (sample_size_2 - 1) * sample_std_dev_2 ** 2) / (sample_size_1 + sample_size_2 - 2) ** 0.5\n",
    "\n",
    "t_statistic = (sample_mean_1 - sample_mean_2) / (pooled_std_dev * (1/sample_size_1 + 1/sample_size_2) ** 0.5)\n",
    "\n",
    "degrees_of_freedom = sample_size_1 + sample_size_2 - 2\n",
    "\n",
    "critical_t_value_lower = stats.t.ppf(alpha/2, df=degrees_of_freedom)\n",
    "critical_t_value_upper = -critical_t_value_lower\n",
    "\n",
    "if t_statistic < critical_t_value_lower or t_statistic > critical_t_value_upper:\n",
    "    conclusion = \"Reject the null hypothesis\"\n",
    "else:\n",
    "    conclusion = \"Fail to reject the null hypothesis\"\n",
    "\n",
    "print(\"Sample mean for Group 1:\", sample_mean_1)\n",
    "print(\"Sample standard deviation for Group 1:\", sample_std_dev_1)\n",
    "print(\"Sample size for Group 1:\", sample_size_1)\n",
    "print(\"Sample mean for Group 2:\", sample_mean_2)\n",
    "print(\"Sample standard deviation for Group 2:\", sample_std_dev_2)\n",
    "print(\"Sample size for Group 2:\", sample_size_2)\n",
    "print(\"Significance level:\", alpha)\n",
    "print(\"Pooled standard deviation:\", pooled_std_dev)\n",
    "print(\"Calculated t-statistic:\", t_statistic)\n",
    "print(\"Degrees of freedom:\", degrees_of_freedom)\n",
    "print(\"Critical t-values:\", critical_t_value_lower, critical_t_value_upper)\n",
    "print(\"Conclusion:\", conclusion)"
   ]
  },
  {
   "cell_type": "code",
   "execution_count": 13,
   "id": "bf432e9e",
   "metadata": {},
   "outputs": [
    {
     "name": "stdout",
     "output_type": "stream",
     "text": [
      "Point Estimate of Population Mean: 4\n"
     ]
    }
   ],
   "source": [
    "#Answer 17:\n",
    "sample_mean = 4\n",
    "sample_std_dev = 1.5\n",
    "sample_size = 50\n",
    "\n",
    "population_mean_estimate = sample_mean\n",
    "\n",
    "print(\"Point Estimate of Population Mean:\", population_mean_estimate)"
   ]
  },
  {
   "cell_type": "code",
   "execution_count": null,
   "id": "53f1453c",
   "metadata": {},
   "outputs": [],
   "source": []
  }
 ],
 "metadata": {
  "kernelspec": {
   "display_name": "Python 3 (ipykernel)",
   "language": "python",
   "name": "python3"
  },
  "language_info": {
   "codemirror_mode": {
    "name": "ipython",
    "version": 3
   },
   "file_extension": ".py",
   "mimetype": "text/x-python",
   "name": "python",
   "nbconvert_exporter": "python",
   "pygments_lexer": "ipython3",
   "version": "3.11.3"
  }
 },
 "nbformat": 4,
 "nbformat_minor": 5
}
