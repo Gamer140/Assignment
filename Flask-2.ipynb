{
 "cells": [
  {
   "cell_type": "code",
   "execution_count": 1,
   "id": "e20dab17-f80e-439c-ba79-bab005c48f09",
   "metadata": {},
   "outputs": [],
   "source": [
    "#Answer 1:The GET method is used to retrieve data from a server.\n",
    "#When a client makes a GET request, the server returns the requested data in the response.\n",
    "#The POST method is used to submit data to be processed by a server.\n",
    "#When a client makes a POST request, the data is included in the body of the request, separate from the URL. "
   ]
  },
  {
   "cell_type": "code",
   "execution_count": 2,
   "id": "82dc0397-e457-4bc6-8c02-372f5befde2f",
   "metadata": {},
   "outputs": [],
   "source": [
    "#Answer 2:The request object in Flask is used to access and handle incoming HTTP requests made by clients."
   ]
  },
  {
   "cell_type": "code",
   "execution_count": 3,
   "id": "c6c168ba-5b01-4f55-8fe0-0258d2e0d518",
   "metadata": {},
   "outputs": [],
   "source": [
    "#Answer 3:The redirect() function in Flask is used to redirect the client's web browser to a different URL."
   ]
  },
  {
   "cell_type": "code",
   "execution_count": 4,
   "id": "362aa5a1-9097-44c4-ae88-bf3e915e13e7",
   "metadata": {},
   "outputs": [],
   "source": [
    "#Answer 4:In Flask, templates are files that contain the structure and presentation logic for generating dynamic web pages.\n",
    "#Templates allow you to separate the HTML/CSS markup from the Python code in your Flask application, promoting better code organization and maintainability.\n",
    "#The render_template() function is used to render these templates and generate the final HTML that is sent as a response to the client's browser."
   ]
  },
  {
   "cell_type": "code",
   "execution_count": null,
   "id": "fa8a12ed-6472-4546-8d9c-b3d438be597f",
   "metadata": {},
   "outputs": [],
   "source": [
    "#Answer 5:\n",
    "\"\"\"\n",
    "https://blue-teacher-jplxi.pwskills.app/lab/tree/work/Untitled2.png\n",
    "\"\"\""
   ]
  }
 ],
 "metadata": {
  "kernelspec": {
   "display_name": "Python 3 (ipykernel)",
   "language": "python",
   "name": "python3"
  },
  "language_info": {
   "codemirror_mode": {
    "name": "ipython",
    "version": 3
   },
   "file_extension": ".py",
   "mimetype": "text/x-python",
   "name": "python",
   "nbconvert_exporter": "python",
   "pygments_lexer": "ipython3",
   "version": "3.10.8"
  }
 },
 "nbformat": 4,
 "nbformat_minor": 5
}
