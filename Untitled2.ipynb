{
 "cells": [
  {
   "cell_type": "code",
   "execution_count": 4,
   "id": "37ce2f73-7051-4d99-995c-052c8a42803a",
   "metadata": {},
   "outputs": [
    {
     "name": "stdout",
     "output_type": "stream",
     "text": [
      "1\n",
      "2\n",
      "3\n",
      "4\n",
      "5\n",
      "\n",
      "\n",
      "10\n",
      "9\n",
      "8\n",
      "7\n",
      "6\n"
     ]
    }
   ],
   "source": [
    "#Answer 1 The for loop is used when we know the number of iterations, that is, how many times a statement must be executed. That is\n",
    "#why, when we initialize the for loop, we must define the ending point.\n",
    "#A while loop is used when the number of iterations is unknown. It is used when we need to end the loop on a condition other\n",
    "#than the number of repetitions. It is not necessary to know the condition ahead of time in this case. That is why we can use a\n",
    "#boolean expression in the loop's initialization.\n",
    "f = [1,2,3,4,5]\n",
    "for i in f:\n",
    "    print(i)\n",
    "#Here the for loop is executing for number of items in the list\n",
    "print('\\n')\n",
    "a = 10\n",
    "while a!=5:\n",
    "    print(a)\n",
    "    a-=1\n",
    "#Here the while loop is executing till a does'nt reach 5"
   ]
  },
  {
   "cell_type": "code",
   "execution_count": 5,
   "id": "54a62626-b86e-4cb2-897d-14caf29c4112",
   "metadata": {},
   "outputs": [
    {
     "name": "stdout",
     "output_type": "stream",
     "text": [
      "55\n",
      "3628800\n"
     ]
    }
   ],
   "source": [
    "#Answer2\n",
    "a = 1\n",
    "sum_1 = 0\n",
    "product =1\n",
    "while a!=11:\n",
    "    sum_1+=a\n",
    "    product*=a\n",
    "    a+=1\n",
    "print(sum_1)\n",
    "print(product)"
   ]
  },
  {
   "cell_type": "code",
   "execution_count": 18,
   "id": "2f15722c-cfd3-401f-8820-cb1a49a52f69",
   "metadata": {},
   "outputs": [
    {
     "name": "stdin",
     "output_type": "stream",
     "text": [
      "Enter the electricity bill 150\n"
     ]
    },
    {
     "name": "stdout",
     "output_type": "stream",
     "text": [
      "The bill is 750.0\n"
     ]
    }
   ],
   "source": [
    "#ANswer 3\n",
    "unit_amount = int(input(\"Enter the electricity bill\"))\n",
    "unit_bill = 0.00\n",
    "calc = 0\n",
    "uneven = 0\n",
    "if unit_amount <= 100:\n",
    "    calc = 1\n",
    "elif unit_amount <= 200 and unit_amount >= 100:\n",
    "    calc = 2\n",
    "elif unit_amount <= 300 and unit_amount >= 200:\n",
    "    calc = 3\n",
    "elif unit_amount > 300:\n",
    "    calc = 4\n",
    "\n",
    "for cal in range(0,calc):\n",
    "    if unit_amount%100 != 0 and unit_amount<300:\n",
    "        uneven = unit_amount%100\n",
    "    elif unit_amount > 300:\n",
    "        uneven = unit_amount - 300\n",
    "        \n",
    "    if cal == 0 and unit_amount >= 100:\n",
    "        unit_bill+=100*4.5\n",
    "        unit_amount-=100\n",
    "    elif cal == 0 and unit_amount < 100:\n",
    "        unit_bill+=unit_amount*4.5\n",
    "    \n",
    "    if cal == 1 and unit_amount >= 100:\n",
    "        unit_bill+=100*6\n",
    "        unit_amount-=100\n",
    "    elif cal == 1 and unit_amount < 100:\n",
    "        unit_bill+=uneven*6\n",
    "    \n",
    "    if cal == 2 and unit_amount >= 100:\n",
    "        unit_bill+=100*10\n",
    "        unit_amount-=100\n",
    "    elif cal == 2 and unit_amount < 100:\n",
    "        unit_bill+=uneven*10\n",
    "    \n",
    "    if cal == 3 :\n",
    "        unit_bill+=uneven*20\n",
    "    \n",
    "print('The bill is '+f'{unit_bill}')"
   ]
  },
  {
   "cell_type": "code",
   "execution_count": 2,
   "id": "4cfdfeac-7c04-428d-b927-41bd4874f932",
   "metadata": {},
   "outputs": [
    {
     "name": "stdout",
     "output_type": "stream",
     "text": [
      "[4, 5, 8, 10, 12, 15, 16, 20, 24, 25, 28, 30, 32, 35, 36, 40, 44, 45, 48, 50, 52, 55, 56, 60, 64, 65, 68, 70, 72, 75, 76, 80, 84, 85, 88, 90, 92, 95, 96, 100]\n"
     ]
    }
   ],
   "source": [
    "#Answer doubt 4 whether print on every execution of the loop or after the end\n",
    "numbers = list(range(1,101))\n",
    "cube = 0\n",
    "number_list = []\n",
    "for number in numbers:\n",
    "    cube = number^3\n",
    "    if number%4 == 0 or number%5 == 0:\n",
    "        number_list.append(number)\n",
    "\n",
    "print(number_list)\n",
    "#ANswer dount 5 whether to count the vowels or filter the vowels"
   ]
  },
  {
   "cell_type": "code",
   "execution_count": 4,
   "id": "bae00981-eeb8-46a2-8af3-a6ef7767727f",
   "metadata": {},
   "outputs": [
    {
     "name": "stdout",
     "output_type": "stream",
     "text": [
      "12\n"
     ]
    }
   ],
   "source": [
    "import re\n",
    "q = \"I want to become a data scientist\"\n",
    "q = q.lower()\n",
    "s = re.findall('[aeiou]',q)\n",
    "print(len)"
   ]
  },
  {
   "cell_type": "code",
   "execution_count": null,
   "id": "707d402b-3123-472e-b878-397f55a30560",
   "metadata": {},
   "outputs": [],
   "source": []
  }
 ],
 "metadata": {
  "kernelspec": {
   "display_name": "Python 3 (ipykernel)",
   "language": "python",
   "name": "python3"
  },
  "language_info": {
   "codemirror_mode": {
    "name": "ipython",
    "version": 3
   },
   "file_extension": ".py",
   "mimetype": "text/x-python",
   "name": "python",
   "nbconvert_exporter": "python",
   "pygments_lexer": "ipython3",
   "version": "3.10.8"
  }
 },
 "nbformat": 4,
 "nbformat_minor": 5
}
