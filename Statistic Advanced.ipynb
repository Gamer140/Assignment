{
 "cells": [
  {
   "cell_type": "code",
   "execution_count": 1,
   "id": "a4196b90-222c-48f3-9d74-dd45a9b1bd40",
   "metadata": {},
   "outputs": [],
   "source": [
    "#Answer 1:a probability density function (PDF) is used to define the random variable’s \n",
    "#probability coming within a distinct range of values, as opposed to taking on any one \n",
    "#value. The function explains the probability density function of normal distribution and\n",
    "#how mean and deviation exists."
   ]
  },
  {
   "cell_type": "code",
   "execution_count": 2,
   "id": "a1a86cb6-6cd0-4044-90a6-a65b2f3b2675",
   "metadata": {},
   "outputs": [],
   "source": [
    "#Answer 2: Normal/Gaussian Dstribution, Bernaulli Distribution, Uniform Distribution, \n",
    "# Poisson Distribution, Log Normal Distribution, Binomial Distribution"
   ]
  },
  {
   "cell_type": "code",
   "execution_count": 7,
   "id": "a0b104e2-a09f-4fe5-81ac-aba7c9e99119",
   "metadata": {},
   "outputs": [
    {
     "name": "stdin",
     "output_type": "stream",
     "text": [
      "Enter the value of point from dataframe 5.1\n"
     ]
    },
    {
     "data": {
      "text/plain": [
       "0.22781537407304778"
      ]
     },
     "execution_count": 7,
     "metadata": {},
     "output_type": "execute_result"
    }
   ],
   "source": [
    "#Answer 3:\n",
    "import pandas as pd\n",
    "import seaborn as sns\n",
    "from math import e\n",
    "\n",
    "df = sns.load_dataset(\"iris\")\n",
    "df = pd.DataFrame(df)\n",
    "mean = df[\"sepal_length\"].mean()\n",
    "var = df[\"sepal_length\"].std()\n",
    "def pdf(mean,var):\n",
    "    x = float(input(\"Enter the value of point from dataframe\"))\n",
    "    return (1/(var*(2*22/7)**1/2)*(1/(e**1/2))*(((x-mean)/var)**2))\n",
    "pdf(mean,var)"
   ]
  },
  {
   "cell_type": "code",
   "execution_count": null,
   "id": "fe94b53a-41b1-4cc2-b025-d18a3676f45a",
   "metadata": {},
   "outputs": [],
   "source": [
    "#Answer 4:The Binomial distribution is a discrete probability distribution that models \n",
    "#the number of successes in a fixed number of independent Bernoulli trials, where each \n",
    "#trial can result in either a success or a failure.\n",
    "'''\n",
    "Properties of the Binomial Distribution:\n",
    "Discrete Nature: The Binomial distribution deals with discrete random variables, \n",
    "as the number of successes can only take on non-negative integer values.\n",
    "\n",
    "Independent Trials: Each trial is assumed to be independent of others, meaning that \n",
    "the outcome of one trial does not influence the outcome of any other trial.\n",
    "\n",
    "Constant Probability: The probability of success \"p\" remains constant across all trials.\n",
    "Fixed Number of Trials: The number of trials \"n\" is fixed and known in advance.\n",
    "\n",
    "Bernoulli Trials: Each individual trial follows a Bernoulli distribution, \n",
    "which is a special case of the Binomial distribution with \"n=1.\"\n",
    "\n",
    "Examples are :\n",
    "Tossing of a coin so probably 0 or 1 heads/tails , tails,heads\n",
    "no of people infected with corona virus'''"
   ]
  },
  {
   "cell_type": "code",
   "execution_count": 8,
   "id": "7f21c19a-6e24-4883-b2be-365e5a1be0c6",
   "metadata": {},
   "outputs": [
    {
     "data": {
      "image/png": "[encoded data removed]",
      "text/plain": [
       "<Figure size 640x480 with 1 Axes>"
      ]
     },
     "metadata": {},
     "output_type": "display_data"
    }
   ],
   "source": [
    "#Answer 5: \n",
    "import numpy as np\n",
    "import matplotlib.pyplot as plt\n",
    "a = np.random.binomial(1,0.4,1000)\n",
    "plt.hist(a,bins=2)\n",
    "plt.xticks([0, 1], ['Failure', 'Success'])\n",
    "plt.xlabel('Outcome')\n",
    "plt.ylabel('Frequency')\n",
    "plt.title('Histogram of Random Sample from Binomial Distribution')\n",
    "plt.show()"
   ]
  },
  {
   "cell_type": "code",
   "execution_count": 1,
   "id": "9050f337-367a-4945-803c-7613197b9e8d",
   "metadata": {},
   "outputs": [
    {
     "name": "stdout",
     "output_type": "stream",
     "text": [
      "0.3574221345102988\n"
     ]
    }
   ],
   "source": [
    "#Answer 6:\n",
    "import seaborn as sns\n",
    "import scipy.stats as stats\n",
    "\n",
    "df = sns.load_dataset(\"tips\")\n",
    "mean = df['tip'].mean()\n",
    "cdf = stats.poisson.cdf(mean ,3.31)\n",
    "print(cdf)"
   ]
  },
  {
   "cell_type": "code",
   "execution_count": 2,
   "id": "0b849f94-ceee-4b2e-af62-ec134a291d83",
   "metadata": {},
   "outputs": [],
   "source": [
    "#Answer 7: Thdifference in both distributions are\n",
    "# The number of trials in binomial are independent of time where as in poisson it is dependent of time\n",
    "# The probablity success is constant in binomial and in posson it occurs independtly for n trial in an interval of time\n",
    "# the pmf function of binomial is when the n no. of trials is small and success rate is not too high or low\n",
    "# in poisson the pmf is the events are rare occur independently and the average rate moderate to high"
   ]
  },
  {
   "cell_type": "code",
   "execution_count": 4,
   "id": "4981d5aa",
   "metadata": {},
   "outputs": [
    {
     "name": "stdout",
     "output_type": "stream",
     "text": [
      "sample mean 5.018\n",
      "Variance 4.819676\n"
     ]
    }
   ],
   "source": [
    "#Answer 8:\n",
    "import numpy as np\n",
    "import pandas as pd\n",
    "\n",
    "a = np.random.poisson(lam = 5, size = 1000)\n",
    "s_mean = a.mean()\n",
    "var = a.var()\n",
    "\n",
    "print(\"sample mean\", s_mean)\n",
    "print(\"Variance\", var)"
   ]
  },
  {
   "cell_type": "code",
   "execution_count": 5,
   "id": "c17a2a18",
   "metadata": {},
   "outputs": [],
   "source": [
    "#Answer 9: In binomial distribution Mean > Variance while in poisson distribution mean = variance."
   ]
  },
  {
   "cell_type": "code",
   "execution_count": null,
   "id": "25a081fd",
   "metadata": {},
   "outputs": [],
   "source": [
    "#Answer 10: the east frequent data points are located at the tails of the distribution, farthest from the mean."
   ]
  }
 ],
 "metadata": {
  "kernelspec": {
   "display_name": "Python 3 (ipykernel)",
   "language": "python",
   "name": "python3"
  },
  "language_info": {
   "codemirror_mode": {
    "name": "ipython",
    "version": 3
   },
   "file_extension": ".py",
   "mimetype": "text/x-python",
   "name": "python",
   "nbconvert_exporter": "python",
   "pygments_lexer": "ipython3",
   "version": "3.11.3"
  }
 },
 "nbformat": 4,
 "nbformat_minor": 5
}
