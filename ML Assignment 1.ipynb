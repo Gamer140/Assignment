{
 "cells": [
  {
   "cell_type": "code",
   "execution_count": 1,
   "id": "c58fe67d",
   "metadata": {},
   "outputs": [],
   "source": [
    "#Answer 1: Artificial Intelligence :- At its core, it's about teaching computers to program themselves to make decisions or \n",
    "#perform actions based on its existing knowledge. Several examples of AI in everyday life use machine learning, such as smart\n",
    "#thermostats like Nest and transportation apps such as Uber\n",
    "\n",
    "#Machine Learning:- Machine learning is a form of artificial intelligence (AI) that teaches computers to think in a similar\n",
    "#way to how humans do: Learning and improving upon past experiences. It works by exploring data and identifying patterns,\n",
    "#and involves minimal human intervention.\n",
    "\n",
    "#Deep Learning:- Deep learning is a subset of machine learning that is made up of a neural network with three or more layers.\n",
    "#A neural network attempts to model the human brain's behavior by learning from large data sets. Deep learning drives many AI\n",
    "#applications that improve the way systems and tools deliver services, such as voice-enabled technology and credit card fraud\n",
    "#detection"
   ]
  },
  {
   "cell_type": "code",
   "execution_count": 2,
   "id": "1871436e",
   "metadata": {},
   "outputs": [],
   "source": [
    "#Answer 2:Supervised learning is a type of machine learning in which a computer algorithm learns to make predictions or \n",
    "#decisions based on labeled data. Labeled data is made up of previously known input variables (also known as features) and\n",
    "#output variables (also known as labels). By analyzing patterns and relationships between input and output variables in \n",
    "#labeled data, the algorithm learns to make predictions. Image and speech recognition, recommendation systems, and fraud\n",
    "#detection are all examples of how supervised learning is used."
   ]
  },
  {
   "cell_type": "code",
   "execution_count": 3,
   "id": "7f429b71",
   "metadata": {},
   "outputs": [],
   "source": [
    "#Answer 3: Unsupervised learning is the training of a machine using information that is neither classified nor labeled and\n",
    "#allowing the algorithm to act on that information without guidance. Here the task of the machine is to group unsorted \n",
    "#information according to similarities, patterns, and differences without any prior training of data.\n",
    "#Example:data exploration,customer segmentation,recommender systems,target marketing campaigns,\n",
    "#data preparation and visualization"
   ]
  },
  {
   "cell_type": "code",
   "execution_count": 1,
   "id": "31eaac47",
   "metadata": {},
   "outputs": [],
   "source": [
    "#Answer 4:Technology\n",
    "#AI:Uses decision trees, logic, and statistical data to mimic human intelligence\n",
    "#ML:Uses statistical methods and algorithms to enable machines to learn from experience\t\n",
    "#DL:It relies on algorithms and artificial neural networks designed to imitate how humans think and learn\n",
    "#DS:Uses math, programming, and business analysis to produce insights from vast volumes of data\n",
    "\n",
    "#Computational Requirements\t\n",
    "#AI:Requires higher computational power to make machines acquire human-level intelligence\n",
    "#ML:Requires high-performance computers with good-quality GPU for the machine learning algorithms to function\n",
    "#DL:Deep learning is computationally expensive, given it is remarkable at diverse modeling phenomena\n",
    "#DS:Requires higher RAM to find and extract patterns in data"
   ]
  },
  {
   "cell_type": "code",
   "execution_count": 2,
   "id": "42ec191e",
   "metadata": {},
   "outputs": [],
   "source": [
    "#Answer 5:Supervised learning is a problem with labeled data, expecting to develop predictive capability. \n",
    "#Unsupervised learning is discovering process, diving into unlabeled data to capture hidden information.\n",
    "#Semi-supervised learning is a blend of supervised and unsupervised learning."
   ]
  },
  {
   "cell_type": "code",
   "execution_count": 3,
   "id": "7b1615d7",
   "metadata": {},
   "outputs": [],
   "source": [
    "#Answer 6:\n",
    "#Train:Set of data used for learning (by the model), that is, to fit the parameters to the machine learning model\n",
    "#Valid:Set of data used to provide an unbiased evaluation of a model fitted on the training dataset \n",
    "#while tuning model hyperparameters.\n",
    "#Also play a role in other forms of model preparation, such as feature selection, threshold cut-off selection.\n",
    "#Validation:Set of data used to provide an unbiased evaluation of a final model fitted on the training dataset"
   ]
  },
  {
   "cell_type": "code",
   "execution_count": 4,
   "id": "fb3a8505",
   "metadata": {},
   "outputs": [],
   "source": [
    "#Answer 7:  This method does require any training data and instead assumes two things about the data ie Only a small \n",
    "#percentage of data is anomalous and Any anomaly is statistically different from the normal samples. Based on the above\n",
    "#assumptions, the data is then clustered using a similarity measure and the data points which are far off from the cluster\n",
    "#are considered to be anomalies"
   ]
  },
  {
   "cell_type": "code",
   "execution_count": 5,
   "id": "81b78fe5",
   "metadata": {},
   "outputs": [],
   "source": [
    "#Answer 8:\n",
    "#Supervised Learning algorithams : Neural networks,Naive bayes,Linear regression,Logistic regression\n",
    "#Support vector machines,K-nearest neighbor\n",
    "#Unsupervised Learning Algorithams : Hierarchical Clustering,Anomaly Detection,Principal Component Analysis,\n",
    "#Apriori Algorithm"
   ]
  },
  {
   "cell_type": "code",
   "execution_count": null,
   "id": "f5b34cd5",
   "metadata": {},
   "outputs": [],
   "source": []
  }
 ],
 "metadata": {
  "kernelspec": {
   "display_name": "Python 3 (ipykernel)",
   "language": "python",
   "name": "python3"
  },
  "language_info": {
   "codemirror_mode": {
    "name": "ipython",
    "version": 3
   },
   "file_extension": ".py",
   "mimetype": "text/x-python",
   "name": "python",
   "nbconvert_exporter": "python",
   "pygments_lexer": "ipython3",
   "version": "3.11.3"
  }
 },
 "nbformat": 4,
 "nbformat_minor": 5
}
