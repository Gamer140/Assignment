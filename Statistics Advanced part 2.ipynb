{
 "cells": [
  {
   "cell_type": "code",
   "execution_count": null,
   "id": "2250832a-f36b-4ac1-ad1b-b324cc5ad4c0",
   "metadata": {},
   "outputs": [],
   "source": [
    "#Answer 1: The PMF is a function that provides the probability of a discrete random\n",
    "#variable taking on a specific value. It assigns probabilities to individual outcomes, \n",
    "#and the sum of all these probabilities over all possible values of the random variable \n",
    "#equals 1. Example rolling of a dice it has a probablity of 1/6 and if we sum up the \n",
    "#probablity of all 6 number it will 1 as (1/6)*6 is 1\n",
    "#The PDF is used for continuous random variables and provides the likelihood of a random\n",
    "#variable falling within a particular interval. Unlike the PMF, which assigns \n",
    "#probabilities to individual outcomes, the PDF does not provide the probability of a \n",
    "#specific value but rather the relative likelihood of being within a range of values.\n",
    "#Consider a continuous random variable \"Y\" representing the height of adult males. \n",
    "#The PDF of \"Y\" might describe the likelihood of finding individuals within certain \n",
    "#height ranges."
   ]
  },
  {
   "cell_type": "code",
   "execution_count": null,
   "id": "73a7a4ca-2d03-4520-b2fd-b1de6f35ba43",
   "metadata": {},
   "outputs": [],
   "source": [
    "#Answer 2:The Cumulative Distribution Function (CDF) is a fundamental concept in \n",
    "#probability and statistics that provides information about the probability of a random \n",
    "#variable taking on a value less than or equal to a given value. In other words, the CDF\n",
    "#gives you the cumulative probability up to a certain point along the range of possible\n",
    "#values of the random variable.\n",
    "#Example Let's consider a fair six-sided die roll. The random variable \"X\" represents the\n",
    "#outcome of the roll. The CDF of \"X\" would be calculated as follows:\n",
    "# F(6) = p(X<=6) = 1\n",
    "'''Probability Evaluation: The CDF provides an easy way to calculate the probability of a\n",
    "random variable falling within a specific range. For example, to find the probability of \n",
    "rolling a value between 2 and 4 (inclusive) on a fair die, you would subtract the CDF \n",
    "value at 1 from the CDF value at 4: F(4) - F(1) = 2/3 - 1/6 = 1/2.\n",
    "\n",
    "Quantiles and Percentiles: CDF is used to determine quantiles (values that divide a \n",
    "dataset into equal-sized groups) and percentiles (values that divide a dataset into 100\n",
    "equal parts). For example, the 75th percentile is the value where the CDF equals 0.75.\n",
    "\n",
    "Comparisons: CDF allows for comparing different probability distributions and \n",
    "understanding their characteristics, such as the spread and central tendency.'''"
   ]
  },
  {
   "cell_type": "code",
   "execution_count": null,
   "id": "e8ec5fdd-5b9c-49aa-a264-89ef7718b856",
   "metadata": {},
   "outputs": [],
   "source": [
    "#Answer 3:The normal distribution (also known as the Gaussian distribution) is a widely \n",
    "#used probability distribution that has a bell-shaped curve. It is applied in various \n",
    "#fields to model real-world phenomena where data tend to cluster around a central value\n",
    "#with a symmetric pattern.\n",
    "'''Height of Individuals: The heights of adult individuals often follow a normal \n",
    "distribution. Most people are close to the average height, with fewer individuals being \n",
    "extremely tall or extremely short.\n",
    "\n",
    "Measurement Errors: Errors in measurements, such as weighing objects or recording \n",
    "temperatures, tend to be normally distributed around the true value.\n",
    "\n",
    "IQ Scores: IQ scores in a population often follow a normal distribution. The majority of\n",
    "people have average IQ scores, with fewer people having very low or very high scores.\n",
    "\n",
    "Exam Scores: In large populations, the scores of standardized exams tend to approximate a\n",
    "normal distribution, with a peak around the average score.\n",
    "\n",
    "Financial Returns: In finance, stock returns over short periods often follow a normal \n",
    "distribution, which is a foundational assumption in many financial models.\n",
    "\n",
    "Natural Phenomena: Many natural processes, such as the distribution of particle speeds in\n",
    "a gas, can be approximated by a normal distribution.'''\n",
    "\n",
    "\n",
    "'''The normal distribution is characterized by two parameters: the mean (μ) and the \n",
    "standard deviation (σ). These parameters have a significant impact on the shape of the \n",
    "distribution'''"
   ]
  },
  {
   "cell_type": "code",
   "execution_count": 7,
   "id": "637538d4-dff0-4b66-bb10-7bbec61024f6",
   "metadata": {},
   "outputs": [],
   "source": [
    "#Answer 4:\n",
    "#1)It has one of the important properties called central theorem. Central theorem means\n",
    "#relationship between shape of population distribution and shape of sampling distribution\n",
    "#of mean. This means that sampling distribution of mean approaches normal as sample size\n",
    "#increase.\n",
    "#2)In case the sample size is large the normal distribution serves as good approximation.\n",
    "#3)Due to its mathematical properties it is more popular and easy to calculate.\n",
    "#4)It is used in statistical quality control in setting up of control limits.\n",
    "#5)The whole theory of sample tests t, f and chi-square test is based on the normal \n",
    "#distribution.\n",
    "#Example: Hieght of individuals, IQ scores, Measurement errors, Financial returns,\n",
    "#Exam Scores"
   ]
  },
  {
   "cell_type": "code",
   "execution_count": null,
   "id": "12263731-5a3c-4242-8472-1ad2226a67b6",
   "metadata": {},
   "outputs": [],
   "source": [
    "#Answer 5: Bernaulli has a single trial and binomial has finite number of trials both with\n",
    "#the success or failure\n",
    "'''The Bernoulli distribution is a discrete probability distribution that models a random\n",
    "experiment with two possible outcomes: success (usually denoted as \"1\") and failure \n",
    "(usually denoted as \"0\"). It's often used to describe situations where there are only two\n",
    "possible outcomes in a single trial.'''\n",
    "#Consider the flipping of a fair coin. Let's define \"success\" as getting heads (H) and\n",
    "#\"failure\" as getting tails (T)."
   ]
  },
  {
   "cell_type": "code",
   "execution_count": 3,
   "id": "dd5a4dd7-23ac-4fad-9d60-6cfe96b5d469",
   "metadata": {},
   "outputs": [
    {
     "name": "stdout",
     "output_type": "stream",
     "text": [
      "1.0 84.13\n"
     ]
    }
   ],
   "source": [
    "#Answer 6:\n",
    "import pandas as pd\n",
    "mean = 50\n",
    "std = 10\n",
    "#The formula to standardize a value \"x\" from a normal distribution with mean \"μ\" and \n",
    "#standard deviation \"σ\" into a z-score is:\n",
    "#(x-u)/variance, so\n",
    "z = (60-50)/10\n",
    "# Here z is 1 so Answer is 84.13%\n",
    "print(z,84.13)"
   ]
  },
  {
   "cell_type": "code",
   "execution_count": 4,
   "id": "85426c40-da38-4810-854b-55ff1af5fe61",
   "metadata": {},
   "outputs": [],
   "source": [
    "#Answer 7: statistics, uniform distribution refers to a type of probability distribution\n",
    "#in which all outcomes are equally likely. A deck of cards has within it uniform \n",
    "#distributions because the likelihood of drawing a heart, a club, a diamond, or a spade \n",
    "#is equally likely."
   ]
  },
  {
   "cell_type": "code",
   "execution_count": 5,
   "id": "1e9f0ba6-b503-4085-b1ed-79ddc69dee75",
   "metadata": {},
   "outputs": [],
   "source": [
    "#Answer 8:A z-score measures the distance between a data point and the mean using \n",
    "#standard deviations. Z-scores can be positive or negative. The sign tells you \n",
    "#whether the observation is above or below the mean.\n",
    "# It indicates how many standard deviations an entity is, from the mean.\n",
    "#Z-scores are used to calculate probabilities associated with specific values or ranges of\n",
    "#values in a normal distribution."
   ]
  },
  {
   "cell_type": "code",
   "execution_count": null,
   "id": "2e5e58c7-e413-4378-bd17-81995e638cba",
   "metadata": {},
   "outputs": [],
   "source": [
    "#Answer 9:The CLT is a statistical theory that states that - if you take a sufficiently \n",
    "#large sample size from a population with a finite level of variance, the mean of all \n",
    "#samples from that population will be roughly equal to the population mean.\n",
    "'''Political/election polling is a great example of how you can use CLT. These polls are \n",
    "used to estimate the number of people who support a specific candidate. You may have \n",
    "seen these results with confidence intervals on news channels. The CLT aids in this \n",
    "calculation.\n",
    "\n",
    "You use the CLT in various census fields to calculate various population details, such\n",
    "as family income, electricity consumption, individual salaries, and so on.'''"
   ]
  },
  {
   "cell_type": "code",
   "execution_count": 2,
   "id": "e6e4daef-a3df-4c98-a1b2-32945df10fe2",
   "metadata": {},
   "outputs": [],
   "source": [
    "#Answer 10:Independence: The sampled observations must be independent of each other. This\n",
    "#means that the value of one observation does not influence or affect the value of any \n",
    "#other observation in the sample.\n",
    "\n",
    "#Sample Size: The sample size should be sufficiently large. While there is no strict rule\n",
    "#for what constitutes a \"sufficiently large\" sample size, a general guideline is that the\n",
    "#larger the sample size, the better the approximation to a normal distribution. However,\n",
    "#for some distributions, even moderately sized samples can produce reasonably normal \n",
    "#distributions.\n",
    "\n",
    "#Identical Distribution: Each observation in the sample should come from the same \n",
    "#population with the same distribution, mean, and variance. This assumption ensures that\n",
    "#there is consistency in the underlying data generating process.\n",
    "\n",
    "#Finite Variance: The population from which the sample is drawn must have a finite \n",
    "#variance. If the variance is infinite, the CLT might not apply, and other distributions \n",
    "#might emerge.\n",
    "\n",
    "#No Extreme Skewness: If the population distribution is highly skewed, the CLT might not\n",
    "#hold for small sample sizes, and more substantial sample sizes might be needed for the\n",
    "#approximation to a normal distribution."
   ]
  },
  {
   "cell_type": "code",
   "execution_count": null,
   "id": "a5988d90-2306-47d9-92c4-751cad8ae300",
   "metadata": {},
   "outputs": [],
   "source": []
  }
 ],
 "metadata": {
  "kernelspec": {
   "display_name": "Python 3 (ipykernel)",
   "language": "python",
   "name": "python3"
  },
  "language_info": {
   "codemirror_mode": {
    "name": "ipython",
    "version": 3
   },
   "file_extension": ".py",
   "mimetype": "text/x-python",
   "name": "python",
   "nbconvert_exporter": "python",
   "pygments_lexer": "ipython3",
   "version": "3.10.8"
  }
 },
 "nbformat": 4,
 "nbformat_minor": 5
}
