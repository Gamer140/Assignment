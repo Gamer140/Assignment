{
 "cells": [
  {
   "cell_type": "code",
   "execution_count": 1,
   "id": "bc2a56ab",
   "metadata": {},
   "outputs": [],
   "source": [
    "#Answer 1:It refers to the process of converting categorical or textual data into numerical format, so that it can be used as \n",
    "#input for algorithms to process. The reason for encoding is that most machine learning algorithms work with numbers and not \n",
    "#with text or categorical variables.\n",
    "#• Most machine learning algorithms work only with numerical data, so categorical variables (such as text labels) must be\n",
    "#transformed into numerical values.\n",
    "#This allows the model to identify patterns in the data and make predictions based on those patterns.\n",
    "#Encoding also helps to prevent bias in the model by ensuring that all features are equally weighted."
   ]
  },
  {
   "cell_type": "code",
   "execution_count": 2,
   "id": "2dfda520",
   "metadata": {},
   "outputs": [],
   "source": [
    "#Answer 2:Nominal encoding, also known as label encoding, is a method of representing categorical data in a numerical format.\n",
    "#In nominal encoding, each category or label of a categorical variable is assigned a unique integer value. The assignment of\n",
    "#these values is typically arbitrary and does not imply any inherent order, ranking, or relationship between the categories.\n",
    "\n",
    "#For example, if you have a categorical variable representing car colors with categories \"Red,\" \"Blue,\" and \"Green,\" you\n",
    "#might perform nominal encoding by assigning integer values like 0 for \"Red,\" 1 for \"Blue,\" and 2 for \"Green.\" The specific\n",
    "#values assigned may vary, but the key point is that these values are only used to represent the categories numerically\n",
    "#and do not carry any meaningful numerical information."
   ]
  },
  {
   "cell_type": "code",
   "execution_count": 3,
   "id": "343da93e",
   "metadata": {},
   "outputs": [],
   "source": [
    "#Answer 3:Nominal encoding is used when you want to convert categorical data into a format that can be processed by\n",
    "#machine learning algorithms, which typically work with numerical data. It's important to note that when using nominal\n",
    "#encoding, you should be cautious when working with machine learning algorithms that may misinterpret the assigned numerical\n",
    "#values as having an ordinal relationship, especially when there is no inherent order among the categories.\n",
    "\n",
    "#Memory Efficiency: One-hot encoding can significantly increase the memory usage of your dataset, especially when you have\n",
    "#any unique categories. Nominal encoding is more memory-efficient as it uses less space."
   ]
  },
  {
   "cell_type": "code",
   "execution_count": 4,
   "id": "d1571e9d",
   "metadata": {},
   "outputs": [],
   "source": [
    "#Answer 4: I will choose nominal or label encoding because it will use less memory and will not have any kind or relation\n",
    "#between the values as it will have extra features buthose values would be null or NaN."
   ]
  },
  {
   "cell_type": "code",
   "execution_count": 6,
   "id": "63fc03d2",
   "metadata": {},
   "outputs": [],
   "source": [
    "#Answer 5: Only 2 columns will be selected for encoding and if we are using nominal encoding it will depend how many unique\n",
    "# values those 1000 rows are containing if there are 20 20 extra columns will be created its like for every unique value\n",
    "# there will be a new column or feature"
   ]
  },
  {
   "cell_type": "code",
   "execution_count": 7,
   "id": "268a2ca7",
   "metadata": {},
   "outputs": [],
   "source": [
    "#Answer 6: First we will choose which features are categorical and then by seeing and sorting the data how many unique values or\n",
    "#other factors we will choose the encoding factor if the data in nominal choose nominal encoding if ordinal, ordinal encoding\n",
    "#and if the data is labeled label encoding"
   ]
  },
  {
   "cell_type": "code",
   "execution_count": 8,
   "id": "7bd49c48",
   "metadata": {},
   "outputs": [],
   "source": [
    "#Answer 7: In this dataset we will select the two features which are contract type and gender we can apply apply here nominal\n",
    "# or one-hot encoding if the data is large we will apply nominal otherwise one hot-encoding first we will import pandas \n",
    "# and import the data frame\n",
    "# then we will get the 2 columns of dataframe\n",
    "# import sklearn.preprocessing and import the one hot encoding or nominal encoder\n",
    "# and then we use fit_transform for the dataset of 2 columns\n",
    "# and implement it to dataset"
   ]
  },
  {
   "cell_type": "code",
   "execution_count": null,
   "id": "8a7f9f97",
   "metadata": {},
   "outputs": [],
   "source": []
  }
 ],
 "metadata": {
  "kernelspec": {
   "display_name": "Python 3 (ipykernel)",
   "language": "python",
   "name": "python3"
  },
  "language_info": {
   "codemirror_mode": {
    "name": "ipython",
    "version": 3
   },
   "file_extension": ".py",
   "mimetype": "text/x-python",
   "name": "python",
   "nbconvert_exporter": "python",
   "pygments_lexer": "ipython3",
   "version": "3.11.3"
  }
 },
 "nbformat": 4,
 "nbformat_minor": 5
}
