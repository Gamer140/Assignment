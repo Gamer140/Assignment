{
 "cells": [
  {
   "cell_type": "code",
   "execution_count": 10,
   "id": "b666e92a-7981-45b2-8778-efcc82a468f9",
   "metadata": {},
   "outputs": [],
   "source": [
    "#Answer 1\n",
    "class vehicle:\n",
    "    \n",
    "    def __init__(self,name_of_vehicle,max_speed,average_of_vehicle):\n",
    "        self.name_of_vehicle = name_of_vehicle\n",
    "        self.max_speed = max_speed\n",
    "        self.average_of_vehicle = average_of_vehicle\n",
    "        \n"
   ]
  },
  {
   "cell_type": "code",
   "execution_count": 12,
   "id": "b067d8c1-92e0-47bf-a5f7-2a6b41fbbfff",
   "metadata": {},
   "outputs": [
    {
     "data": {
      "text/plain": [
       "(2, '007')"
      ]
     },
     "execution_count": 12,
     "metadata": {},
     "output_type": "execute_result"
    }
   ],
   "source": [
    "# Answer 2\n",
    "class car(vehicle):\n",
    "    \n",
    "    def seating_capacity(self,capacity):\n",
    "        self.capacity = capacity\n",
    "        return self.capacity,self.name_of_vehicle\n",
    "\n",
    "gtr = car(\"007\",300,10)\n",
    "gtr_name =  gtr.seating_capacity(2)\n",
    "gtr_name"
   ]
  },
  {
   "cell_type": "code",
   "execution_count": 9,
   "id": "e8a02bf9-676b-4467-9e44-4077114b19e5",
   "metadata": {},
   "outputs": [
    {
     "name": "stdout",
     "output_type": "stream",
     "text": [
      "This is a cell\n",
      "This is a cell\n"
     ]
    }
   ],
   "source": [
    "# Answer 3\n",
    "# When a class is derived from more than one base class it is called multiple Inheritance.\n",
    "#The derived class inherits all the features of the base case.\n",
    "\n",
    "class cell():\n",
    "    def m(self):\n",
    "        print(\"This is a cell\")\n",
    "\n",
    "class cell1(cell):\n",
    "    pass\n",
    "\n",
    "class cell2(cell):\n",
    "    pass\n",
    "\n",
    "obj1 = cell1()\n",
    "obj1.m()\n",
    "obj2 = cell2()\n",
    "obj2.m()"
   ]
  },
  {
   "cell_type": "code",
   "execution_count": 13,
   "id": "58cd2fdf-d64d-4eee-8abb-688f8962798e",
   "metadata": {},
   "outputs": [
    {
     "data": {
      "text/plain": [
       "20"
      ]
     },
     "execution_count": 13,
     "metadata": {},
     "output_type": "execute_result"
    }
   ],
   "source": [
    "# Answer 4 :Basically, the main purpose of using getters and setters in object-oriented programs is to ensure data encapsulation.\n",
    "# Private variables in python are not actually hidden fields like in other object oriented languages.\n",
    "\n",
    "class hello:\n",
    "    \n",
    "    def __init__(self,age):\n",
    "        self._age = age\n",
    "    \n",
    "    def set_age(self,x):\n",
    "        self._age = x\n",
    "    \n",
    "    def get_age(self):\n",
    "        return self._age\n",
    "    \n",
    "hel = hello(12)\n",
    "hel.set_age(20)\n",
    "hel.get_age()"
   ]
  },
  {
   "cell_type": "code",
   "execution_count": 27,
   "id": "f4cf6f77-5489-489c-8de8-c275263a000a",
   "metadata": {},
   "outputs": [
    {
     "name": "stdout",
     "output_type": "stream",
     "text": [
      "<class 'int'>\n",
      "<class 'str'>\n"
     ]
    }
   ],
   "source": [
    "'''\n",
    "Answer 5\n",
    "Method overriding is an ability of any object-oriented programming language that allows a subclass or child class to provide a specific implementation of a method that is already provided by one of its super-classes or parent classes.\n",
    "When a method in a subclass has the same name, same parameters or signature and same return type(or sub-type) as a method in its super-class, then the method in the subclass is said to override the method in the super-class.\n",
    "'''\n",
    "class Parent(): \n",
    "        \n",
    "    def display(self):\n",
    "        return \"Inside Parent\"\n",
    "    \n",
    "    \n",
    "# Inherited or Sub class (Note Parent in bracket) \n",
    "class Child(Parent): \n",
    "        \n",
    "    # Child's show method\n",
    "    def show(self):\n",
    "        return \"Inside Child\"\n",
    "    \n",
    "# Inherited or Sub class (Note Child in bracket) \n",
    "class GrandChild(Child): \n",
    "          \n",
    "    # Child's show method\n",
    "    def show(self):\n",
    "        return 55         \n",
    "    \n",
    "# Driver code \n",
    "g = GrandChild()   \n",
    "print(type(g.show()))\n",
    "print(type(g.display()))"
   ]
  },
  {
   "cell_type": "code",
   "execution_count": null,
   "id": "4b0d5807-f0b4-4df1-9211-3f5d230ead24",
   "metadata": {},
   "outputs": [],
   "source": []
  }
 ],
 "metadata": {
  "kernelspec": {
   "display_name": "Python 3 (ipykernel)",
   "language": "python",
   "name": "python3"
  },
  "language_info": {
   "codemirror_mode": {
    "name": "ipython",
    "version": 3
   },
   "file_extension": ".py",
   "mimetype": "text/x-python",
   "name": "python",
   "nbconvert_exporter": "python",
   "pygments_lexer": "ipython3",
   "version": "3.10.8"
  }
 },
 "nbformat": 4,
 "nbformat_minor": 5
}
