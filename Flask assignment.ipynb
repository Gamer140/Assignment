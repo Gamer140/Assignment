{
 "cells": [
  {
   "cell_type": "code",
   "execution_count": null,
   "id": "ed3268cb-eefa-4a4a-bbb1-6e10527713c8",
   "metadata": {},
   "outputs": [],
   "source": [
    "#Answer 1:Flask is a lightweight web framework written in Python. It is designed to be simple, flexible, and easy to use, making it a popular choice for building web applications and APIs.\n",
    "\n",
    "#Simplicity: Flask follows a minimalist approach, providing only the essentials for web development.\n",
    "#It has a small core and modular design, allowing developers to choose and add the desired features through extensions.\n",
    "#Flexibility: Flask does not impose any particular way of structuring the application, giving developers the freedom to organize their code as they see fit.\n",
    "#Scalability: Flask's lightweight nature and modular design make it scalable. Developers can start with a small application and gradually add features as the project grows.\n",
    "#Extensibility: Flask provides a wide range of extensions that can be easily added to enhance the functionality of your application.\n",
    "#Testing: Flask provides excellent support for testing. It includes a built-in testing framework and provides tools for writing unit tests and integration tests."
   ]
  },
  {
   "cell_type": "code",
   "execution_count": null,
   "id": "911d7019-fbad-4490-9541-ebfefbe1e651",
   "metadata": {},
   "outputs": [],
   "source": [
    "#Answer2:\n",
    "from flask import Flask\n",
    "\n",
    "app = Flask(__name__)\n",
    "\n",
    "@app.route(\"/\")\n",
    "def hello_world():\n",
    "    return \"<h1>Hello, World!</h1>\"\n",
    "\n",
    "if __name__==\"__main__\":\n",
    "    app.run(host=\"0.0.0.0\")\n",
    "\n",
    "#https://ibb.co/nMFvYFR"
   ]
  },
  {
   "cell_type": "code",
   "execution_count": null,
   "id": "5d81d029-fa77-44d7-82d8-7bb2850d0361",
   "metadata": {},
   "outputs": [],
   "source": [
    "#Answer 3: In Flask, app routing refers to the process of mapping URL patterns to specific functions or views within your web application.\n",
    "#It allows you to define different routes that correspond to different pages or actions in your application.\n",
    "#URL Mapping: Routes provide a way to map URLs to specific functions, allowing you to define the behavior and \n",
    "#content for different pages or actions in your application.\n",
    "#Dynamic URLs: Flask supports dynamic URLs by allowing you to include variables in the route patterns.\n",
    "#This enables you to handle different types of data or parameters within your views."
   ]
  },
  {
   "cell_type": "code",
   "execution_count": null,
   "id": "3071f1be-9d39-432c-b04d-566c8db931d7",
   "metadata": {},
   "outputs": [],
   "source": [
    "#Answer 4:\n",
    "'''\n",
    "https://blue-teacher-jplxi.pwskills.app/lab/tree/work/Untitled.png\n",
    "'''\n",
    "'''\n",
    "https://blue-teacher-jplxi.pwskills.app/lab/tree/work/Untitled1.png\n",
    "'''\n",
    "from flask import Flask\n",
    "\n",
    "app = Flask(__name__)\n",
    "\n",
    "@app.route(\"/\")\n",
    "def greeting():\n",
    "    return \"<h1>Welcome to ABC Corporation</h1>\"\n",
    "\n",
    "@app.route(\"/welcome\")\n",
    "def info():\n",
    "    company_name = 'ABC Corporation'\n",
    "    location = 'India'\n",
    "    contact_detail = '999-999-9999'\n",
    "\n",
    "    return f\"Company Name: {company_name}<br>Location: {location}<br>Contact Detail: {contact_detail}\"\n",
    "\n",
    "if __name__==\"__main__\":\n",
    "    app.run(host=\"0.0.0.0\")\n"
   ]
  },
  {
   "cell_type": "code",
   "execution_count": null,
   "id": "04343688-ed40-4578-b080-5466817181bd",
   "metadata": {},
   "outputs": [],
   "source": [
    "#Answer 5:\n",
    "#this is the code to demonstrate in url building\n",
    "from flask import Flask, redirect, url_for\n",
    "\n",
    "app = Flask(__name__)\n",
    "\n",
    "@app.route(\"/\")\n",
    "def greeting():\n",
    "    return \"<h1>Welcome to ABC Corporation</h1>\"\n",
    "\n",
    "@app.route(\"/welcome/<company>\")\n",
    "def info(company):\n",
    "    company_name = f'{company} Corporation'\n",
    "    location = 'India'\n",
    "    contact_detail = '999-999-9999'\n",
    "\n",
    "    return f\"Company Name: {company_name}<br>Location: {location}<br>Contact Detail: {contact_detail}\"\n",
    "\n",
    "@app.route('/company/<name>')\n",
    "def hello_user(name):\n",
    "    return redirect(url_for('info',company=name))\n",
    "\n",
    "\n",
    "if __name__==\"__main__\":\n",
    "    app.run(host=\"0.0.0.0\")\n",
    "\n",
    "#The url_for() function is very useful for dynamically building a URL for a specific function.\n",
    "#The function accepts the name of a function as first argument, and one or more keyword arguments, each corresponding to the variable part of URL."
   ]
  }
 ],
 "metadata": {
  "kernelspec": {
   "display_name": "Python 3 (ipykernel)",
   "language": "python",
   "name": "python3"
  },
  "language_info": {
   "codemirror_mode": {
    "name": "ipython",
    "version": 3
   },
   "file_extension": ".py",
   "mimetype": "text/x-python",
   "name": "python",
   "nbconvert_exporter": "python",
   "pygments_lexer": "ipython3",
   "version": "3.10.8"
  }
 },
 "nbformat": 4,
 "nbformat_minor": 5
}
