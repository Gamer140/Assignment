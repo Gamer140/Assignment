{
 "cells": [
  {
   "cell_type": "code",
   "execution_count": 1,
   "id": "78478d13-7bc6-4edd-b280-0c2d538cff18",
   "metadata": {},
   "outputs": [],
   "source": [
    "# Answer 1: Multithreading refers to concurrently executing multiple threads by rapidly switching the control of the CPU between threads\n",
    "# Multithreading in Python streamlines the efficient utilization of resources as the threads share the same memory and data space"
   ]
  },
  {
   "cell_type": "code",
   "execution_count": 2,
   "id": "6fef979f-b397-49fe-b025-75888a50ff28",
   "metadata": {},
   "outputs": [],
   "source": [
    "# Answer 2 : Python threading allows you to have different parts of your program run concurrently and can simplify your design\n",
    "# activeCount() used to count the currently active or running threads.\n",
    "# currentThread() Returns the number of thread objects in the caller's thread control\n",
    "# Returns a list of all thread objects that are currently active"
   ]
  },
  {
   "cell_type": "code",
   "execution_count": 3,
   "id": "f655fe7b-99e6-4a75-98db-014ed6b72fa3",
   "metadata": {},
   "outputs": [],
   "source": [
    "# Answer 3 : run(): The run() method is typically called on a Thread object, which represents a separate thread of execution.\n",
    "# run(): When run() is invoked, the target function associated with the thread is executed within the current thread.\n",
    "# start(): When start() is invoked, a new thread is created, and the target function associated with the thread is executed concurrently with the main thread.\n",
    "# join(): threading.join() method is used to wait for a thread to complete its execution\n",
    "# isAlive(): When you call .isAlive() on a Thread object, it returns a boolean value indicating the thread's current status. If the thread is still actively running, the method returns True"
   ]
  },
  {
   "cell_type": "code",
   "execution_count": 20,
   "id": "f19bca86-cd02-4ca0-9fb0-082451642765",
   "metadata": {},
   "outputs": [
    {
     "name": "stdout",
     "output_type": "stream",
     "text": [
      "[1, 4, 1156, 25, 207936, 3136, 36]\n",
      "[1, 8, 39304, 125, 94818816, 175616, 216]\n"
     ]
    }
   ],
   "source": [
    "# Answer 4:\n",
    "import threading\n",
    "\n",
    "def square(list1) :\n",
    "    square_list = []\n",
    "    for i in list1:\n",
    "        square_list.append(i**2)\n",
    "    print(square_list)\n",
    "    \n",
    "thread1 = threading.Thread(target=square, args=([1,2,34,5,456,56,6],)) \n",
    "thread1.start()\n",
    "\n",
    "def cube(list2) :\n",
    "    cube_list = []\n",
    "    for i in list2:\n",
    "        cube_list.append(i**3)\n",
    "    print(cube_list)\n",
    "    \n",
    "thread2 = threading.Thread(target=cube, args=([1,2,34,5,456,56,6],)) \n",
    "thread2.start()"
   ]
  },
  {
   "cell_type": "code",
   "execution_count": 16,
   "id": "b64e2c9c-b7b1-41e0-a479-85e28fb8b1d3",
   "metadata": {},
   "outputs": [
    {
     "data": {
      "text/plain": [
       "[1, 4, 1156, 25, 207936, 3136, 36]"
      ]
     },
     "execution_count": 16,
     "metadata": {},
     "output_type": "execute_result"
    }
   ],
   "source": [
    "# Answer 5 :\n",
    "# Advantages of Multithreading:\n",
    "\n",
    "#1 Improved Performance: Multithreading can enhance performance by allowing multiple tasks to be executed concurrently.\n",
    "#This is particularly beneficial for computationally intensive or I/O-bound operations where threads can overlap their execution, utilizing available system resources efficiently.\n",
    "\n",
    "#2 Responsiveness and User Experience: Multithreading can improve the responsiveness of an application by keeping the user interface (UI) thread free from long-running operations.\n",
    "# By offloading time-consuming tasks to separate threads, the UI remains responsive, enhancing the user experience.\n",
    "\n",
    "#3 Resource Sharing: Threads within the same process can share resources such as memory, files, and network connections more easily compared to separate processes.\n",
    "#This enables efficient communication and data sharing, leading to more streamlined and cohesive programming.\n",
    "\n",
    "#4 Parallelism: Multithreading enables parallelism, allowing tasks to be executed simultaneously on multi-core or multi-processor systems.\n",
    "# This can significantly speed up the execution of CPU-bound operations, making the most of available hardware resources.\n",
    "\n",
    "# Disadvantages of Multithreading:\n",
    "\n",
    "# Complexity: Multithreaded programming introduces complexity due to issues like thread synchronization, shared resource management, and race conditions.\n",
    "# Proper synchronization mechanisms, such as locks and semaphores, need to be implemented to avoid conflicts and ensure thread safety.\n",
    "# Debugging and understanding the flow of execution in a multithreaded program can also be more challenging.\n",
    "\n",
    "# Increased Overhead: Multithreading introduces additional overhead in terms of memory and CPU usage.\n",
    "# Each thread has its own stack and associated data structures, and the context switching between threads incurs some computational cost.\n",
    "#This overhead can sometimes offset the performance gains achieved through parallelism.\n",
    "\n",
    "# Synchronization and Deadlocks: Coordinating shared resources between threads can lead to synchronization issues.\n",
    "# If not handled correctly, multiple threads attempting to access and modify shared resources simultaneously can result in data corruption or inconsistencies.\n",
    "# Deadlocks can also occur when threads are stuck waiting for resources that are held by other threads, causing the entire application to become unresponsive.\n",
    "\n",
    "# Difficult Debugging: Identifying and debugging issues in multithreaded programs can be more complex than in single-threaded programs.\n",
    "# Problems such as race conditions, deadlocks, and inconsistent data can be challenging to reproduce and diagnose due to the non-deterministic nature of thread execution."
   ]
  },
  {
   "cell_type": "code",
   "execution_count": 21,
   "id": "61a64fc2-a4fc-4917-961c-a07b287b1ea5",
   "metadata": {},
   "outputs": [],
   "source": [
    "# Answer 6 : A deadlock is a situation where two or more threads are blocked indefinitely, waiting for each other to release resources that they hold.\n",
    "# Deadlocks typically occur when multiple threads compete for exclusive access to shared resources and the threads acquire resources in an incorrect order, leading to a circular dependency.\n",
    "\n",
    "#A race condition occurs when the behavior of a program depends on the relative execution order of concurrent threads.\n",
    "#It arises when multiple threads access shared resources concurrently, and the outcome of the program depends on the specific interleaving of thread execution."
   ]
  },
  {
   "cell_type": "code",
   "execution_count": null,
   "id": "1a6c3400-459a-4776-a416-de2a14fe882a",
   "metadata": {},
   "outputs": [],
   "source": []
  }
 ],
 "metadata": {
  "kernelspec": {
   "display_name": "Python 3 (ipykernel)",
   "language": "python",
   "name": "python3"
  },
  "language_info": {
   "codemirror_mode": {
    "name": "ipython",
    "version": 3
   },
   "file_extension": ".py",
   "mimetype": "text/x-python",
   "name": "python",
   "nbconvert_exporter": "python",
   "pygments_lexer": "ipython3",
   "version": "3.10.8"
  }
 },
 "nbformat": 4,
 "nbformat_minor": 5
}
