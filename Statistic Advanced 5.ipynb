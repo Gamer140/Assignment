{
 "cells": [
  {
   "cell_type": "code",
   "execution_count": 1,
   "id": "f4c5a52b-5c80-4068-a0b9-521003a95c81",
   "metadata": {},
   "outputs": [],
   "source": [
    "#Answer 1: For t-test:\n",
    "#The t-test can be understood as a statistical test which is used to compare and analyse whether the means of the two \n",
    "#population is different from one another or not when the standard deviation is not known\n",
    "\n",
    "#The t-test is based on Student’s t-distribution. In the t-test there is less space in the centre and more in the tails\n",
    "\n",
    "#One of the important conditions for adopting t-test is that population variance is unknown.\n",
    "\n",
    "# t-test is appropriate when the size of the sample is small, in the sense that n < 30\n",
    "\n",
    "\n",
    "#For z-test\n",
    "#As against, Z-test is a parametric test, which is applied when the standard deviation is known, to determine, \n",
    "#if the means of the two datasets differ from each other.\n",
    "\n",
    "#in a z-test there is more space in the centre and less in tails\n",
    "\n",
    "#population variance should be known or assumed to be known in case of a z-test.\n",
    "\n",
    "#Z-test is used to when the sample size is large, i.e. n > 30"
   ]
  },
  {
   "cell_type": "code",
   "execution_count": 2,
   "id": "939c9e54",
   "metadata": {},
   "outputs": [],
   "source": [
    "#Answer 2: The main difference between one-tailed and two-tailed tests is that one-tailed tests will only have one critical\n",
    "#region whereas two-tailed tests will have two critical regions."
   ]
  },
  {
   "cell_type": "code",
   "execution_count": 3,
   "id": "3ad89542",
   "metadata": {},
   "outputs": [],
   "source": [
    "#Answer 3: A type I error (false-positive) occurs if an investigator rejects a null hypothesis that is actually true in the \n",
    "#population.\n",
    "# A type II error (false-negative) occurs if the investigator fails to reject a null hypothesis that is actually false in the \n",
    "#population."
   ]
  },
  {
   "cell_type": "code",
   "execution_count": 4,
   "id": "b7a39f34",
   "metadata": {},
   "outputs": [],
   "source": [
    "#Answer 4:Bayes’s theorem is used for the calculation of a conditional probability where intuition often fails.\n",
    "#Although widely used in probability, the theorem is being applied in the machine learning field too. Its use in machine\n",
    "#learning includes the fitting of a model to a training dataset and developing classification models. \n",
    "\n",
    "#Example What is the probability of a patient having liver disease if they are alcoholic? \n",
    "#Here, “being an alcoholic” is the “test” (type of litmus test) for liver disease."
   ]
  },
  {
   "cell_type": "code",
   "execution_count": 23,
   "id": "c9133040",
   "metadata": {},
   "outputs": [
    {
     "name": "stdout",
     "output_type": "stream",
     "text": [
      "5.5850451887922805 3.41495481120772\n",
      "-2.17009037758456 So on a 95% confidence the mean varies from 3.41495481120772 to 5.5850451887922805\n"
     ]
    }
   ],
   "source": [
    "#Answer 5: The confidence interval is a statistical measurement that gives you a range of numbers in which the standard mean \n",
    "#should appear. It's an essential calculation for supporting your confidence level and gives insight into the validity of the \n",
    "#results of the studies you conduct. If you're considering a career that relies on statistical analysis, the confidence \n",
    "#interval is integral to many applications.\n",
    "\n",
    "#To find the confidence interval Confidence interval (CI) = ‾X ± Z(S ÷ √n)\n",
    "#1. Find the sample mean \n",
    "#2. Calculate the standard deviation\n",
    "#3. Find the standard error  sample mean/standard deviation\n",
    "#4. Find the margin of error  standard error/2\n",
    "#5. Use these results in the formula\n",
    "#6. Interpret your results\n",
    "\n",
    "#For example\n",
    "#A retail company wants to rate the quality of a product by using results from a customer satisfaction survey. In the survey,\n",
    "#the company asks respondents to rate the quality on a scale of one to five, with one being the poorest quality and five being\n",
    "#the highest quality.\n",
    "\n",
    "#The sample size is 25, the sample mean is 4.5 and the standard deviation is 2.5. The company calculates the confidence\n",
    "#interval assuming a 97% confidence level:\n",
    "\n",
    "import scipy.stats as stats\n",
    "\n",
    "sample_size = 25\n",
    "sample_mean = 4.5\n",
    "standard_deviation = 2.5\n",
    "confidence = 0.97\n",
    "\n",
    "z = stats.norm.ppf((1-confidence)/2)\n",
    "confidence_interval_lower = sample_mean + (z*(standard_deviation/(sample_size)**0.5))\n",
    "confidence_interval_high = sample_mean - (z*(standard_deviation/(sample_size)**0.5))\n",
    "\n",
    "standard_error = sample_mean/standard_deviation\n",
    "margin_error = standard_error/2\n",
    "\n",
    "print(confidence_interval_high,confidence_interval_lower)\n",
    "print(z,\"So on a 95% confidence the mean varies from\",confidence_interval_lower,\"to\",confidence_interval_high)"
   ]
  },
  {
   "cell_type": "code",
   "execution_count": 5,
   "id": "e1b44885",
   "metadata": {},
   "outputs": [
    {
     "name": "stdout",
     "output_type": "stream",
     "text": [
      "Probability of choosing a fair coin given heads: 0.24324324324324326\n"
     ]
    }
   ],
   "source": [
    "#Answer 6:Suppose you have a bag of 100 coins, out of which 30 are fair coins (H and T have equal probability) and 70 are\n",
    "#biased coins (H is twice as likely as T). You randomly choose a coin from the bag and flip it, getting heads (H). What is the\n",
    "#probability that you chose a fair coin?\n",
    "\n",
    "P_A = 30 / 100  \n",
    "P_B_given_A = 0.5  \n",
    "P_B_given_not_A = 2 / 3  \n",
    "P_not_A = 70 / 100  \n",
    "\n",
    "# Total probability of getting heads\n",
    "P_B = (P_B_given_A * P_A) + (P_B_given_not_A * P_not_A)\n",
    "\n",
    "# Applying Bayes' theorem to calculate P(A|B)\n",
    "P_A_given_B = (P_B_given_A * P_A) / P_B\n",
    "\n",
    "print(\"Probability of choosing a fair coin given heads:\", P_A_given_B)"
   ]
  },
  {
   "cell_type": "code",
   "execution_count": 21,
   "id": "8fd3f3fc",
   "metadata": {},
   "outputs": [
    {
     "name": "stdout",
     "output_type": "stream",
     "text": [
      "49.02001800772997 50.97998199227003\n"
     ]
    }
   ],
   "source": [
    "#Answer 7: here we will be taking sample size as 100\n",
    "import scipy.stats as stats\n",
    "\n",
    "sample_size = 100\n",
    "sample_mean = 50\n",
    "standard_deviation = 5\n",
    "confidence = 0.95\n",
    "\n",
    "z = stats.norm.ppf((1-confidence)/2)\n",
    "confidence_interval_high = sample_mean + (z*(standard_deviation/(sample_size)**0.5))\n",
    "confidence_interval_lower = sample_mean - (z*(standard_deviation/(sample_size)**0.5))\n",
    "\n",
    "print(confidence_interval_high,confidence_interval_lower)"
   ]
  },
  {
   "cell_type": "code",
   "execution_count": 20,
   "id": "01cc887e",
   "metadata": {},
   "outputs": [
    {
     "name": "stdout",
     "output_type": "stream",
     "text": [
      "The 97.0% confidence interval is: (3.41495481120772, 5.5850451887922805)\n"
     ]
    }
   ],
   "source": [
    "#Answer 8:The margin of error is the maximum expected difference between the true population parameter and a sample estimate\n",
    "#of that parameter. In other words, it is the range of values that the true population mean is likely to fall within, given a\n",
    "#certain level of confidence.\n",
    "\n",
    "#The margin of error is calculated using the formula `Margin of Error = Z * (S / √n)`, where `Z` represents the Z-value you \n",
    "#get from the normal standard distribution, `S` is the population standard deviation and `n` represents the sample size you're\n",
    "#surveying. As you can see from this formula, the margin of error is inversely proportional to the square root of the \n",
    "#sample size. This means that as the sample size increases, the margin of error decreases.\n",
    "\n",
    "#Here's an example to illustrate this point: Suppose you're conducting a survey to estimate the average height of adult males \n",
    "#in a certain population. You take a random sample of 100 adult males and find that their average height is 5'9\" with a\n",
    "#standard deviation of 3 inches. Assuming a 95% confidence level (Z = 1.96), your margin of error would be `1.96 * (3 / √100)\n",
    "#= 0.588`. This means that you can be 95% confident that the true population mean falls within \n",
    "#the range `[5'9\" - 0.588, 5'9\"+ 0.588]`.\n",
    "\n",
    "#Now, suppose you increase your sample size to 400. Keeping everything else constant, your new margin of error would \n",
    "#be `1.96 * (3 / √400) = 0.294`. As you can see, by increasing your sample size from 100 to 400, you've effectively halved\n",
    "#your margin of error! This means that you can now be more confident in your estimate of the population mean.#Answer 9:"
   ]
  },
  {
   "cell_type": "code",
   "execution_count": 24,
   "id": "a780f9bf",
   "metadata": {},
   "outputs": [
    {
     "name": "stdout",
     "output_type": "stream",
     "text": [
      "1.0\n"
     ]
    }
   ],
   "source": [
    "#Answer 9:\n",
    "population_mean = 70\n",
    "data_point = 75\n",
    "standard_deviation = 5\n",
    "\n",
    "z_score = (data_point-population_mean)/standard_deviation\n",
    "print(z_score)"
   ]
  },
  {
   "cell_type": "code",
   "execution_count": 31,
   "id": "7508e05b",
   "metadata": {},
   "outputs": [
    {
     "name": "stdout",
     "output_type": "stream",
     "text": [
      "sample size 50\n",
      "sample mean 6\n",
      "standard deviation 2.5\n",
      "confidence interval 0.95\n",
      "null hypothesis rejected\n"
     ]
    }
   ],
   "source": [
    "#Answer 10:\n",
    "import scipy.stats as stats\n",
    "\n",
    "sample_size = 50\n",
    "sample_mean = 6\n",
    "standard_deviation = 2.5\n",
    "confidence_interval = 0.95\n",
    "\n",
    "critical_value = stats.t.ppf((1+confidence_interval)/2, df=sample_size-1)\n",
    "\n",
    "t_test = (sample_mean-0)/(standard_deviation/(sample_size**0.5))\n",
    "\n",
    "print(\"sample size\",sample_size)\n",
    "print(\"sample mean\",sample_mean)\n",
    "print(\"standard deviation\",standard_deviation)\n",
    "print(\"confidence interval\",confidence_interval)\n",
    "\n",
    "if critical_value < t_test:\n",
    "    print(\"null hypothesis rejected\")\n",
    "else:\n",
    "    print(\"null hypothesis accepted\")"
   ]
  },
  {
   "cell_type": "code",
   "execution_count": 3,
   "id": "e1b95a00",
   "metadata": {},
   "outputs": [
    {
     "name": "stdout",
     "output_type": "stream",
     "text": [
      "The satisfied people percentage mean at 95% confidence is between 0.608191771144905 0.6918082288550951\n"
     ]
    }
   ],
   "source": [
    "#Answer 11:\n",
    "sample_size = 500\n",
    "sample_mean = 0.65\n",
    "confidence = 0.95\n",
    "z = 1.96\n",
    "\n",
    "margin_of_error = z*(((sample_mean*(1-sample_mean))/sample_size)**0.5)\n",
    "confidence_interval_low = sample_mean - margin_of_error\n",
    "confidence_interval_high = sample_mean + margin_of_error\n",
    "\n",
    "print(\"The satisfied people percentage mean at 95% confidence is \",confidence_interval_low,confidence_interval_high)"
   ]
  },
  {
   "cell_type": "code",
   "execution_count": 4,
   "id": "f8ac7f12",
   "metadata": {},
   "outputs": [],
   "source": [
    "#Answer 12: This question is with incompelete data cannot do it with t-test like sample sizes"
   ]
  },
  {
   "cell_type": "code",
   "execution_count": 7,
   "id": "30c6274c",
   "metadata": {},
   "outputs": [
    {
     "name": "stdout",
     "output_type": "stream",
     "text": [
      "Here confidence interval lies between at 90% confidence 63.13906055411732 66.86093944588268\n"
     ]
    }
   ],
   "source": [
    "#Answer 13:\n",
    "import scipy.stats as stats\n",
    "\n",
    "p_mean = 60\n",
    "p_deviation = 8\n",
    "sample_mean = 65\n",
    "sample_size = 50\n",
    "confidence = 0.9\n",
    "\n",
    "z = stats.norm.ppf((1+confidence)/2)\n",
    "\n",
    "margin_of_error = z*(p_deviation/(sample_size)**0.5)\n",
    "confidence_interval_low = sample_mean - margin_of_error\n",
    "confidence_interval_high = sample_mean + margin_of_error\n",
    "\n",
    "print(\"Here confidence interval lies between at 90% confidence\",confidence_interval_low,confidence_interval_high)"
   ]
  },
  {
   "cell_type": "code",
   "execution_count": 18,
   "id": "af786a80",
   "metadata": {},
   "outputs": [
    {
     "name": "stdout",
     "output_type": "stream",
     "text": [
      "t-statistic: 27.386127875258307\n",
      "p-value: 0.0\n",
      "Degrees of Freedom: 29\n",
      "Critical t-value: 1.6991270265334972\n",
      "Reject the null hypothesis\n"
     ]
    }
   ],
   "source": [
    "#Answer 14:\n",
    "import scipy.stats as stats\n",
    "\n",
    "sample_mean = 0.25\n",
    "sample_std_dev = 0.05\n",
    "sample_size = 30\n",
    "confidence_level = 0.90  \n",
    "degrees_of_freedom = sample_size - 1\n",
    "\n",
    "critical_t = stats.t.ppf(1 - (1 - confidence_level) / 2, degrees_of_freedom)\n",
    "\n",
    "standard_error = sample_std_dev / (sample_size ** 0.5)\n",
    "\n",
    "t_statistic = (sample_mean - 0) / standard_error\n",
    "\n",
    "p_value = 2 * (1 - stats.t.cdf(abs(t_statistic), degrees_of_freedom))\n",
    "\n",
    "if p_value < (1 - confidence_level):\n",
    "    conclusion = \"Reject the null hypothesis\"\n",
    "else:\n",
    "    conclusion = \"Fail to reject the null hypothesis\"\n",
    "\n",
    "print(\"t-statistic:\", t_statistic)\n",
    "print(\"p-value:\", p_value)\n",
    "print(\"Degrees of Freedom:\", degrees_of_freedom)\n",
    "print(\"Critical t-value:\", critical_t)\n",
    "print(conclusion)"
   ]
  },
  {
   "cell_type": "code",
   "execution_count": 21,
   "id": "1d1756fb",
   "metadata": {},
   "outputs": [
    {
     "data": {
      "text/plain": [
       "1.0"
      ]
     },
     "execution_count": 21,
     "metadata": {},
     "output_type": "execute_result"
    }
   ],
   "source": [
    "stats.t.cdf(abs(t_statistic), degrees_of_freedom)"
   ]
  },
  {
   "cell_type": "code",
   "execution_count": null,
   "id": "543af096",
   "metadata": {},
   "outputs": [],
   "source": []
  }
 ],
 "metadata": {
  "kernelspec": {
   "display_name": "Python 3 (ipykernel)",
   "language": "python",
   "name": "python3"
  },
  "language_info": {
   "codemirror_mode": {
    "name": "ipython",
    "version": 3
   },
   "file_extension": ".py",
   "mimetype": "text/x-python",
   "name": "python",
   "nbconvert_exporter": "python",
   "pygments_lexer": "ipython3",
   "version": "3.11.3"
  }
 },
 "nbformat": 4,
 "nbformat_minor": 5
}
