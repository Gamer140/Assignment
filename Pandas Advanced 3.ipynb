{
 "cells": [
  {
   "cell_type": "code",
   "execution_count": 28,
   "id": "254414cd-7824-44f9-8e4c-655365ac3650",
   "metadata": {},
   "outputs": [],
   "source": [
    "import pandas as pd\n",
    "course_name = ['Data Science', 'Machine Learning', 'Big Data', 'Data Engineer']\n",
    "duration = [2,3,6,4]\n",
    "df = pd.DataFrame(data = {'course_name' : course_name, 'duration' : duration})"
   ]
  },
  {
   "cell_type": "code",
   "execution_count": 29,
   "id": "b91f4835-b800-4949-80dd-461ecd9a2771",
   "metadata": {},
   "outputs": [
    {
     "data": {
      "text/plain": [
       "course_name    Big Data\n",
       "duration              6\n",
       "Name: 2, dtype: object"
      ]
     },
     "execution_count": 29,
     "metadata": {},
     "output_type": "execute_result"
    }
   ],
   "source": [
    "#Answer 1:\n",
    "df.loc[2]"
   ]
  },
  {
   "cell_type": "code",
   "execution_count": 30,
   "id": "f813de98-f055-4f3a-abae-1b30a0ab1477",
   "metadata": {},
   "outputs": [],
   "source": [
    "#Answer 2:\n",
    "#iloc works on index of the like an integer\n",
    "#loc works on the value of the row of specific like here if we pass Data enigineer it will give the row or\n",
    "#rows where there is Data Engineer"
   ]
  },
  {
   "cell_type": "code",
   "execution_count": 37,
   "id": "57fc125d-82f7-4b0b-8374-0ececac4e59c",
   "metadata": {},
   "outputs": [
    {
     "name": "stdout",
     "output_type": "stream",
     "text": [
      "course_name    Big Data\n",
      "duration              6\n",
      "Name: 2, dtype: object\n",
      "course_name    Machine Learning\n",
      "duration                      3\n",
      "Name: 1, dtype: object\n"
     ]
    }
   ],
   "source": [
    "#Answer 3:\n",
    "reindex = [3,0,1,2]\n",
    "df.reindex(reindex)\n",
    "print(new_df.loc[2])\n",
    "print(new_df.iloc[2])\n",
    "# THe main difference after reindexing its taking index as meaningful values and it's taking 2 as a value in loc\n",
    "#th iloc difference here is its taking the default index values 3 rd row which is machine learning"
   ]
  },
  {
   "cell_type": "code",
   "execution_count": 39,
   "id": "3b2f1b4e-de9a-4006-ba44-22f6b3b9e1a9",
   "metadata": {},
   "outputs": [],
   "source": [
    "import pandas as pd\n",
    "import numpy as np\n",
    "columns = ['column_1', 'column_2', 'column_3', 'column_4', 'column_5', 'column_6']\n",
    "indices = [1,2,3,4,5,6]\n",
    "#Creating a dataframe:\n",
    "df1 = pd.DataFrame(np.random.rand(6,6), columns = columns, index = indices)"
   ]
  },
  {
   "cell_type": "code",
   "execution_count": 40,
   "id": "59d67119-5282-41cf-b954-606b4e6f5313",
   "metadata": {},
   "outputs": [
    {
     "data": {
      "text/html": [
       "<div>\n",
       "<style scoped>\n",
       "    .dataframe tbody tr th:only-of-type {\n",
       "        vertical-align: middle;\n",
       "    }\n",
       "\n",
       "    .dataframe tbody tr th {\n",
       "        vertical-align: top;\n",
       "    }\n",
       "\n",
       "    .dataframe thead th {\n",
       "        text-align: right;\n",
       "    }\n",
       "</style>\n",
       "<table border=\"1\" class=\"dataframe\">\n",
       "  <thead>\n",
       "    <tr style=\"text-align: right;\">\n",
       "      <th></th>\n",
       "      <th>column_1</th>\n",
       "      <th>column_2</th>\n",
       "      <th>column_3</th>\n",
       "      <th>column_4</th>\n",
       "      <th>column_5</th>\n",
       "      <th>column_6</th>\n",
       "    </tr>\n",
       "  </thead>\n",
       "  <tbody>\n",
       "    <tr>\n",
       "      <th>1</th>\n",
       "      <td>0.661226</td>\n",
       "      <td>0.068739</td>\n",
       "      <td>0.021444</td>\n",
       "      <td>0.648651</td>\n",
       "      <td>0.560281</td>\n",
       "      <td>0.066467</td>\n",
       "    </tr>\n",
       "    <tr>\n",
       "      <th>2</th>\n",
       "      <td>0.328522</td>\n",
       "      <td>0.490265</td>\n",
       "      <td>0.456914</td>\n",
       "      <td>0.404578</td>\n",
       "      <td>0.271327</td>\n",
       "      <td>0.857488</td>\n",
       "    </tr>\n",
       "    <tr>\n",
       "      <th>3</th>\n",
       "      <td>0.859060</td>\n",
       "      <td>0.052871</td>\n",
       "      <td>0.500915</td>\n",
       "      <td>0.549694</td>\n",
       "      <td>0.848249</td>\n",
       "      <td>0.900878</td>\n",
       "    </tr>\n",
       "    <tr>\n",
       "      <th>4</th>\n",
       "      <td>0.480526</td>\n",
       "      <td>0.808752</td>\n",
       "      <td>0.334502</td>\n",
       "      <td>0.772150</td>\n",
       "      <td>0.257791</td>\n",
       "      <td>0.782845</td>\n",
       "    </tr>\n",
       "    <tr>\n",
       "      <th>5</th>\n",
       "      <td>0.941484</td>\n",
       "      <td>0.111368</td>\n",
       "      <td>0.529089</td>\n",
       "      <td>0.820724</td>\n",
       "      <td>0.805471</td>\n",
       "      <td>0.965126</td>\n",
       "    </tr>\n",
       "    <tr>\n",
       "      <th>6</th>\n",
       "      <td>0.882426</td>\n",
       "      <td>0.681839</td>\n",
       "      <td>0.885468</td>\n",
       "      <td>0.895385</td>\n",
       "      <td>0.381655</td>\n",
       "      <td>0.850699</td>\n",
       "    </tr>\n",
       "  </tbody>\n",
       "</table>\n",
       "</div>"
      ],
      "text/plain": [
       "   column_1  column_2  column_3  column_4  column_5  column_6\n",
       "1  0.661226  0.068739  0.021444  0.648651  0.560281  0.066467\n",
       "2  0.328522  0.490265  0.456914  0.404578  0.271327  0.857488\n",
       "3  0.859060  0.052871  0.500915  0.549694  0.848249  0.900878\n",
       "4  0.480526  0.808752  0.334502  0.772150  0.257791  0.782845\n",
       "5  0.941484  0.111368  0.529089  0.820724  0.805471  0.965126\n",
       "6  0.882426  0.681839  0.885468  0.895385  0.381655  0.850699"
      ]
     },
     "execution_count": 40,
     "metadata": {},
     "output_type": "execute_result"
    }
   ],
   "source": [
    "df1"
   ]
  },
  {
   "cell_type": "code",
   "execution_count": 49,
   "id": "1c9751f1-9d5a-4e27-b18a-328cfab63599",
   "metadata": {},
   "outputs": [
    {
     "name": "stdout",
     "output_type": "stream",
     "text": [
      "column_1mean is 0.6922073255328597\n",
      "column_2mean is 0.36897223615497005\n",
      "column_3mean is 0.4547221485041357\n",
      "column_4mean is 0.6818635695559543\n",
      "column_5mean is 0.5207956104439013\n",
      "column_6mean is 0.7372505829056543\n",
      "Standar deviation is for column 2 0.33538736044628303\n"
     ]
    }
   ],
   "source": [
    "#Answer 4:\n",
    "#1 \n",
    "for x,y in df1.items():\n",
    "    print(x+\"mean is\",y.mean())\n",
    "#2\n",
    "print(\"Standar deviation is for column 2\",df1['column_2'].std())"
   ]
  },
  {
   "cell_type": "code",
   "execution_count": null,
   "id": "989004b2-b703-4f14-96f5-8499cd2808a8",
   "metadata": {},
   "outputs": [],
   "source": [
    "#Answer 5:\n",
    "df1[\"column_2\"].iloc[1] = \"Sudh\"\n",
    "df1[\"column_2\"].mean()\n",
    "# We are getting error here because it is taking whole column_2 for mean where we cannot have the mean of a string"
   ]
  },
  {
   "cell_type": "code",
   "execution_count": 53,
   "id": "6bbb83bd-7b4e-4f90-995f-277c7c8d0a53",
   "metadata": {},
   "outputs": [
    {
     "data": {
      "text/plain": [
       "'\\nExpanding Window Functions:\\n\\nExpanding functions calculate cumulative statistics that grow over time, including all the previous data points up to the current position.\\nThe window size expands with each data point.\\nExamples of expanding window functions include expanding.sum(), expanding.min(), expanding.max(), etc.\\n'"
      ]
     },
     "execution_count": 53,
     "metadata": {},
     "output_type": "execute_result"
    }
   ],
   "source": [
    "#Answer 6:\n",
    "#In pandas, the \"window function\" refers to a group of functions that operate on a sliding\n",
    "#or rolling window of data in a DataFrame or Series\n",
    "'''\n",
    "Rolling Window Functions:\n",
    "\n",
    "Rolling functions calculate statistics over a specified window of fixed size that moves or \"rolls\" along the data.\n",
    "The window can be defined by the number of rows or a time-based window.\n",
    "Examples of rolling window functions include rolling.mean(), rolling.sum(), rolling.std(), etc.\n",
    "'''\n",
    "'''\n",
    "Expanding Window Functions:\n",
    "\n",
    "Expanding functions calculate cumulative statistics that grow over time, including all the previous data points up to the current position.\n",
    "The window size expands with each data point.\n",
    "Examples of expanding window functions include expanding.sum(), expanding.min(), expanding.max(), etc.\n",
    "'''\n",
    "'''\n",
    "Exponential Weighted Window Functions:\n",
    "\n",
    "Exponential weighted functions assign exponentially decreasing weights to the data points based on their age.\n",
    "More recent data points have higher weights.\n",
    "Examples of exponential weighted window functions include ewm.mean(), ewm.std(), ewm.min(), etc.\n",
    "'''"
   ]
  },
  {
   "cell_type": "code",
   "execution_count": 56,
   "id": "4a498896-83db-4f08-9af3-2f222cd02c09",
   "metadata": {},
   "outputs": [
    {
     "name": "stdout",
     "output_type": "stream",
     "text": [
      "2023 July\n"
     ]
    }
   ],
   "source": [
    "#Answer 7:\n",
    "from datetime import datetime\n",
    "year = datetime.today().strftime(\"%Y\")\n",
    "month = datetime.today().strftime(\"%B\")\n",
    "print(year,month)"
   ]
  },
  {
   "cell_type": "code",
   "execution_count": 62,
   "id": "fcfce4b2-60ab-447a-b1e0-61a6eb14b1e5",
   "metadata": {},
   "outputs": [
    {
     "name": "stdin",
     "output_type": "stream",
     "text": [
      "Enter the first date (YYYY-MM-DD):  2023-12-31\n",
      "Enter the second date (YYYY-MM-DD):  2024-2-27\n"
     ]
    },
    {
     "name": "stdout",
     "output_type": "stream",
     "text": [
      "these days 58\n",
      "these hours 1392\n",
      "these minutes 83520\n"
     ]
    }
   ],
   "source": [
    "#ANswer 8:\n",
    "from datetime import datetime\n",
    "date1 = input(\"Enter the first date (YYYY-MM-DD): \")\n",
    "date2 = input(\"Enter the second date (YYYY-MM-DD): \")\n",
    "\n",
    "date1 = pd.to_datetime(date1)\n",
    "date2 = pd.to_datetime(date2)\n",
    "\n",
    "time_diff = date2 - date1\n",
    "\n",
    "days = time_diff.days\n",
    "hours = time_diff.days * 24\n",
    "minutes = hours*60\n",
    "\n",
    "print(\"these days\",days)\n",
    "print(\"these hours\",hours)\n",
    "print(\"these minutes\",minutes)"
   ]
  },
  {
   "cell_type": "code",
   "execution_count": 4,
   "id": "534d2b28-cf5f-46d3-be7b-dcc7dd525d7b",
   "metadata": {},
   "outputs": [
    {
     "data": {
      "text/plain": [
       "'/home/jovyan/work'"
      ]
     },
     "execution_count": 4,
     "metadata": {},
     "output_type": "execute_result"
    }
   ],
   "source": [
    "import os\n",
    "os.getcwd()"
   ]
  },
  {
   "cell_type": "code",
   "execution_count": 14,
   "id": "0dc1fcef-d510-461e-9f7c-52d5e029dc56",
   "metadata": {},
   "outputs": [
    {
     "name": "stdin",
     "output_type": "stream",
     "text": [
      "Enter the full path for the csv file students/student.csv\n",
      "Enter the column name name\n",
      "Enter the order either asc or des asc\n"
     ]
    }
   ],
   "source": [
    "#Answer 9:\n",
    "import pandas as pd\n",
    "path = input(\"Enter the full path for the csv file\")\n",
    "column = input(\"Enter the column name\")\n",
    "order = input(\"Enter the order either asc or des\")\n",
    "df = pd.read_csv(path)\n",
    "df[column] = df[column].astype(\"category\")\n",
    "if order == \"asc\":\n",
    "    df = df.sort_values([column],ascending=True)\n",
    "elif order == \"des\":\n",
    "    df = df.sort_values([column],ascending=False)\n",
    "df"
   ]
  },
  {
   "cell_type": "code",
   "execution_count": 2,
   "id": "f7e45cb5-d634-42e2-8ed2-b1e86982ccdd",
   "metadata": {},
   "outputs": [
    {
     "name": "stdin",
     "output_type": "stream",
     "text": [
      "Enter the path for sales data csv Sample - Superstore.xlsm - Orders.csv\n"
     ]
    },
    {
     "name": "stderr",
     "output_type": "stream",
     "text": [
      "/tmp/ipykernel_84/183670298.py:6: UserWarning: Parsing dates in DD/MM/YYYY format when dayfirst=False (the default) was specified. This may lead to inconsistently parsed dates! Specify a format to ensure consistent parsing.\n",
      "  df[\"Ship Date\"] = df[\"Ship Date\"].apply(pd.to_datetime)\n"
     ]
    },
    {
     "data": {
      "image/png": "[encoded data removed]",
      "text/plain": [
       "<Figure size 2500x1000 with 1 Axes>"
      ]
     },
     "metadata": {},
     "output_type": "display_data"
    }
   ],
   "source": [
    "#Answer 10:\n",
    "# please refer to the csv file Sample - Superstore.xlsm - Orders.csv for sales data\n",
    "import pandas as pd\n",
    "path = input(\"Enter the path for sales data csv\")\n",
    "df = pd.read_csv(path)\n",
    "df[\"Ship Date\"] = df[\"Ship Date\"].apply(pd.to_datetime)\n",
    "bar = df.plot.bar(x = \"Ship Date\", y = \"Quantity\", fontsize = 8, figsize=(25, 10))\n",
    "#y = \"Ship Date\", x = \"Quantity\",font"
   ]
  },
  {
   "cell_type": "code",
   "execution_count": 13,
   "id": "c8418caf-0c96-4eee-8ee0-eeb58be099d5",
   "metadata": {},
   "outputs": [
    {
     "name": "stdin",
     "output_type": "stream",
     "text": [
      "Enter the full path for the csv file students/student.csv\n"
     ]
    },
    {
     "data": {
      "text/html": [
       "<div>\n",
       "<style scoped>\n",
       "    .dataframe tbody tr th:only-of-type {\n",
       "        vertical-align: middle;\n",
       "    }\n",
       "\n",
       "    .dataframe tbody tr th {\n",
       "        vertical-align: top;\n",
       "    }\n",
       "\n",
       "    .dataframe thead th {\n",
       "        text-align: right;\n",
       "    }\n",
       "</style>\n",
       "<table border=\"1\" class=\"dataframe\">\n",
       "  <thead>\n",
       "    <tr style=\"text-align: right;\">\n",
       "      <th></th>\n",
       "      <th>Statistic_Value</th>\n",
       "    </tr>\n",
       "  </thead>\n",
       "  <tbody>\n",
       "    <tr>\n",
       "      <th>mean</th>\n",
       "      <td>74.657143</td>\n",
       "    </tr>\n",
       "    <tr>\n",
       "      <th>median</th>\n",
       "      <td>79.000000</td>\n",
       "    </tr>\n",
       "    <tr>\n",
       "      <th>mode</th>\n",
       "      <td>88.000000</td>\n",
       "    </tr>\n",
       "  </tbody>\n",
       "</table>\n",
       "</div>"
      ],
      "text/plain": [
       "        Statistic_Value\n",
       "mean          74.657143\n",
       "median        79.000000\n",
       "mode          88.000000"
      ]
     },
     "execution_count": 13,
     "metadata": {},
     "output_type": "execute_result"
    }
   ],
   "source": [
    "#Answer 11:\n",
    "import pandas as pd\n",
    "path = input(\"Enter the full path for the csv file\")\n",
    "df = pd.read_csv(path)\n",
    "mean = df['mark'].mean()\n",
    "median = df['mark'].median()\n",
    "mode = df[\"mark\"].mode()\n",
    "df1 = pd.DataFrame({\"Statistic_Value\":[mean,median,mode[0]]},index=[\"mean\",\"median\",\"mode\"])\n",
    "df1"
   ]
  },
  {
   "cell_type": "code",
   "execution_count": null,
   "id": "8dbff144-0474-4756-ba50-62ca52eacdbd",
   "metadata": {},
   "outputs": [],
   "source": []
  }
 ],
 "metadata": {
  "kernelspec": {
   "display_name": "Python 3 (ipykernel)",
   "language": "python",
   "name": "python3"
  },
  "language_info": {
   "codemirror_mode": {
    "name": "ipython",
    "version": 3
   },
   "file_extension": ".py",
   "mimetype": "text/x-python",
   "name": "python",
   "nbconvert_exporter": "python",
   "pygments_lexer": "ipython3",
   "version": "3.10.8"
  }
 },
 "nbformat": 4,
 "nbformat_minor": 5
}
