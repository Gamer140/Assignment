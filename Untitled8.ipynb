{
 "cells": [
  {
   "cell_type": "code",
   "execution_count": 1,
   "id": "63960c91-2e7f-4596-b3b0-7d2f42ac4cae",
   "metadata": {},
   "outputs": [],
   "source": [
    "#Answer 1: open() function is used to open the file.\n",
    "# the modes of opening the files are:\n",
    "# 'r' open a file for reading and its default\n",
    "# \"w' Open a file for writing. Creates a new file if it does not exist or truncates the file if it exists.\n",
    "# 'x' Open a file for exclusive creation. If the file already exists, the operation fails.\n",
    "# 'a' Open a file for appending at the end of the file without truncating it. Creates a new file if it does not exist.\n",
    "# 't' Open in text mode. (default)\n",
    "# 'b' Open in binary mode.\n",
    "# '+' Open a file for updating (reading and writing)\n",
    "# 'w+' Open the file for reading and writing. For an existing file, data is truncated and over-written. The handle is positioned at the beginning of the file.\n",
    "# 'r+' Open the file for reading and writing. The handle is positioned at the beginning of the file. Raises I/O error if the file does not exist.\n",
    "# 'a+' Open the file for reading and writing. The file is created if it does not exist. The handle is positioned at the end of the file. The data being written will be inserted at the end, after the existing data."
   ]
  },
  {
   "cell_type": "code",
   "execution_count": 2,
   "id": "b8247725-ce83-41a9-aea9-f83a15fb30c6",
   "metadata": {},
   "outputs": [],
   "source": [
    "#Answer 2: close method is used to close the file\n",
    "#Operating systems have limits on the number of files a process can have open at once.\n",
    "#Closing files helps you stay within the limit, and it flushes userspace buffers, ensuring that the data you’ve written to those files won’t be lost if your process crashes."
   ]
  },
  {
   "cell_type": "code",
   "execution_count": 4,
   "id": "abe1a51c-320b-42df-93b7-f6d3eda3b3a4",
   "metadata": {},
   "outputs": [
    {
     "name": "stdout",
     "output_type": "stream",
     "text": [
      "I want to become a Data Scientist\n"
     ]
    }
   ],
   "source": [
    "#Answer 3\n",
    "f = open('text.txt', 'w')\n",
    "f.write('I want to become a Data Scientist')\n",
    "f.close()\n",
    "m = open('text.txt', 'r')\n",
    "s = m.read()\n",
    "m.close()\n",
    "print(s)"
   ]
  },
  {
   "cell_type": "code",
   "execution_count": 5,
   "id": "4e7a7c9e-f3c7-45ed-a1cd-db55d5c9ea56",
   "metadata": {},
   "outputs": [],
   "source": [
    "# Answer 4:\n",
    "# read() : Returns the read bytes in form of a string. Reads n bytes, if no n specified, reads the entire file.\n",
    "# readline() : Reads a line of the file and returns in form of a string.For specified n, reads at most n bytes. However, does not reads more than one line, even if n exceeds the length of the line.\n",
    "# readlines() : Reads all the lines and return them as each line a string element in a list."
   ]
  },
  {
   "cell_type": "code",
   "execution_count": 6,
   "id": "5adad669-84f8-4a60-955b-05003a824ea2",
   "metadata": {},
   "outputs": [],
   "source": [
    "#Answer 5: with statement is used with open function to open a file to create a file object\n",
    "# it has an advantage of creating or opening a file and exiting it without close\n",
    "# as the with statement calls 2 built-in methods __enter__ and __exit__"
   ]
  },
  {
   "cell_type": "code",
   "execution_count": 7,
   "id": "a4681751-a678-49b2-a421-19fae52fba3c",
   "metadata": {},
   "outputs": [],
   "source": [
    "#Answer 6: write method is used to write line to a specific file as text to a file\n",
    "f = open(\"demofile2.txt\", \"w\")\n",
    "f.write(\"See you soon!\")\n",
    "f.close()\n",
    "# writelines method is used to write items of a list to a file as a line\n",
    "x = open(\"demofile3.txt\", \"a\")\n",
    "x.writelines([\"See you soon!\", \"Over and out.\"])\n",
    "x.close()"
   ]
  },
  {
   "cell_type": "code",
   "execution_count": null,
   "id": "3faeb76b-0baa-4cc7-9c5a-108b3fbf5ba1",
   "metadata": {},
   "outputs": [],
   "source": []
  }
 ],
 "metadata": {
  "kernelspec": {
   "display_name": "Python 3 (ipykernel)",
   "language": "python",
   "name": "python3"
  },
  "language_info": {
   "codemirror_mode": {
    "name": "ipython",
    "version": 3
   },
   "file_extension": ".py",
   "mimetype": "text/x-python",
   "name": "python",
   "nbconvert_exporter": "python",
   "pygments_lexer": "ipython3",
   "version": "3.10.8"
  }
 },
 "nbformat": 4,
 "nbformat_minor": 5
}
