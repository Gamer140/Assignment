{
 "cells": [
  {
   "cell_type": "code",
   "execution_count": 1,
   "id": "c27f8a14",
   "metadata": {},
   "outputs": [],
   "source": [
    "#Answer 1:This encoding technique appears almost similar to Label Encoding. But, label encoding would not consider whether\n",
    "#a variable is ordinal or not, but in the case of ordinal encoding, it will assign a sequence of numerical values as per the\n",
    "#order of data.\n",
    "#Let’s create a sample ordinal categorical data related to the customer feedback survey, and then we will apply the Ordinal \n",
    "#Encoder technique. In this case, let’s say the feedback data is collected using a Likert scale in which numerical code 1 is\n",
    "#assigned to Poor, 2 for Good, 3 for Very Good, and 4 for Excellent. If you observe, we know that 5 is better than 4, 5 is\n",
    "#much better than 3, but taking the difference between 5 and 2 is meaningless (Excellent minus Good is meaningless).\n",
    "\n",
    "#Let’s consider a simple example with a dataset containing information about different types of fruits, where the “Fruit” \n",
    "#column has categorical values such as “Apple,” “Orange,” and “Banana.” Label encoding assigns a unique numerical label to\n",
    "#each distinct category, transforming the categorical data into numericalhere label encoding will be preffered"
   ]
  },
  {
   "cell_type": "code",
   "execution_count": 1,
   "id": "90eb4e5b",
   "metadata": {},
   "outputs": [],
   "source": [
    "#Answer 2:The encoding process involves sorting the categories based on the mean of the target variable for each category and\n",
    "#then assigning a numerical value to each category based on its rank.\n",
    "\n",
    "#This encoding technique can be used in various machine learning tasks, such as regression, classification, and ranking \n",
    "#problems. It can also be useful in cases where the categorical variable has a high cardinality, meaning that it has many \n",
    "#unique values.\n",
    "\n",
    "#Overall, target-guided ordinal encoding is a useful technique to consider when working with ordinal target variables and \n",
    "#categorical features in a machine learning project."
   ]
  },
  {
   "cell_type": "code",
   "execution_count": 1,
   "id": "71db31c5",
   "metadata": {
    "scrolled": false
   },
   "outputs": [],
   "source": [
    "#Answer 3:Covariance is a measure of the relationship between two random variables and to what extent, they change together.\n",
    "#Or we can say, in other words, it defines the changes between the two variables, such that change in one variable is equal\n",
    "#to change in another variable.\n",
    "#It's important as The metric evaluates how much – to what extent – the variables change together. In other words, it is\n",
    "#essentially a measure of the variance between two variables.\n",
    "#Covariance is calculated as the summation of (x(data point) - x(mean)) x (y(data point) - y(mean))/N(number of data points) - 1"
   ]
  },
  {
   "cell_type": "code",
   "execution_count": 1,
   "id": "b9fedb9f",
   "metadata": {},
   "outputs": [],
   "source": [
    "#Answer 4:The encoding cannot be performed as the dataset is not available."
   ]
  },
  {
   "cell_type": "code",
   "execution_count": 2,
   "id": "108f902f",
   "metadata": {},
   "outputs": [],
   "source": [
    "#Answer 5:The dataset is not available or specified which to use"
   ]
  },
  {
   "cell_type": "code",
   "execution_count": 3,
   "id": "74a0cbb6",
   "metadata": {},
   "outputs": [],
   "source": [
    "#Answer 6: For gender feature i will use nominal/one-hot encoder as there is no rank for gender. On education level ordinal\n",
    "#Encoder will be used as one level of education is gretaer than other so it's creating a ranking and for employment\n",
    "#nominal/one-hot encoder will be used as prt-time or full time cannot be ranked."
   ]
  },
  {
   "cell_type": "code",
   "execution_count": 4,
   "id": "e40dc5f6",
   "metadata": {},
   "outputs": [],
   "source": [
    "#Answer 7: For analyzing the covariance dataset is requeired which is not given and not reffered."
   ]
  },
  {
   "cell_type": "code",
   "execution_count": null,
   "id": "4c257a35",
   "metadata": {},
   "outputs": [],
   "source": []
  }
 ],
 "metadata": {
  "kernelspec": {
   "display_name": "Python 3 (ipykernel)",
   "language": "python",
   "name": "python3"
  },
  "language_info": {
   "codemirror_mode": {
    "name": "ipython",
    "version": 3
   },
   "file_extension": ".py",
   "mimetype": "text/x-python",
   "name": "python",
   "nbconvert_exporter": "python",
   "pygments_lexer": "ipython3",
   "version": "3.11.3"
  }
 },
 "nbformat": 4,
 "nbformat_minor": 5
}
